{
 "cells": [
  {
   "cell_type": "code",
   "execution_count": 42,
   "metadata": {},
   "outputs": [],
   "source": [
    "server = 'irc.chat.twitch.tv'\n",
    "port = 6667\n",
    "nickname = 'thisismytwitchacct'\n",
    "token = 'oauth:jqnxo3ws5oxj19qb5ajr3koryelz68'\n",
    "channel = '#dogdog'"
   ]
  },
  {
   "cell_type": "markdown",
   "metadata": {},
   "source": [
    "# Connection to Twitch IRC\n",
    "\n",
    "To establish a connection to Twitch IRC we'll be using Python's socket library. First we need to instantiate a socket:"
   ]
  },
  {
   "cell_type": "code",
   "execution_count": 43,
   "metadata": {},
   "outputs": [],
   "source": [
    "import socket\n",
    "\n",
    "sock = socket.socket()"
   ]
  },
  {
   "cell_type": "markdown",
   "metadata": {},
   "source": [
    "Next we'll connect this socket to Twitch by calling connect() with the server and port we defined above:"
   ]
  },
  {
   "cell_type": "code",
   "execution_count": 44,
   "metadata": {},
   "outputs": [],
   "source": [
    "sock.connect((server, port))"
   ]
  },
  {
   "cell_type": "markdown",
   "metadata": {},
   "source": [
    "Once connected, we need to send our token and nickname for authentication, and the channel to connect to over the socket.  \n",
    "  \n",
    "\n",
    "With sockets, we need to send() these parameters as encoded strings:"
   ]
  },
  {
   "cell_type": "code",
   "execution_count": 45,
   "metadata": {},
   "outputs": [
    {
     "data": {
      "text/plain": [
       "13"
      ]
     },
     "execution_count": 45,
     "metadata": {},
     "output_type": "execute_result"
    }
   ],
   "source": [
    "sock.send(f\"PASS {token}\\n\".encode('utf-8'))\n",
    "sock.send(f\"NICK {nickname}\\n\".encode('utf-8'))\n",
    "sock.send(f\"JOIN {channel}\\n\".encode('utf-8'))"
   ]
  },
  {
   "cell_type": "markdown",
   "metadata": {},
   "source": [
    "PASS carries our token, NICK carries our username, and JOIN carries the channel. These terms are actually common among many IRC connections, not just Twitch. So you should be able to use this for other IRC you wish to connect to, but with different values.\n",
    "\n",
    "Note that we send encoded strings by calling .encode('utf-8'). This encodes the string into bytes which allows it to be sent over the socket."
   ]
  },
  {
   "cell_type": "markdown",
   "metadata": {},
   "source": [
    "# Receiving channel messages"
   ]
  },
  {
   "cell_type": "markdown",
   "metadata": {},
   "source": [
    "Now we have successfully connected and can receive responses from the channel we subscribed to. To get a single response we can call .recv() and then decode the message from bytes:"
   ]
  },
  {
   "cell_type": "code",
   "execution_count": 46,
   "metadata": {},
   "outputs": [
    {
     "data": {
      "text/plain": [
       "':tmi.twitch.tv 001 thisismytwitchacct :Welcome, GLHF!\\r\\n:tmi.twitch.tv 002 thisismytwitchacct :Your host is tmi.twitch.tv\\r\\n:tmi.twitch.tv 003 thisismytwitchacct :This server is rather new\\r\\n:tmi.twitch.tv 004 thisismytwitchacct :-\\r\\n:tmi.twitch.tv 375 thisismytwitchacct :-\\r\\n:tmi.twitch.tv 372 thisismytwitchacct :You are in a maze of twisty passages, all alike.\\r\\n:tmi.twitch.tv 376 thisismytwitchacct :>\\r\\n'"
      ]
     },
     "execution_count": 46,
     "metadata": {},
     "output_type": "execute_result"
    }
   ],
   "source": [
    "resp = sock.recv(2048).decode('utf-8')\n",
    "\n",
    "resp"
   ]
  },
  {
   "cell_type": "markdown",
   "metadata": {},
   "source": [
    "Note: running this the first time will show a welcome message from Twitch. Run it again to show the first message from the channel."
   ]
  },
  {
   "cell_type": "markdown",
   "metadata": {},
   "source": [
    "Example output (if you were to connect to Ninja's stream):\n",
    "                \n",
    "```\n",
    "':spappygram!spappygram@spappygram.tmi.twitch.tv PRIVMSG #ninja :Chat, let Ninja play solos if he wants. His friends can get in contact with him.\\r\\n'\n",
    "```"
   ]
  },
  {
   "cell_type": "markdown",
   "metadata": {},
   "source": [
    "The 2048 is the buffer size in bytes, or the amount of data to receive. The convention is to use small powers of 2, so 1024, 2048, 4096, etc. Rerunning the above will receive the next message that was pushed to the socket."
   ]
  },
  {
   "cell_type": "markdown",
   "metadata": {},
   "source": [
    "If we need to close and/or reopen the socket just use:\n",
    "    \n",
    "    sock.close()"
   ]
  },
  {
   "cell_type": "markdown",
   "metadata": {},
   "source": [
    "# Writing messages to a file\n",
    "Right now, our socket is being inundated with responses from Twitch but we have two problems:\n",
    "\n",
    "We need to continuously check for new messages\n",
    "We want to log the messages as they come in\n",
    "To fix, we'll use a loop to check for new messages while the socket is open and use Python's logging library to log messages to a file.\n",
    "\n",
    "First, let's set up a basic logger in Python that will write messages to a file:"
   ]
  },
  {
   "cell_type": "code",
   "execution_count": 47,
   "metadata": {},
   "outputs": [],
   "source": [
    "import logging\n",
    "\n",
    "logging.basicConfig(level=logging.DEBUG,\n",
    "                    format='%(asctime)s — %(message)s',\n",
    "                    datefmt='%Y-%m-%d_%H:%M:%S',\n",
    "                    handlers=[logging.FileHandler('chat.log', encoding='utf-8')])"
   ]
  },
  {
   "cell_type": "markdown",
   "metadata": {},
   "source": [
    "We're setting the log level to DEBUG, which allows all levels of logging to be written to the file. The format is how we want each line to look, which will be the time we recorded the line and message from the channel separated by an em dash. The datefmt is how we want the time portion of the format to be recorded (example below).\n",
    "\n",
    "Finally, we pass a FileHandler to handlers. We could give it multiple handlers to, for example we could add another handler that prints messages to the console. In this case, we're logging to chat.log, which will be created by the handler. Since we're passing a plain filename without a path, the handler will create this file in the current directory. Later on we'll make this filename dynamic to create separate logs for different channels.\n",
    "\n",
    "Let's log the response we received earlier to test it out:"
   ]
  },
  {
   "cell_type": "code",
   "execution_count": 48,
   "metadata": {},
   "outputs": [],
   "source": [
    "logging.info(resp)"
   ]
  },
  {
   "cell_type": "markdown",
   "metadata": {},
   "source": [
    "You can check your log wherever you saved the chat.log file"
   ]
  },
  {
   "cell_type": "markdown",
   "metadata": {},
   "source": [
    "So we have the time the message was logged at the beginning, a double dash separator, and then the message. This format corresponds to the format argument we used in basicConfig.\n",
    "\n",
    "Later, we'll be parsing these each message and use the time as a piece of data to explore."
   ]
  },
  {
   "cell_type": "markdown",
   "metadata": {},
   "source": [
    "# Continuous message writing\n",
    "Now on to continuously checking for new messages in a loop.\n",
    "\n",
    "When we're connected to the socket, Twitch (and other IRC) will periodically send a keyword — \"PING\" — to check if you're still using the connection. We want to check for this keyword, and send an appropriate response — \"PONG\".\n",
    "\n",
    "One other thing we'll do is parse emojis so they can be written to a file. To do this, we'll use the emoji library that will provide a mapping from emojis to their meaning in words. For example, if a 👍 shows up in a message it'll be converted to :thumbs_up:.\n",
    "\n",
    "The following is a while loop that will continuously check for new messages from the socket, send a PONG if necessary, and log messages with parsed emojis:\n",
    "\n"
   ]
  },
  {
   "cell_type": "code",
   "execution_count": 49,
   "metadata": {},
   "outputs": [
    {
     "ename": "KeyboardInterrupt",
     "evalue": "",
     "output_type": "error",
     "traceback": [
      "\u001b[0;31m---------------------------------------------------------------------------\u001b[0m",
      "\u001b[0;31mKeyboardInterrupt\u001b[0m                         Traceback (most recent call last)",
      "\u001b[0;32m<ipython-input-49-61581d213fbb>\u001b[0m in \u001b[0;36m<module>\u001b[0;34m\u001b[0m\n\u001b[1;32m      2\u001b[0m \u001b[0;34m\u001b[0m\u001b[0m\n\u001b[1;32m      3\u001b[0m \u001b[0;32mwhile\u001b[0m \u001b[0;32mTrue\u001b[0m\u001b[0;34m:\u001b[0m\u001b[0;34m\u001b[0m\u001b[0;34m\u001b[0m\u001b[0m\n\u001b[0;32m----> 4\u001b[0;31m     \u001b[0mresp\u001b[0m \u001b[0;34m=\u001b[0m \u001b[0msock\u001b[0m\u001b[0;34m.\u001b[0m\u001b[0mrecv\u001b[0m\u001b[0;34m(\u001b[0m\u001b[0;36m2048\u001b[0m\u001b[0;34m)\u001b[0m\u001b[0;34m.\u001b[0m\u001b[0mdecode\u001b[0m\u001b[0;34m(\u001b[0m\u001b[0;34m'utf-8'\u001b[0m\u001b[0;34m)\u001b[0m\u001b[0;34m\u001b[0m\u001b[0;34m\u001b[0m\u001b[0m\n\u001b[0m\u001b[1;32m      5\u001b[0m \u001b[0;34m\u001b[0m\u001b[0m\n\u001b[1;32m      6\u001b[0m     \u001b[0;32mif\u001b[0m \u001b[0mresp\u001b[0m\u001b[0;34m.\u001b[0m\u001b[0mstartswith\u001b[0m\u001b[0;34m(\u001b[0m\u001b[0;34m'PING'\u001b[0m\u001b[0;34m)\u001b[0m\u001b[0;34m:\u001b[0m\u001b[0;34m\u001b[0m\u001b[0;34m\u001b[0m\u001b[0m\n",
      "\u001b[0;31mKeyboardInterrupt\u001b[0m: "
     ]
    }
   ],
   "source": [
    "from emoji import demojize\n",
    "\n",
    "while True:\n",
    "    resp = sock.recv(2048).decode('utf-8')\n",
    "\n",
    "    if resp.startswith('PING'):\n",
    "        sock.send(\"PONG\\n\".encode('utf-8'))\n",
    "    \n",
    "    elif len(resp) > 0:\n",
    "        logging.info(demojize(resp))\n",
    "        \n",
    "#you have to manually end this one or else it keeps running"
   ]
  },
  {
   "cell_type": "markdown",
   "metadata": {},
   "source": [
    "This will keep running until you stop it. To see the messages in real-time open a new terminal, navigate to the log's location, and run:\n",
    "\n",
    "tail -f chat.log"
   ]
  },
  {
   "cell_type": "markdown",
   "metadata": {},
   "source": [
    "# Parsing logs\n",
    "Our goal for this section is to parse the chat log into a pandas DataFrame to prepare for analysis\n",
    "\n",
    "The columns we'd like to have for analysis are:\n",
    "\n",
    "date and time\n",
    "sender's username\n",
    "and the message\n",
    "We'll need to parse the information from each line, so let's look at an example line again:"
   ]
  },
  {
   "cell_type": "code",
   "execution_count": 50,
   "metadata": {},
   "outputs": [],
   "source": [
    "msg = '2019-05-13_11:11:28 — :runejhscape!runejhscape@runejhscape.tmi.twitch.tv PRIVMSG #dogdog :dog you are so cute.'"
   ]
  },
  {
   "cell_type": "code",
   "execution_count": 51,
   "metadata": {},
   "outputs": [
    {
     "data": {
      "text/plain": [
       "datetime.datetime(2019, 5, 13, 11, 11, 28)"
      ]
     },
     "execution_count": 51,
     "metadata": {},
     "output_type": "execute_result"
    }
   ],
   "source": [
    "from datetime import datetime\n",
    "\n",
    "time_logged = msg.split()[0].strip()\n",
    "\n",
    "time_logged = datetime.strptime(time_logged, '%Y-%m-%d_%H:%M:%S')\n",
    "\n",
    "time_logged"
   ]
  },
  {
   "cell_type": "markdown",
   "metadata": {},
   "source": [
    "Great! We have a datetime. Let's parse the rest of the message.\n",
    "\n",
    "Since using an em dash (—, or Right-ALT+0151 on Windows) is sometimes used in chat, we will need to split on it, skip the date, and rejoin with an em dash to ensure the message is the same:\n",
    "\n"
   ]
  },
  {
   "cell_type": "code",
   "execution_count": 52,
   "metadata": {},
   "outputs": [
    {
     "data": {
      "text/plain": [
       "':runejhscape!runejhscape@runejhscape.tmi.twitch.tv PRIVMSG #dogdog :dog you are so cute.'"
      ]
     },
     "execution_count": 52,
     "metadata": {},
     "output_type": "execute_result"
    }
   ],
   "source": [
    "username_message = msg.split('—')[1:]\n",
    "username_message = '—'.join(username_message).strip()\n",
    "\n",
    "username_message"
   ]
  },
  {
   "cell_type": "markdown",
   "metadata": {},
   "source": [
    "The message is structure with a username at the beginning, a '#' denoting the channel, and a colon to say where the message begins."
   ]
  },
  {
   "cell_type": "markdown",
   "metadata": {},
   "source": [
    "Regex is great for this kind of thing. We have three pieces of info we want to extract from a well-formatted string.\n",
    "\n",
    "In the regex search below, each parentheses — (.*) — will capture that part of the string:"
   ]
  },
  {
   "cell_type": "code",
   "execution_count": 53,
   "metadata": {},
   "outputs": [
    {
     "name": "stdout",
     "output_type": "stream",
     "text": [
      "Channel: dogdog \n",
      "Username: runejhscape \n",
      "Message: dog you are so cute.\n"
     ]
    }
   ],
   "source": [
    "import re\n",
    "\n",
    "username, channel, message = re.search(':(.*)\\!.*@.*\\.tmi\\.twitch\\.tv PRIVMSG #(.*) :(.*)', username_message).groups()\n",
    "\n",
    "print(f\"Channel: {channel} \\nUsername: {username} \\nMessage: {message}\")"
   ]
  },
  {
   "cell_type": "markdown",
   "metadata": {},
   "source": [
    "Excellent. Now we have each piece parsed. Let's loop through the entire chat log, parse each line like the example line, and create a DataFrame at the end. If you haven't used DataFrames that much, definitely check out our beginners guide to pandas.\n",
    "\n",
    "Here's it all put together:"
   ]
  },
  {
   "cell_type": "code",
   "execution_count": 54,
   "metadata": {},
   "outputs": [],
   "source": [
    "import pandas as pd\n",
    "\n",
    "def get_chat_dataframe(file):\n",
    "    data = []\n",
    "\n",
    "    with open(file, 'r', encoding='utf-8') as f:\n",
    "        lines = f.read().split('\\n')\n",
    "        \n",
    "        for line in lines:\n",
    "            try:\n",
    "                time_logged = line.split('—')[0].strip()\n",
    "                time_logged = datetime.strptime(time_logged, '%Y-%m-%d_%H:%M:%S')\n",
    "\n",
    "                username_message = line.split('—')[1:]\n",
    "                username_message = '—'.join(username_message).strip()\n",
    "\n",
    "                username, channel, message = re.search(\n",
    "                    ':(.*)\\!.*@.*\\.tmi\\.twitch\\.tv PRIVMSG #(.*) :(.*)', username_message\n",
    "                ).groups()\n",
    "\n",
    "                d = {\n",
    "                    'dt': time_logged,\n",
    "                    'channel': channel,\n",
    "                    'username': username,\n",
    "                    'message': message\n",
    "                }\n",
    "\n",
    "                data.append(d)\n",
    "            \n",
    "            except Exception:\n",
    "                pass\n",
    "            \n",
    "    return pd.DataFrame().from_records(data)\n",
    "        \n",
    "    \n",
    "df = get_chat_dataframe('dogdog_chat.log')"
   ]
  },
  {
   "cell_type": "markdown",
   "metadata": {},
   "source": [
    "Let's quickly view what we have now:"
   ]
  },
  {
   "cell_type": "code",
   "execution_count": 55,
   "metadata": {},
   "outputs": [
    {
     "name": "stdout",
     "output_type": "stream",
     "text": [
      "(576, 3)\n"
     ]
    }
   ],
   "source": [
    "df.set_index('dt', inplace=True)\n",
    "\n",
    "print(df.shape)\n"
   ]
  },
  {
   "cell_type": "code",
   "execution_count": 59,
   "metadata": {},
   "outputs": [],
   "source": [
    "pd.set_option('display.max_colwidth', -1)"
   ]
  },
  {
   "cell_type": "code",
   "execution_count": 62,
   "metadata": {
    "scrolled": true
   },
   "outputs": [
    {
     "data": {
      "text/html": [
       "<div>\n",
       "<style scoped>\n",
       "    .dataframe tbody tr th:only-of-type {\n",
       "        vertical-align: middle;\n",
       "    }\n",
       "\n",
       "    .dataframe tbody tr th {\n",
       "        vertical-align: top;\n",
       "    }\n",
       "\n",
       "    .dataframe thead th {\n",
       "        text-align: right;\n",
       "    }\n",
       "</style>\n",
       "<table border=\"1\" class=\"dataframe\">\n",
       "  <thead>\n",
       "    <tr style=\"text-align: right;\">\n",
       "      <th></th>\n",
       "      <th>channel</th>\n",
       "      <th>message</th>\n",
       "      <th>username</th>\n",
       "    </tr>\n",
       "    <tr>\n",
       "      <th>dt</th>\n",
       "      <th></th>\n",
       "      <th></th>\n",
       "      <th></th>\n",
       "    </tr>\n",
       "  </thead>\n",
       "  <tbody>\n",
       "    <tr>\n",
       "      <th>2019-05-13 11:05:06</th>\n",
       "      <td>dogdog</td>\n",
       "      <td>he swung with pick</td>\n",
       "      <td>dukity</td>\n",
       "    </tr>\n",
       "    <tr>\n",
       "      <th>2019-05-13 11:09:51</th>\n",
       "      <td>dogdog</td>\n",
       "      <td>????</td>\n",
       "      <td>gaarrek</td>\n",
       "    </tr>\n",
       "    <tr>\n",
       "      <th>2019-05-13 11:09:54</th>\n",
       "      <td>dogdog</td>\n",
       "      <td>@dogdog how about a deck like this https://imgur.com/a/lltBrLe ?</td>\n",
       "      <td>neverluckyv1</td>\n",
       "    </tr>\n",
       "    <tr>\n",
       "      <th>2019-05-13 11:09:54</th>\n",
       "      <td>dogdog</td>\n",
       "      <td>do his best LUL</td>\n",
       "      <td>neweyed</td>\n",
       "    </tr>\n",
       "    <tr>\n",
       "      <th>2019-05-13 11:09:54</th>\n",
       "      <td>dogdog</td>\n",
       "      <td>LUL</td>\n",
       "      <td>jkthetryhard</td>\n",
       "    </tr>\n",
       "    <tr>\n",
       "      <th>2019-05-13 11:09:55</th>\n",
       "      <td>dogdog</td>\n",
       "      <td>LUL</td>\n",
       "      <td>morelikestinker</td>\n",
       "    </tr>\n",
       "    <tr>\n",
       "      <th>2019-05-13 11:09:55</th>\n",
       "      <td>dogdog</td>\n",
       "      <td>??? LULW</td>\n",
       "      <td>k1ngzarion</td>\n",
       "    </tr>\n",
       "    <tr>\n",
       "      <th>2019-05-13 11:09:56</th>\n",
       "      <td>dogdog</td>\n",
       "      <td>????</td>\n",
       "      <td>jagema</td>\n",
       "    </tr>\n",
       "    <tr>\n",
       "      <th>2019-05-13 11:09:56</th>\n",
       "      <td>dogdog</td>\n",
       "      <td>why not warpath that again?</td>\n",
       "      <td>tomego2004</td>\n",
       "    </tr>\n",
       "    <tr>\n",
       "      <th>2019-05-13 11:09:56</th>\n",
       "      <td>dogdog</td>\n",
       "      <td>LUL</td>\n",
       "      <td>bdsl3000</td>\n",
       "    </tr>\n",
       "    <tr>\n",
       "      <th>2019-05-13 11:09:57</th>\n",
       "      <td>dogdog</td>\n",
       "      <td>lul</td>\n",
       "      <td>alltimepro</td>\n",
       "    </tr>\n",
       "    <tr>\n",
       "      <th>2019-05-13 11:09:57</th>\n",
       "      <td>dogdog</td>\n",
       "      <td>To live LuL</td>\n",
       "      <td>bcuzme</td>\n",
       "    </tr>\n",
       "    <tr>\n",
       "      <th>2019-05-13 11:09:57</th>\n",
       "      <td>dogdog</td>\n",
       "      <td>LULW</td>\n",
       "      <td>yli_jumala</td>\n",
       "    </tr>\n",
       "    <tr>\n",
       "      <th>2019-05-13 11:09:57</th>\n",
       "      <td>dogdog</td>\n",
       "      <td>needs the armor LUL</td>\n",
       "      <td>pjack777</td>\n",
       "    </tr>\n",
       "    <tr>\n",
       "      <th>2019-05-13 11:09:58</th>\n",
       "      <td>dogdog</td>\n",
       "      <td>WutFace</td>\n",
       "      <td>haven</td>\n",
       "    </tr>\n",
       "    <tr>\n",
       "      <th>2019-05-13 11:09:58</th>\n",
       "      <td>dogdog</td>\n",
       "      <td>LUL</td>\n",
       "      <td>evanito</td>\n",
       "    </tr>\n",
       "    <tr>\n",
       "      <th>2019-05-13 11:09:59</th>\n",
       "      <td>dogdog</td>\n",
       "      <td>2 armor Pog</td>\n",
       "      <td>shikafrecko</td>\n",
       "    </tr>\n",
       "    <tr>\n",
       "      <th>2019-05-13 11:09:59</th>\n",
       "      <td>dogdog</td>\n",
       "      <td>LULW</td>\n",
       "      <td>bubblebubblewreath</td>\n",
       "    </tr>\n",
       "    <tr>\n",
       "      <th>2019-05-13 11:09:59</th>\n",
       "      <td>dogdog</td>\n",
       "      <td>why not just warpath LUL</td>\n",
       "      <td>alchius</td>\n",
       "    </tr>\n",
       "    <tr>\n",
       "      <th>2019-05-13 11:10:00</th>\n",
       "      <td>dogdog</td>\n",
       "      <td>armour Pog</td>\n",
       "      <td>aragonitepaste</td>\n",
       "    </tr>\n",
       "    <tr>\n",
       "      <th>2019-05-13 11:10:00</th>\n",
       "      <td>dogdog</td>\n",
       "      <td>LUL</td>\n",
       "      <td>everythingbutnotmonkas</td>\n",
       "    </tr>\n",
       "    <tr>\n",
       "      <th>2019-05-13 11:10:00</th>\n",
       "      <td>dogdog</td>\n",
       "      <td>LUL</td>\n",
       "      <td>sake6592</td>\n",
       "    </tr>\n",
       "    <tr>\n",
       "      <th>2019-05-13 11:10:00</th>\n",
       "      <td>dogdog</td>\n",
       "      <td>??</td>\n",
       "      <td>ayaya_clap_bot</td>\n",
       "    </tr>\n",
       "    <tr>\n",
       "      <th>2019-05-13 11:10:01</th>\n",
       "      <td>dogdog</td>\n",
       "      <td>hes trying so hard LUL</td>\n",
       "      <td>theking_rex</td>\n",
       "    </tr>\n",
       "    <tr>\n",
       "      <th>2019-05-13 11:10:01</th>\n",
       "      <td>dogdog</td>\n",
       "      <td>He's dead on board otherwise</td>\n",
       "      <td>bcuzme</td>\n",
       "    </tr>\n",
       "    <tr>\n",
       "      <th>2019-05-13 11:10:02</th>\n",
       "      <td>dogdog</td>\n",
       "      <td>wtf that play LUL</td>\n",
       "      <td>razorwindhs</td>\n",
       "    </tr>\n",
       "    <tr>\n",
       "      <th>2019-05-13 11:10:03</th>\n",
       "      <td>dogdog</td>\n",
       "      <td>he could have warpathed</td>\n",
       "      <td>gaarrek</td>\n",
       "    </tr>\n",
       "    <tr>\n",
       "      <th>2019-05-13 11:10:05</th>\n",
       "      <td>dogdog</td>\n",
       "      <td>LULW</td>\n",
       "      <td>lryroth</td>\n",
       "    </tr>\n",
       "    <tr>\n",
       "      <th>2019-05-13 11:10:05</th>\n",
       "      <td>dogdog</td>\n",
       "      <td>just concede OMEGALUL</td>\n",
       "      <td>fvk2008</td>\n",
       "    </tr>\n",
       "    <tr>\n",
       "      <th>2019-05-13 11:10:07</th>\n",
       "      <td>dogdog</td>\n",
       "      <td>save the best for last Pepega</td>\n",
       "      <td>ch1en_</td>\n",
       "    </tr>\n",
       "    <tr>\n",
       "      <th>...</th>\n",
       "      <td>...</td>\n",
       "      <td>...</td>\n",
       "      <td>...</td>\n",
       "    </tr>\n",
       "    <tr>\n",
       "      <th>2019-05-13 11:11:21</th>\n",
       "      <td>dogdog</td>\n",
       "      <td>DansGame</td>\n",
       "      <td>ch1en_</td>\n",
       "    </tr>\n",
       "    <tr>\n",
       "      <th>2019-05-13 11:11:23</th>\n",
       "      <td>dogdog</td>\n",
       "      <td>press 1 if you think twitch should be deleted</td>\n",
       "      <td>syn224</td>\n",
       "    </tr>\n",
       "    <tr>\n",
       "      <th>2019-05-13 11:11:24</th>\n",
       "      <td>dogdog</td>\n",
       "      <td>AYAYA</td>\n",
       "      <td>dennysar</td>\n",
       "    </tr>\n",
       "    <tr>\n",
       "      <th>2019-05-13 11:11:24</th>\n",
       "      <td>dogdog</td>\n",
       "      <td>warrior WeirdChamp</td>\n",
       "      <td>walmartsecurityguard_</td>\n",
       "    </tr>\n",
       "    <tr>\n",
       "      <th>2019-05-13 11:11:27</th>\n",
       "      <td>dogdog</td>\n",
       "      <td>metal deck means winning DansGame</td>\n",
       "      <td>bloonhead</td>\n",
       "    </tr>\n",
       "    <tr>\n",
       "      <th>2019-05-13 11:11:28</th>\n",
       "      <td>dogdog</td>\n",
       "      <td>dog you are so cute.</td>\n",
       "      <td>runejhscape</td>\n",
       "    </tr>\n",
       "    <tr>\n",
       "      <th>2019-05-13 11:11:28</th>\n",
       "      <td>dogdog</td>\n",
       "      <td>@FawkesHSt 4Head</td>\n",
       "      <td>redzed21</td>\n",
       "    </tr>\n",
       "    <tr>\n",
       "      <th>2019-05-13 11:11:30</th>\n",
       "      <td>dogdog :1</td>\n",
       "      <td>)</td>\n",
       "      <td>dukity</td>\n",
       "    </tr>\n",
       "    <tr>\n",
       "      <th>2019-05-13 11:11:31</th>\n",
       "      <td>dogdog</td>\n",
       "      <td>2</td>\n",
       "      <td>bitrun</td>\n",
       "    </tr>\n",
       "    <tr>\n",
       "      <th>2019-05-13 11:11:34</th>\n",
       "      <td>dogdog</td>\n",
       "      <td>3</td>\n",
       "      <td>nice_feed</td>\n",
       "    </tr>\n",
       "    <tr>\n",
       "      <th>2019-05-13 11:11:35</th>\n",
       "      <td>dogdog</td>\n",
       "      <td>AYAYA TU TU RUUUUU CHAT CUTE</td>\n",
       "      <td>multipurple</td>\n",
       "    </tr>\n",
       "    <tr>\n",
       "      <th>2019-05-13 11:11:35</th>\n",
       "      <td>dogdog :1</td>\n",
       "      <td>)</td>\n",
       "      <td>van_darth_haul</td>\n",
       "    </tr>\n",
       "    <tr>\n",
       "      <th>2019-05-13 11:11:36</th>\n",
       "      <td>dogdog</td>\n",
       "      <td>I always imagine making him die out of fatigue like walking while leaving the explosion behind</td>\n",
       "      <td>lollonman</td>\n",
       "    </tr>\n",
       "    <tr>\n",
       "      <th>2019-05-13 11:11:36</th>\n",
       "      <td>dogdog</td>\n",
       "      <td>AYAYA WEEB FWIENDS</td>\n",
       "      <td>viztions</td>\n",
       "    </tr>\n",
       "    <tr>\n",
       "      <th>2019-05-13 11:11:38</th>\n",
       "      <td>dogdog</td>\n",
       "      <td>@FawkesHSt took too long to concede tbh WeirdChamp</td>\n",
       "      <td>haven</td>\n",
       "    </tr>\n",
       "    <tr>\n",
       "      <th>2019-05-13 11:11:40</th>\n",
       "      <td>dogdog</td>\n",
       "      <td>@FawkesHSt 4Head</td>\n",
       "      <td>nightinsider</td>\n",
       "    </tr>\n",
       "    <tr>\n",
       "      <th>2019-05-13 11:11:41</th>\n",
       "      <td>dogdog</td>\n",
       "      <td>Press 1 if you think people should be deleted</td>\n",
       "      <td>everythingbutnotmonkas</td>\n",
       "    </tr>\n",
       "    <tr>\n",
       "      <th>2019-05-13 11:11:43</th>\n",
       "      <td>dogdog</td>\n",
       "      <td>WINNING ResidentSleeper GOING BACK TO RANK 2 PogU</td>\n",
       "      <td>brothermanb</td>\n",
       "    </tr>\n",
       "    <tr>\n",
       "      <th>2019-05-13 11:11:47</th>\n",
       "      <td>dogdog</td>\n",
       "      <td>concede</td>\n",
       "      <td>thehotchili</td>\n",
       "    </tr>\n",
       "    <tr>\n",
       "      <th>2019-05-13 11:11:47</th>\n",
       "      <td>dogdog</td>\n",
       "      <td>11</td>\n",
       "      <td>alienmustard</td>\n",
       "    </tr>\n",
       "    <tr>\n",
       "      <th>2019-05-13 11:11:48</th>\n",
       "      <td>dogdog</td>\n",
       "      <td>CUTIES AYAYA Clap</td>\n",
       "      <td>xsaltfire</td>\n",
       "    </tr>\n",
       "    <tr>\n",
       "      <th>2019-05-13 11:11:48</th>\n",
       "      <td>dogdog</td>\n",
       "      <td>warpath for sure</td>\n",
       "      <td>t3gu</td>\n",
       "    </tr>\n",
       "    <tr>\n",
       "      <th>2019-05-13 11:11:49</th>\n",
       "      <td>dogdog</td>\n",
       "      <td>At least 1 AOE I think</td>\n",
       "      <td>antoine_b0</td>\n",
       "    </tr>\n",
       "    <tr>\n",
       "      <th>2019-05-13 11:11:50</th>\n",
       "      <td>dogdog</td>\n",
       "      <td>keep goblin and warpath</td>\n",
       "      <td>elementfear1626</td>\n",
       "    </tr>\n",
       "    <tr>\n",
       "      <th>2019-05-13 11:11:51</th>\n",
       "      <td>dogdog</td>\n",
       "      <td>concede</td>\n",
       "      <td>runejhscape</td>\n",
       "    </tr>\n",
       "    <tr>\n",
       "      <th>2019-05-13 11:11:52</th>\n",
       "      <td>dogdog</td>\n",
       "      <td>11¹111111¹¹1111</td>\n",
       "      <td>nickshotpye</td>\n",
       "    </tr>\n",
       "    <tr>\n",
       "      <th>2019-05-13 11:11:53</th>\n",
       "      <td>dogdog</td>\n",
       "      <td>waroath</td>\n",
       "      <td>yli_jumala</td>\n",
       "    </tr>\n",
       "    <tr>\n",
       "      <th>2019-05-13 11:11:55</th>\n",
       "      <td>dogdog</td>\n",
       "      <td>no</td>\n",
       "      <td>manicrevv</td>\n",
       "    </tr>\n",
       "    <tr>\n",
       "      <th>2019-05-13 11:11:56</th>\n",
       "      <td>dogdog</td>\n",
       "      <td>toss it</td>\n",
       "      <td>ayaya_clap_bot</td>\n",
       "    </tr>\n",
       "    <tr>\n",
       "      <th>2019-05-13 11:11:57</th>\n",
       "      <td>dogdog :town crier</td>\n",
       "      <td>)</td>\n",
       "      <td>nice_feed</td>\n",
       "    </tr>\n",
       "  </tbody>\n",
       "</table>\n",
       "<p>120 rows × 3 columns</p>\n",
       "</div>"
      ],
      "text/plain": [
       "                                channel  \\\n",
       "dt                                        \n",
       "2019-05-13 11:05:06  dogdog               \n",
       "2019-05-13 11:09:51  dogdog               \n",
       "2019-05-13 11:09:54  dogdog               \n",
       "2019-05-13 11:09:54  dogdog               \n",
       "2019-05-13 11:09:54  dogdog               \n",
       "2019-05-13 11:09:55  dogdog               \n",
       "2019-05-13 11:09:55  dogdog               \n",
       "2019-05-13 11:09:56  dogdog               \n",
       "2019-05-13 11:09:56  dogdog               \n",
       "2019-05-13 11:09:56  dogdog               \n",
       "2019-05-13 11:09:57  dogdog               \n",
       "2019-05-13 11:09:57  dogdog               \n",
       "2019-05-13 11:09:57  dogdog               \n",
       "2019-05-13 11:09:57  dogdog               \n",
       "2019-05-13 11:09:58  dogdog               \n",
       "2019-05-13 11:09:58  dogdog               \n",
       "2019-05-13 11:09:59  dogdog               \n",
       "2019-05-13 11:09:59  dogdog               \n",
       "2019-05-13 11:09:59  dogdog               \n",
       "2019-05-13 11:10:00  dogdog               \n",
       "2019-05-13 11:10:00  dogdog               \n",
       "2019-05-13 11:10:00  dogdog               \n",
       "2019-05-13 11:10:00  dogdog               \n",
       "2019-05-13 11:10:01  dogdog               \n",
       "2019-05-13 11:10:01  dogdog               \n",
       "2019-05-13 11:10:02  dogdog               \n",
       "2019-05-13 11:10:03  dogdog               \n",
       "2019-05-13 11:10:05  dogdog               \n",
       "2019-05-13 11:10:05  dogdog               \n",
       "2019-05-13 11:10:07  dogdog               \n",
       "...                     ...               \n",
       "2019-05-13 11:11:21  dogdog               \n",
       "2019-05-13 11:11:23  dogdog               \n",
       "2019-05-13 11:11:24  dogdog               \n",
       "2019-05-13 11:11:24  dogdog               \n",
       "2019-05-13 11:11:27  dogdog               \n",
       "2019-05-13 11:11:28  dogdog               \n",
       "2019-05-13 11:11:28  dogdog               \n",
       "2019-05-13 11:11:30  dogdog :1            \n",
       "2019-05-13 11:11:31  dogdog               \n",
       "2019-05-13 11:11:34  dogdog               \n",
       "2019-05-13 11:11:35  dogdog               \n",
       "2019-05-13 11:11:35  dogdog :1            \n",
       "2019-05-13 11:11:36  dogdog               \n",
       "2019-05-13 11:11:36  dogdog               \n",
       "2019-05-13 11:11:38  dogdog               \n",
       "2019-05-13 11:11:40  dogdog               \n",
       "2019-05-13 11:11:41  dogdog               \n",
       "2019-05-13 11:11:43  dogdog               \n",
       "2019-05-13 11:11:47  dogdog               \n",
       "2019-05-13 11:11:47  dogdog               \n",
       "2019-05-13 11:11:48  dogdog               \n",
       "2019-05-13 11:11:48  dogdog               \n",
       "2019-05-13 11:11:49  dogdog               \n",
       "2019-05-13 11:11:50  dogdog               \n",
       "2019-05-13 11:11:51  dogdog               \n",
       "2019-05-13 11:11:52  dogdog               \n",
       "2019-05-13 11:11:53  dogdog               \n",
       "2019-05-13 11:11:55  dogdog               \n",
       "2019-05-13 11:11:56  dogdog               \n",
       "2019-05-13 11:11:57  dogdog :town crier   \n",
       "\n",
       "                                                                                                            message  \\\n",
       "dt                                                                                                                    \n",
       "2019-05-13 11:05:06  he swung with pick                                                                               \n",
       "2019-05-13 11:09:51  ????                                                                                             \n",
       "2019-05-13 11:09:54  @dogdog how about a deck like this https://imgur.com/a/lltBrLe ?                                 \n",
       "2019-05-13 11:09:54  do his best LUL                                                                                  \n",
       "2019-05-13 11:09:54  LUL                                                                                              \n",
       "2019-05-13 11:09:55  LUL                                                                                              \n",
       "2019-05-13 11:09:55  ??? LULW                                                                                         \n",
       "2019-05-13 11:09:56  ????                                                                                             \n",
       "2019-05-13 11:09:56  why not warpath that again?                                                                      \n",
       "2019-05-13 11:09:56  LUL                                                                                              \n",
       "2019-05-13 11:09:57  lul                                                                                              \n",
       "2019-05-13 11:09:57  To live LuL                                                                                      \n",
       "2019-05-13 11:09:57  LULW                                                                                             \n",
       "2019-05-13 11:09:57  needs the armor LUL                                                                              \n",
       "2019-05-13 11:09:58  WutFace                                                                                          \n",
       "2019-05-13 11:09:58  LUL                                                                                              \n",
       "2019-05-13 11:09:59  2 armor Pog                                                                                      \n",
       "2019-05-13 11:09:59  LULW                                                                                             \n",
       "2019-05-13 11:09:59  why not just warpath LUL                                                                         \n",
       "2019-05-13 11:10:00  armour Pog                                                                                       \n",
       "2019-05-13 11:10:00  LUL                                                                                              \n",
       "2019-05-13 11:10:00  LUL                                                                                              \n",
       "2019-05-13 11:10:00  ??                                                                                               \n",
       "2019-05-13 11:10:01  hes trying so hard LUL                                                                           \n",
       "2019-05-13 11:10:01  He's dead on board otherwise                                                                     \n",
       "2019-05-13 11:10:02  wtf that play LUL                                                                                \n",
       "2019-05-13 11:10:03  he could have warpathed                                                                          \n",
       "2019-05-13 11:10:05  LULW                                                                                             \n",
       "2019-05-13 11:10:05  just concede OMEGALUL                                                                            \n",
       "2019-05-13 11:10:07  save the best for last Pepega                                                                    \n",
       "...                                    ...                                                                            \n",
       "2019-05-13 11:11:21  DansGame                                                                                         \n",
       "2019-05-13 11:11:23  press 1 if you think twitch should be deleted                                                    \n",
       "2019-05-13 11:11:24  AYAYA                                                                                            \n",
       "2019-05-13 11:11:24  warrior WeirdChamp                                                                               \n",
       "2019-05-13 11:11:27  metal deck means winning DansGame                                                                \n",
       "2019-05-13 11:11:28  dog you are so cute.                                                                             \n",
       "2019-05-13 11:11:28  @FawkesHSt 4Head                                                                                 \n",
       "2019-05-13 11:11:30  )                                                                                                \n",
       "2019-05-13 11:11:31  2                                                                                                \n",
       "2019-05-13 11:11:34  3                                                                                                \n",
       "2019-05-13 11:11:35  AYAYA TU TU RUUUUU CHAT CUTE                                                                     \n",
       "2019-05-13 11:11:35  )                                                                                                \n",
       "2019-05-13 11:11:36  I always imagine making him die out of fatigue like walking while leaving the explosion behind   \n",
       "2019-05-13 11:11:36  AYAYA WEEB FWIENDS                                                                               \n",
       "2019-05-13 11:11:38  @FawkesHSt took too long to concede tbh WeirdChamp                                               \n",
       "2019-05-13 11:11:40  @FawkesHSt 4Head                                                                                 \n",
       "2019-05-13 11:11:41  Press 1 if you think people should be deleted                                                    \n",
       "2019-05-13 11:11:43  WINNING ResidentSleeper GOING BACK TO RANK 2 PogU                                                \n",
       "2019-05-13 11:11:47  concede                                                                                          \n",
       "2019-05-13 11:11:47  11                                                                                               \n",
       "2019-05-13 11:11:48  CUTIES AYAYA Clap                                                                                \n",
       "2019-05-13 11:11:48  warpath for sure                                                                                 \n",
       "2019-05-13 11:11:49  At least 1 AOE I think                                                                           \n",
       "2019-05-13 11:11:50  keep goblin and warpath                                                                          \n",
       "2019-05-13 11:11:51  concede                                                                                          \n",
       "2019-05-13 11:11:52  11¹111111¹¹1111                                                                                  \n",
       "2019-05-13 11:11:53  waroath                                                                                          \n",
       "2019-05-13 11:11:55  no                                                                                               \n",
       "2019-05-13 11:11:56  toss it                                                                                          \n",
       "2019-05-13 11:11:57  )                                                                                                \n",
       "\n",
       "                                   username  \n",
       "dt                                           \n",
       "2019-05-13 11:05:06  dukity                  \n",
       "2019-05-13 11:09:51  gaarrek                 \n",
       "2019-05-13 11:09:54  neverluckyv1            \n",
       "2019-05-13 11:09:54  neweyed                 \n",
       "2019-05-13 11:09:54  jkthetryhard            \n",
       "2019-05-13 11:09:55  morelikestinker         \n",
       "2019-05-13 11:09:55  k1ngzarion              \n",
       "2019-05-13 11:09:56  jagema                  \n",
       "2019-05-13 11:09:56  tomego2004              \n",
       "2019-05-13 11:09:56  bdsl3000                \n",
       "2019-05-13 11:09:57  alltimepro              \n",
       "2019-05-13 11:09:57  bcuzme                  \n",
       "2019-05-13 11:09:57  yli_jumala              \n",
       "2019-05-13 11:09:57  pjack777                \n",
       "2019-05-13 11:09:58  haven                   \n",
       "2019-05-13 11:09:58  evanito                 \n",
       "2019-05-13 11:09:59  shikafrecko             \n",
       "2019-05-13 11:09:59  bubblebubblewreath      \n",
       "2019-05-13 11:09:59  alchius                 \n",
       "2019-05-13 11:10:00  aragonitepaste          \n",
       "2019-05-13 11:10:00  everythingbutnotmonkas  \n",
       "2019-05-13 11:10:00  sake6592                \n",
       "2019-05-13 11:10:00  ayaya_clap_bot          \n",
       "2019-05-13 11:10:01  theking_rex             \n",
       "2019-05-13 11:10:01  bcuzme                  \n",
       "2019-05-13 11:10:02  razorwindhs             \n",
       "2019-05-13 11:10:03  gaarrek                 \n",
       "2019-05-13 11:10:05  lryroth                 \n",
       "2019-05-13 11:10:05  fvk2008                 \n",
       "2019-05-13 11:10:07  ch1en_                  \n",
       "...                      ...                 \n",
       "2019-05-13 11:11:21  ch1en_                  \n",
       "2019-05-13 11:11:23  syn224                  \n",
       "2019-05-13 11:11:24  dennysar                \n",
       "2019-05-13 11:11:24  walmartsecurityguard_   \n",
       "2019-05-13 11:11:27  bloonhead               \n",
       "2019-05-13 11:11:28  runejhscape             \n",
       "2019-05-13 11:11:28  redzed21                \n",
       "2019-05-13 11:11:30  dukity                  \n",
       "2019-05-13 11:11:31  bitrun                  \n",
       "2019-05-13 11:11:34  nice_feed               \n",
       "2019-05-13 11:11:35  multipurple             \n",
       "2019-05-13 11:11:35  van_darth_haul          \n",
       "2019-05-13 11:11:36  lollonman               \n",
       "2019-05-13 11:11:36  viztions                \n",
       "2019-05-13 11:11:38  haven                   \n",
       "2019-05-13 11:11:40  nightinsider            \n",
       "2019-05-13 11:11:41  everythingbutnotmonkas  \n",
       "2019-05-13 11:11:43  brothermanb             \n",
       "2019-05-13 11:11:47  thehotchili             \n",
       "2019-05-13 11:11:47  alienmustard            \n",
       "2019-05-13 11:11:48  xsaltfire               \n",
       "2019-05-13 11:11:48  t3gu                    \n",
       "2019-05-13 11:11:49  antoine_b0              \n",
       "2019-05-13 11:11:50  elementfear1626         \n",
       "2019-05-13 11:11:51  runejhscape             \n",
       "2019-05-13 11:11:52  nickshotpye             \n",
       "2019-05-13 11:11:53  yli_jumala              \n",
       "2019-05-13 11:11:55  manicrevv               \n",
       "2019-05-13 11:11:56  ayaya_clap_bot          \n",
       "2019-05-13 11:11:57  nice_feed               \n",
       "\n",
       "[120 rows x 3 columns]"
      ]
     },
     "execution_count": 62,
     "metadata": {},
     "output_type": "execute_result"
    }
   ],
   "source": [
    "df.head(120)"
   ]
  },
  {
   "cell_type": "markdown",
   "metadata": {},
   "source": [
    "Just from streaming messages over a couple of hours we have over 10,000 rows in our DataFrame.\n",
    "\n",
    "Here's a few basic questions I'm particularly interested in:\n",
    "\n",
    "Which user commented the most during this time period?\n",
    "Which commands — words that start with ! — were used the most?\n",
    "What are the most used emotes and emojis?\n",
    "We'll use this dataset in the next article to explore these questions and more."
   ]
  },
  {
   "cell_type": "markdown",
   "metadata": {},
   "source": [
    "# From here\n",
    "We've create a basic script to monitor a single channel on Twitch and successfully parsed the data into a DataFrame.\n",
    "\n",
    "There's still many improvements that can be made. For example:\n",
    "\n",
    "Variable logging file for monitoring and comparing different channels\n",
    "Use Twitch API to retrieve live and popular channels under certain games\n",
    "Generalize script to stream chat from multiple channels at once\n",
    "Plus we need to answer those questions mentioned above and more."
   ]
  },
  {
   "cell_type": "code",
   "execution_count": 58,
   "metadata": {},
   "outputs": [],
   "source": [
    "sock.close() #closes the connection"
   ]
  },
  {
   "cell_type": "code",
   "execution_count": null,
   "metadata": {},
   "outputs": [],
   "source": []
  }
 ],
 "metadata": {
  "kernelspec": {
   "display_name": "Python 3",
   "language": "python",
   "name": "python3"
  },
  "language_info": {
   "codemirror_mode": {
    "name": "ipython",
    "version": 3
   },
   "file_extension": ".py",
   "mimetype": "text/x-python",
   "name": "python",
   "nbconvert_exporter": "python",
   "pygments_lexer": "ipython3",
   "version": "3.7.3"
  }
 },
 "nbformat": 4,
 "nbformat_minor": 2
}
