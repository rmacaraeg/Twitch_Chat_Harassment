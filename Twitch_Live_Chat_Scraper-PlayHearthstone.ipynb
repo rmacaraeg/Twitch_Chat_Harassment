{
 "cells": [
  {
   "cell_type": "code",
   "execution_count": 1,
   "metadata": {},
   "outputs": [],
   "source": [
    "server = 'irc.chat.twitch.tv'\n",
    "port = 6667\n",
    "nickname = 'thisismytwitchacct'\n",
    "token = 'oauth:74cv21sxrv9e9a26j41b43urkk3gy5'\n",
    "channel = '#playhearthstone' #Rise of Shadows tournament event\n",
    "chat = 'playhearthstone_chat.log'"
   ]
  },
  {
   "cell_type": "markdown",
   "metadata": {},
   "source": [
    "# Connection to Twitch IRC\n",
    "\n",
    "To establish a connection to Twitch IRC we'll be using Python's socket library. First we need to instantiate a socket:"
   ]
  },
  {
   "cell_type": "code",
   "execution_count": 2,
   "metadata": {},
   "outputs": [],
   "source": [
    "import socket\n",
    "\n",
    "sock = socket.socket()"
   ]
  },
  {
   "cell_type": "markdown",
   "metadata": {},
   "source": [
    "Next we'll connect this socket to Twitch by calling connect() with the server and port we defined above:"
   ]
  },
  {
   "cell_type": "code",
   "execution_count": 3,
   "metadata": {},
   "outputs": [],
   "source": [
    "sock.connect((server, port))"
   ]
  },
  {
   "cell_type": "markdown",
   "metadata": {},
   "source": [
    "Once connected, we need to send our token and nickname for authentication, and the channel to connect to over the socket.  \n",
    "  \n",
    "\n",
    "With sockets, we need to send() these parameters as encoded strings:"
   ]
  },
  {
   "cell_type": "code",
   "execution_count": 4,
   "metadata": {},
   "outputs": [
    {
     "data": {
      "text/plain": [
       "22"
      ]
     },
     "execution_count": 4,
     "metadata": {},
     "output_type": "execute_result"
    }
   ],
   "source": [
    "sock.send(f\"PASS {token}\\n\".encode('utf-8'))\n",
    "sock.send(f\"NICK {nickname}\\n\".encode('utf-8'))\n",
    "sock.send(f\"JOIN {channel}\\n\".encode('utf-8'))"
   ]
  },
  {
   "cell_type": "markdown",
   "metadata": {},
   "source": [
    "PASS carries our token, NICK carries our username, and JOIN carries the channel. These terms are actually common among many IRC connections, not just Twitch. So you should be able to use this for other IRC you wish to connect to, but with different values.\n",
    "\n",
    "Note that we send encoded strings by calling .encode('utf-8'). This encodes the string into bytes which allows it to be sent over the socket."
   ]
  },
  {
   "cell_type": "markdown",
   "metadata": {},
   "source": [
    "# Receiving channel messages"
   ]
  },
  {
   "cell_type": "markdown",
   "metadata": {},
   "source": [
    "Now we have successfully connected and can receive responses from the channel we subscribed to. To get a single response we can call .recv() and then decode the message from bytes:"
   ]
  },
  {
   "cell_type": "code",
   "execution_count": 6,
   "metadata": {},
   "outputs": [
    {
     "data": {
      "text/plain": [
       "':hakk97!hakk97@hakk97.tmi.twitch.tv PRIVMSG #playhearthstone :LOW RANK PLAYS LUL\\r\\n:man_bean!man_bean@man_bean.tmi.twitch.tv PRIVMSG #playhearthstone :LUL\\r\\n:da_vi!da_vi@da_vi.tmi.twitch.tv PRIVMSG #playhearthstone :ORDER LUL\\r\\n:nphibious!nphibious@nphibious.tmi.twitch.tv PRIVMSG #playhearthstone :Order\\r\\n:tike_iku!tike_iku@tike_iku.tmi.twitch.tv PRIVMSG #playhearthstone :RIGGED\\r\\n'"
      ]
     },
     "execution_count": 6,
     "metadata": {},
     "output_type": "execute_result"
    }
   ],
   "source": [
    "resp = sock.recv(2048).decode('utf-8')\n",
    "\n",
    "resp #run this cell twice"
   ]
  },
  {
   "cell_type": "markdown",
   "metadata": {},
   "source": [
    "Note: running this the first time will show a welcome message from Twitch. Run it again to show the first message from the channel."
   ]
  },
  {
   "cell_type": "markdown",
   "metadata": {},
   "source": [
    "Example output (if you were to connect to Ninja's stream):\n",
    "                \n",
    "```\n",
    "':spappygram!spappygram@spappygram.tmi.twitch.tv PRIVMSG #ninja :Chat, let Ninja play solos if he wants. His friends can get in contact with him.\\r\\n'\n",
    "```"
   ]
  },
  {
   "cell_type": "markdown",
   "metadata": {},
   "source": [
    "The 2048 is the buffer size in bytes, or the amount of data to receive. The convention is to use small powers of 2, so 1024, 2048, 4096, etc. Rerunning the above will receive the next message that was pushed to the socket."
   ]
  },
  {
   "cell_type": "markdown",
   "metadata": {},
   "source": [
    "If we need to close and/or reopen the socket just use:\n",
    "    \n",
    "    sock.close()"
   ]
  },
  {
   "cell_type": "markdown",
   "metadata": {},
   "source": [
    "# Writing messages to a file\n",
    "Right now, our socket is being inundated with responses from Twitch but we have two problems:\n",
    "\n",
    "We need to continuously check for new messages\n",
    "We want to log the messages as they come in\n",
    "To fix, we'll use a loop to check for new messages while the socket is open and use Python's logging library to log messages to a file.\n",
    "\n",
    "First, let's set up a basic logger in Python that will write messages to a file:"
   ]
  },
  {
   "cell_type": "code",
   "execution_count": 7,
   "metadata": {},
   "outputs": [],
   "source": [
    "import logging\n",
    "\n",
    "logging.basicConfig(level=logging.DEBUG,\n",
    "                    format='%(asctime)s — %(message)s',\n",
    "                    datefmt='%Y-%m-%d_%H:%M:%S',\n",
    "                    handlers=[logging.FileHandler(chat, encoding='utf-8')])"
   ]
  },
  {
   "cell_type": "markdown",
   "metadata": {},
   "source": [
    "We're setting the log level to DEBUG, which allows all levels of logging to be written to the file. The format is how we want each line to look, which will be the time we recorded the line and message from the channel separated by an em dash. The datefmt is how we want the time portion of the format to be recorded (example below).\n",
    "\n",
    "Finally, we pass a FileHandler to handlers. We could give it multiple handlers to, for example we could add another handler that prints messages to the console. In this case, we're logging to chat.log, which will be created by the handler. Since we're passing a plain filename without a path, the handler will create this file in the current directory. Later on we'll make this filename dynamic to create separate logs for different channels.\n",
    "\n",
    "Let's log the response we received earlier to test it out:"
   ]
  },
  {
   "cell_type": "code",
   "execution_count": 8,
   "metadata": {},
   "outputs": [],
   "source": [
    "logging.info(resp)"
   ]
  },
  {
   "cell_type": "markdown",
   "metadata": {},
   "source": [
    "You can check your log wherever you saved the chat.log file"
   ]
  },
  {
   "cell_type": "markdown",
   "metadata": {},
   "source": [
    "So we have the time the message was logged at the beginning, a double dash separator, and then the message. This format corresponds to the format argument we used in basicConfig.\n",
    "\n",
    "Later, we'll be parsing these each message and use the time as a piece of data to explore."
   ]
  },
  {
   "cell_type": "markdown",
   "metadata": {},
   "source": [
    "# Continuous message writing\n",
    "Now on to continuously checking for new messages in a loop.\n",
    "\n",
    "When we're connected to the socket, Twitch (and other IRC) will periodically send a keyword — \"PING\" — to check if you're still using the connection. We want to check for this keyword, and send an appropriate response — \"PONG\".\n",
    "\n",
    "One other thing we'll do is parse emojis so they can be written to a file. To do this, we'll use the emoji library that will provide a mapping from emojis to their meaning in words. For example, if a 👍 shows up in a message it'll be converted to :thumbs_up:.\n",
    "\n",
    "The following is a while loop that will continuously check for new messages from the socket, send a PONG if necessary, and log messages with parsed emojis:\n",
    "\n"
   ]
  },
  {
   "cell_type": "code",
   "execution_count": 9,
   "metadata": {},
   "outputs": [
    {
     "ename": "UnicodeDecodeError",
     "evalue": "'utf-8' codec can't decode byte 0xe2 in position 1447: unexpected end of data",
     "output_type": "error",
     "traceback": [
      "\u001b[0;31m---------------------------------------------------------------------------\u001b[0m",
      "\u001b[0;31mUnicodeDecodeError\u001b[0m                        Traceback (most recent call last)",
      "\u001b[0;32m<ipython-input-9-61581d213fbb>\u001b[0m in \u001b[0;36m<module>\u001b[0;34m\u001b[0m\n\u001b[1;32m      2\u001b[0m \u001b[0;34m\u001b[0m\u001b[0m\n\u001b[1;32m      3\u001b[0m \u001b[0;32mwhile\u001b[0m \u001b[0;32mTrue\u001b[0m\u001b[0;34m:\u001b[0m\u001b[0;34m\u001b[0m\u001b[0;34m\u001b[0m\u001b[0m\n\u001b[0;32m----> 4\u001b[0;31m     \u001b[0mresp\u001b[0m \u001b[0;34m=\u001b[0m \u001b[0msock\u001b[0m\u001b[0;34m.\u001b[0m\u001b[0mrecv\u001b[0m\u001b[0;34m(\u001b[0m\u001b[0;36m2048\u001b[0m\u001b[0;34m)\u001b[0m\u001b[0;34m.\u001b[0m\u001b[0mdecode\u001b[0m\u001b[0;34m(\u001b[0m\u001b[0;34m'utf-8'\u001b[0m\u001b[0;34m)\u001b[0m\u001b[0;34m\u001b[0m\u001b[0;34m\u001b[0m\u001b[0m\n\u001b[0m\u001b[1;32m      5\u001b[0m \u001b[0;34m\u001b[0m\u001b[0m\n\u001b[1;32m      6\u001b[0m     \u001b[0;32mif\u001b[0m \u001b[0mresp\u001b[0m\u001b[0;34m.\u001b[0m\u001b[0mstartswith\u001b[0m\u001b[0;34m(\u001b[0m\u001b[0;34m'PING'\u001b[0m\u001b[0;34m)\u001b[0m\u001b[0;34m:\u001b[0m\u001b[0;34m\u001b[0m\u001b[0;34m\u001b[0m\u001b[0m\n",
      "\u001b[0;31mUnicodeDecodeError\u001b[0m: 'utf-8' codec can't decode byte 0xe2 in position 1447: unexpected end of data"
     ]
    }
   ],
   "source": [
    "from emoji import demojize\n",
    "\n",
    "while True:\n",
    "    resp = sock.recv(2048).decode('utf-8')\n",
    "\n",
    "    if resp.startswith('PING'):\n",
    "        sock.send(\"PONG\\n\".encode('utf-8'))\n",
    "    \n",
    "    elif len(resp) > 0:\n",
    "        logging.info(demojize(resp))\n",
    "        \n",
    "#you have to manually end this one or else it keeps running"
   ]
  },
  {
   "cell_type": "markdown",
   "metadata": {},
   "source": [
    "This will keep running until you stop it. To see the messages in real-time open a new terminal, navigate to the log's location, and run:\n",
    "\n",
    "tail -f chat.log"
   ]
  },
  {
   "cell_type": "markdown",
   "metadata": {},
   "source": [
    "# Parsing logs\n",
    "Our goal for this section is to parse the chat log into a pandas DataFrame to prepare for analysis\n",
    "\n",
    "The columns we'd like to have for analysis are:\n",
    "\n",
    "date and time\n",
    "sender's username\n",
    "and the message\n",
    "We'll need to parse the information from each line, so let's look at an example line again:"
   ]
  },
  {
   "cell_type": "code",
   "execution_count": 10,
   "metadata": {},
   "outputs": [],
   "source": [
    "msg = '2019-05-15_14:13:47 — :grunwave!grunwave@grunwave.tmi.twitch.tv PRIVMSG #playhearthstone :hello fellow bots'"
   ]
  },
  {
   "cell_type": "code",
   "execution_count": 11,
   "metadata": {},
   "outputs": [
    {
     "data": {
      "text/plain": [
       "datetime.datetime(2019, 5, 15, 14, 13, 47)"
      ]
     },
     "execution_count": 11,
     "metadata": {},
     "output_type": "execute_result"
    }
   ],
   "source": [
    "from datetime import datetime\n",
    "\n",
    "time_logged = msg.split()[0].strip()\n",
    "\n",
    "time_logged = datetime.strptime(time_logged, '%Y-%m-%d_%H:%M:%S')\n",
    "\n",
    "time_logged"
   ]
  },
  {
   "cell_type": "markdown",
   "metadata": {},
   "source": [
    "Great! We have a datetime. Let's parse the rest of the message.\n",
    "\n",
    "Since using an em dash (—, or Right-ALT+0151 on Windows) is sometimes used in chat, we will need to split on it, skip the date, and rejoin with an em dash to ensure the message is the same:\n",
    "\n"
   ]
  },
  {
   "cell_type": "code",
   "execution_count": 12,
   "metadata": {},
   "outputs": [
    {
     "data": {
      "text/plain": [
       "':grunwave!grunwave@grunwave.tmi.twitch.tv PRIVMSG #playhearthstone :hello fellow bots'"
      ]
     },
     "execution_count": 12,
     "metadata": {},
     "output_type": "execute_result"
    }
   ],
   "source": [
    "username_message = msg.split('—')[1:]\n",
    "username_message = '—'.join(username_message).strip()\n",
    "\n",
    "username_message"
   ]
  },
  {
   "cell_type": "markdown",
   "metadata": {},
   "source": [
    "The message is structure with a username at the beginning, a '#' denoting the channel, and a colon to say where the message begins."
   ]
  },
  {
   "cell_type": "markdown",
   "metadata": {},
   "source": [
    "Regex is great for this kind of thing. We have three pieces of info we want to extract from a well-formatted string.\n",
    "\n",
    "In the regex search below, each parentheses — (.*) — will capture that part of the string:"
   ]
  },
  {
   "cell_type": "code",
   "execution_count": 13,
   "metadata": {},
   "outputs": [
    {
     "name": "stdout",
     "output_type": "stream",
     "text": [
      "Channel: playhearthstone \n",
      "Username: grunwave \n",
      "Message: hello fellow bots\n"
     ]
    }
   ],
   "source": [
    "import re\n",
    "\n",
    "username, channel, message = re.search(':(.*)\\!.*@.*\\.tmi\\.twitch\\.tv PRIVMSG #(.*) :(.*)', username_message).groups()\n",
    "\n",
    "print(f\"Channel: {channel} \\nUsername: {username} \\nMessage: {message}\")"
   ]
  },
  {
   "cell_type": "markdown",
   "metadata": {},
   "source": [
    "Excellent. Now we have each piece parsed. Let's loop through the entire chat log, parse each line like the example line, and create a DataFrame at the end. If you haven't used DataFrames that much, definitely check out our beginners guide to pandas.\n",
    "\n",
    "Here's it all put together:"
   ]
  },
  {
   "cell_type": "code",
   "execution_count": 14,
   "metadata": {},
   "outputs": [],
   "source": [
    "import pandas as pd\n",
    "\n",
    "def get_chat_dataframe(file):\n",
    "    data = []\n",
    "\n",
    "    with open(file, 'r', encoding='utf-8') as f:\n",
    "        lines = f.read().split('\\n')\n",
    "        \n",
    "        for line in lines:\n",
    "            try:\n",
    "                time_logged = line.split('—')[0].strip()\n",
    "                time_logged = datetime.strptime(time_logged, '%Y-%m-%d_%H:%M:%S')\n",
    "\n",
    "                username_message = line.split('—')[1:]\n",
    "                username_message = '—'.join(username_message).strip()\n",
    "\n",
    "                username, channel, message = re.search(\n",
    "                    ':(.*)\\!.*@.*\\.tmi\\.twitch\\.tv PRIVMSG #(.*) :(.*)', username_message\n",
    "                ).groups()\n",
    "\n",
    "                d = {\n",
    "                    'dt': time_logged,\n",
    "                    'channel': channel,\n",
    "                    'username': username,\n",
    "                    'message': message\n",
    "                }\n",
    "\n",
    "                data.append(d)\n",
    "            \n",
    "            except Exception:\n",
    "                pass\n",
    "            \n",
    "    return pd.DataFrame().from_records(data)\n",
    "        \n",
    "    \n",
    "df = get_chat_dataframe(chat)"
   ]
  },
  {
   "cell_type": "markdown",
   "metadata": {},
   "source": [
    "Let's quickly view what we have now:"
   ]
  },
  {
   "cell_type": "code",
   "execution_count": 15,
   "metadata": {},
   "outputs": [
    {
     "name": "stdout",
     "output_type": "stream",
     "text": [
      "(19135, 3)\n"
     ]
    }
   ],
   "source": [
    "df.set_index('dt', inplace=True)\n",
    "\n",
    "print(df.shape)\n"
   ]
  },
  {
   "cell_type": "code",
   "execution_count": 16,
   "metadata": {},
   "outputs": [],
   "source": [
    "pd.set_option('display.max_colwidth', -1)"
   ]
  },
  {
   "cell_type": "code",
   "execution_count": 23,
   "metadata": {
    "scrolled": true
   },
   "outputs": [
    {
     "data": {
      "text/html": [
       "<div>\n",
       "<style scoped>\n",
       "    .dataframe tbody tr th:only-of-type {\n",
       "        vertical-align: middle;\n",
       "    }\n",
       "\n",
       "    .dataframe tbody tr th {\n",
       "        vertical-align: top;\n",
       "    }\n",
       "\n",
       "    .dataframe thead th {\n",
       "        text-align: right;\n",
       "    }\n",
       "</style>\n",
       "<table border=\"1\" class=\"dataframe\">\n",
       "  <thead>\n",
       "    <tr style=\"text-align: right;\">\n",
       "      <th></th>\n",
       "      <th>channel</th>\n",
       "      <th>message</th>\n",
       "      <th>username</th>\n",
       "    </tr>\n",
       "    <tr>\n",
       "      <th>dt</th>\n",
       "      <th></th>\n",
       "      <th></th>\n",
       "      <th></th>\n",
       "    </tr>\n",
       "  </thead>\n",
       "  <tbody>\n",
       "    <tr>\n",
       "      <th>2019-05-15 10:52:40</th>\n",
       "      <td>playhearthstone</td>\n",
       "      <td>LOW RANK PLAYS LUL</td>\n",
       "      <td>hakk97</td>\n",
       "    </tr>\n",
       "    <tr>\n",
       "      <th>2019-05-15 10:52:43</th>\n",
       "      <td>playhearthstone</td>\n",
       "      <td>Only for a pretty face</td>\n",
       "      <td>gianthedgehog</td>\n",
       "    </tr>\n",
       "    <tr>\n",
       "      <th>2019-05-15 10:52:44</th>\n",
       "      <td>playhearthstone</td>\n",
       "      <td>Mukla's gonna get stolen LUL</td>\n",
       "      <td>fulgure_</td>\n",
       "    </tr>\n",
       "    <tr>\n",
       "      <th>2019-05-15 10:52:46</th>\n",
       "      <td>playhearthstone</td>\n",
       "      <td>attacks strongest minon into unknown secret, buffs enemy minion before attacking, this girl BrokeBack</td>\n",
       "      <td>3lyra</td>\n",
       "    </tr>\n",
       "    <tr>\n",
       "      <th>2019-05-15 10:52:48</th>\n",
       "      <td>playhearthstone</td>\n",
       "      <td>LULW</td>\n",
       "      <td>metaprognostication</td>\n",
       "    </tr>\n",
       "    <tr>\n",
       "      <th>2019-05-15 10:52:50</th>\n",
       "      <td>playhearthstone</td>\n",
       "      <td>SMOrc</td>\n",
       "      <td>dark_panther01</td>\n",
       "    </tr>\n",
       "    <tr>\n",
       "      <th>2019-05-15 10:52:51</th>\n",
       "      <td>playhearthstone</td>\n",
       "      <td>Bruh</td>\n",
       "      <td>prep0nderator</td>\n",
       "    </tr>\n",
       "    <tr>\n",
       "      <th>2019-05-15 10:52:52</th>\n",
       "      <td>playhearthstone</td>\n",
       "      <td>:monkey:</td>\n",
       "      <td>superbueb</td>\n",
       "    </tr>\n",
       "    <tr>\n",
       "      <th>2019-05-15 10:52:52</th>\n",
       "      <td>playhearthstone</td>\n",
       "      <td>TRIHARDDD Clap</td>\n",
       "      <td>aod7</td>\n",
       "    </tr>\n",
       "    <tr>\n",
       "      <th>2019-05-15 10:52:53</th>\n",
       "      <td>playhearthstone</td>\n",
       "      <td>BasedGod</td>\n",
       "      <td>lucas4</td>\n",
       "    </tr>\n",
       "    <tr>\n",
       "      <th>2019-05-15 10:52:57</th>\n",
       "      <td>playhearthstone</td>\n",
       "      <td>s1lverQ4 s1lverQ1</td>\n",
       "      <td>jasper_2d</td>\n",
       "    </tr>\n",
       "    <tr>\n",
       "      <th>2019-05-15 10:52:57</th>\n",
       "      <td>playhearthstone</td>\n",
       "      <td>g</td>\n",
       "      <td>decidoodoodoo</td>\n",
       "    </tr>\n",
       "    <tr>\n",
       "      <th>2019-05-15 10:52:58</th>\n",
       "      <td>playhearthstone</td>\n",
       "      <td>wow, so surprising, pathra misplays, breaking news</td>\n",
       "      <td>profc4ke</td>\n",
       "    </tr>\n",
       "    <tr>\n",
       "      <th>2019-05-15 10:52:58</th>\n",
       "      <td>playhearthstone</td>\n",
       "      <td>AYAYAY</td>\n",
       "      <td>kiwi_play_gd</td>\n",
       "    </tr>\n",
       "    <tr>\n",
       "      <th>2019-05-15 10:52:59</th>\n",
       "      <td>playhearthstone</td>\n",
       "      <td>LULW</td>\n",
       "      <td>tdh_95</td>\n",
       "    </tr>\n",
       "    <tr>\n",
       "      <th>2019-05-15 10:52:59</th>\n",
       "      <td>playhearthstone</td>\n",
       "      <td>How?</td>\n",
       "      <td>the_hacker_414720</td>\n",
       "    </tr>\n",
       "    <tr>\n",
       "      <th>2019-05-15 10:53:00</th>\n",
       "      <td>playhearthstone</td>\n",
       "      <td>permanent immune minion OP PogChamp</td>\n",
       "      <td>daret9056</td>\n",
       "    </tr>\n",
       "    <tr>\n",
       "      <th>2019-05-15 10:53:01</th>\n",
       "      <td>playhearthstone</td>\n",
       "      <td>monkaS</td>\n",
       "      <td>klubbah</td>\n",
       "    </tr>\n",
       "    <tr>\n",
       "      <th>2019-05-15 10:53:15</th>\n",
       "      <td>playhearthstone</td>\n",
       "      <td>Tri Hard banned OMEGALUL</td>\n",
       "      <td>rockcooks</td>\n",
       "    </tr>\n",
       "    <tr>\n",
       "      <th>2019-05-15 10:53:16</th>\n",
       "      <td>playhearthstone</td>\n",
       "      <td>why is</td>\n",
       "      <td>euchid</td>\n",
       "    </tr>\n",
       "    <tr>\n",
       "      <th>2019-05-15 10:53:18</th>\n",
       "      <td>playhearthstone</td>\n",
       "      <td>?????????????????????</td>\n",
       "      <td>mrzas09</td>\n",
       "    </tr>\n",
       "    <tr>\n",
       "      <th>2019-05-15 10:53:19</th>\n",
       "      <td>playhearthstone</td>\n",
       "      <td>Why Savjs, Forzen, Artosis, Sjow, Nevillz and day9 aren’t there? Kappa</td>\n",
       "      <td>zeegbr</td>\n",
       "    </tr>\n",
       "    <tr>\n",
       "      <th>2019-05-15 10:53:19</th>\n",
       "      <td>playhearthstone</td>\n",
       "      <td>45 POINTS Pog</td>\n",
       "      <td>clementpeta</td>\n",
       "    </tr>\n",
       "    <tr>\n",
       "      <th>2019-05-15 10:53:19</th>\n",
       "      <td>playhearthstone</td>\n",
       "      <td>TOAST LUL</td>\n",
       "      <td>moody10k</td>\n",
       "    </tr>\n",
       "    <tr>\n",
       "      <th>2019-05-15 10:53:21</th>\n",
       "      <td>playhearthstone</td>\n",
       "      <td>monkaW</td>\n",
       "      <td>matteoc1998</td>\n",
       "    </tr>\n",
       "    <tr>\n",
       "      <th>2019-05-15 10:53:21</th>\n",
       "      <td>playhearthstone</td>\n",
       "      <td>hahaaa lamer</td>\n",
       "      <td>drakula880</td>\n",
       "    </tr>\n",
       "    <tr>\n",
       "      <th>2019-05-15 10:53:21</th>\n",
       "      <td>playhearthstone</td>\n",
       "      <td>the 100% man LUL</td>\n",
       "      <td>hippoeuw</td>\n",
       "    </tr>\n",
       "    <tr>\n",
       "      <th>2019-05-15 10:53:22</th>\n",
       "      <td>playhearthstone</td>\n",
       "      <td>100% WIN RATE MAN LUL</td>\n",
       "      <td>prep0nderator</td>\n",
       "    </tr>\n",
       "    <tr>\n",
       "      <th>2019-05-15 10:53:22</th>\n",
       "      <td>playhearthstone</td>\n",
       "      <td>toast</td>\n",
       "      <td>nogattxd</td>\n",
       "    </tr>\n",
       "    <tr>\n",
       "      <th>2019-05-15 10:53:23</th>\n",
       "      <td>playhearthstone</td>\n",
       "      <td>The wires monkaS</td>\n",
       "      <td>klubbah</td>\n",
       "    </tr>\n",
       "    <tr>\n",
       "      <th>...</th>\n",
       "      <td>...</td>\n",
       "      <td>...</td>\n",
       "      <td>...</td>\n",
       "    </tr>\n",
       "    <tr>\n",
       "      <th>2019-05-15 10:56:32</th>\n",
       "      <td>playhearthstone</td>\n",
       "      <td>LUL</td>\n",
       "      <td>hoiman8</td>\n",
       "    </tr>\n",
       "    <tr>\n",
       "      <th>2019-05-15 10:56:32</th>\n",
       "      <td>playhearthstone</td>\n",
       "      <td>LULW</td>\n",
       "      <td>tike_iku</td>\n",
       "    </tr>\n",
       "    <tr>\n",
       "      <th>2019-05-15 10:56:33</th>\n",
       "      <td>playhearthstone</td>\n",
       "      <td>LU:</td>\n",
       "      <td>nighthawk20000</td>\n",
       "    </tr>\n",
       "    <tr>\n",
       "      <th>2019-05-15 10:56:33</th>\n",
       "      <td>playhearthstone</td>\n",
       "      <td>monkaS</td>\n",
       "      <td>diegamen87</td>\n",
       "    </tr>\n",
       "    <tr>\n",
       "      <th>2019-05-15 10:56:33</th>\n",
       "      <td>playhearthstone</td>\n",
       "      <td>lol</td>\n",
       "      <td>lotware</td>\n",
       "    </tr>\n",
       "    <tr>\n",
       "      <th>2019-05-15 10:56:33</th>\n",
       "      <td>playhearthstone</td>\n",
       "      <td>LUL</td>\n",
       "      <td>ehrl</td>\n",
       "    </tr>\n",
       "    <tr>\n",
       "      <th>2019-05-15 10:56:33</th>\n",
       "      <td>playhearthstone</td>\n",
       "      <td>LULW</td>\n",
       "      <td>caldo_ru</td>\n",
       "    </tr>\n",
       "    <tr>\n",
       "      <th>2019-05-15 10:56:33</th>\n",
       "      <td>playhearthstone</td>\n",
       "      <td>lol</td>\n",
       "      <td>tairadono</td>\n",
       "    </tr>\n",
       "    <tr>\n",
       "      <th>2019-05-15 10:56:33</th>\n",
       "      <td>playhearthstone</td>\n",
       "      <td>OMEGALUL</td>\n",
       "      <td>bronek0990</td>\n",
       "    </tr>\n",
       "    <tr>\n",
       "      <th>2019-05-15 10:56:33</th>\n",
       "      <td>playhearthstone</td>\n",
       "      <td>LUL</td>\n",
       "      <td>pouloulouloulouloulou</td>\n",
       "    </tr>\n",
       "    <tr>\n",
       "      <th>2019-05-15 10:56:33</th>\n",
       "      <td>playhearthstone</td>\n",
       "      <td>OOOOOOH</td>\n",
       "      <td>bdazl</td>\n",
       "    </tr>\n",
       "    <tr>\n",
       "      <th>2019-05-15 10:56:34</th>\n",
       "      <td>playhearthstone</td>\n",
       "      <td>PogChamp PogChamp PogChamp PogChamp</td>\n",
       "      <td>mosvy144</td>\n",
       "    </tr>\n",
       "    <tr>\n",
       "      <th>2019-05-15 10:56:34</th>\n",
       "      <td>playhearthstone</td>\n",
       "      <td>LUL</td>\n",
       "      <td>nighthawk20000</td>\n",
       "    </tr>\n",
       "    <tr>\n",
       "      <th>2019-05-15 10:56:34</th>\n",
       "      <td>playhearthstone</td>\n",
       "      <td>monkaW</td>\n",
       "      <td>cpricec</td>\n",
       "    </tr>\n",
       "    <tr>\n",
       "      <th>2019-05-15 10:56:34</th>\n",
       "      <td>playhearthstone</td>\n",
       "      <td>kkkkkkkkkkkkkkkkk</td>\n",
       "      <td>aoluke</td>\n",
       "    </tr>\n",
       "    <tr>\n",
       "      <th>2019-05-15 10:56:34</th>\n",
       "      <td>playhearthstone</td>\n",
       "      <td>Jebaited</td>\n",
       "      <td>tehkrotan</td>\n",
       "    </tr>\n",
       "    <tr>\n",
       "      <th>2019-05-15 10:56:34</th>\n",
       "      <td>playhearthstone</td>\n",
       "      <td>LUL</td>\n",
       "      <td>seelenleer</td>\n",
       "    </tr>\n",
       "    <tr>\n",
       "      <th>2019-05-15 10:56:35</th>\n",
       "      <td>playhearthstone</td>\n",
       "      <td>LUL</td>\n",
       "      <td>cyan_pile_</td>\n",
       "    </tr>\n",
       "    <tr>\n",
       "      <th>2019-05-15 10:56:35</th>\n",
       "      <td>playhearthstone</td>\n",
       "      <td>PogU</td>\n",
       "      <td>matteoc1998</td>\n",
       "    </tr>\n",
       "    <tr>\n",
       "      <th>2019-05-15 10:56:35</th>\n",
       "      <td>playhearthstone</td>\n",
       "      <td>PogChamp</td>\n",
       "      <td>dramble</td>\n",
       "    </tr>\n",
       "    <tr>\n",
       "      <th>2019-05-15 10:56:35</th>\n",
       "      <td>playhearthstone</td>\n",
       "      <td>lol</td>\n",
       "      <td>4everfriend</td>\n",
       "    </tr>\n",
       "    <tr>\n",
       "      <th>2019-05-15 10:56:35</th>\n",
       "      <td>playhearthstone</td>\n",
       "      <td>OMG</td>\n",
       "      <td>pakaxin</td>\n",
       "    </tr>\n",
       "    <tr>\n",
       "      <th>2019-05-15 10:56:35</th>\n",
       "      <td>playhearthstone</td>\n",
       "      <td>LUL</td>\n",
       "      <td>hugoodax</td>\n",
       "    </tr>\n",
       "    <tr>\n",
       "      <th>2019-05-15 10:56:35</th>\n",
       "      <td>playhearthstone</td>\n",
       "      <td>POgChamp</td>\n",
       "      <td>man_bean</td>\n",
       "    </tr>\n",
       "    <tr>\n",
       "      <th>2019-05-15 10:56:35</th>\n",
       "      <td>playhearthstone</td>\n",
       "      <td>LUL</td>\n",
       "      <td>ebaynissen</td>\n",
       "    </tr>\n",
       "    <tr>\n",
       "      <th>2019-05-15 10:56:35</th>\n",
       "      <td>playhearthstone</td>\n",
       "      <td>LUL</td>\n",
       "      <td>burgaothegiftedsub</td>\n",
       "    </tr>\n",
       "    <tr>\n",
       "      <th>2019-05-15 10:56:35</th>\n",
       "      <td>playhearthstone</td>\n",
       "      <td>saved LUL</td>\n",
       "      <td>na_me_le_ss_</td>\n",
       "    </tr>\n",
       "    <tr>\n",
       "      <th>2019-05-15 10:56:36</th>\n",
       "      <td>playhearthstone</td>\n",
       "      <td>4Heed</td>\n",
       "      <td>eggsqueuesee</td>\n",
       "    </tr>\n",
       "    <tr>\n",
       "      <th>2019-05-15 10:56:36</th>\n",
       "      <td>playhearthstone</td>\n",
       "      <td>LULW</td>\n",
       "      <td>lord_erazor</td>\n",
       "    </tr>\n",
       "    <tr>\n",
       "      <th>2019-05-15 10:56:36</th>\n",
       "      <td>playhearthstone</td>\n",
       "      <td>OMEGALUL</td>\n",
       "      <td>fruvs</td>\n",
       "    </tr>\n",
       "  </tbody>\n",
       "</table>\n",
       "<p>200 rows × 3 columns</p>\n",
       "</div>"
      ],
      "text/plain": [
       "                             channel  \\\n",
       "dt                                     \n",
       "2019-05-15 10:52:40  playhearthstone   \n",
       "2019-05-15 10:52:43  playhearthstone   \n",
       "2019-05-15 10:52:44  playhearthstone   \n",
       "2019-05-15 10:52:46  playhearthstone   \n",
       "2019-05-15 10:52:48  playhearthstone   \n",
       "2019-05-15 10:52:50  playhearthstone   \n",
       "2019-05-15 10:52:51  playhearthstone   \n",
       "2019-05-15 10:52:52  playhearthstone   \n",
       "2019-05-15 10:52:52  playhearthstone   \n",
       "2019-05-15 10:52:53  playhearthstone   \n",
       "2019-05-15 10:52:57  playhearthstone   \n",
       "2019-05-15 10:52:57  playhearthstone   \n",
       "2019-05-15 10:52:58  playhearthstone   \n",
       "2019-05-15 10:52:58  playhearthstone   \n",
       "2019-05-15 10:52:59  playhearthstone   \n",
       "2019-05-15 10:52:59  playhearthstone   \n",
       "2019-05-15 10:53:00  playhearthstone   \n",
       "2019-05-15 10:53:01  playhearthstone   \n",
       "2019-05-15 10:53:15  playhearthstone   \n",
       "2019-05-15 10:53:16  playhearthstone   \n",
       "2019-05-15 10:53:18  playhearthstone   \n",
       "2019-05-15 10:53:19  playhearthstone   \n",
       "2019-05-15 10:53:19  playhearthstone   \n",
       "2019-05-15 10:53:19  playhearthstone   \n",
       "2019-05-15 10:53:21  playhearthstone   \n",
       "2019-05-15 10:53:21  playhearthstone   \n",
       "2019-05-15 10:53:21  playhearthstone   \n",
       "2019-05-15 10:53:22  playhearthstone   \n",
       "2019-05-15 10:53:22  playhearthstone   \n",
       "2019-05-15 10:53:23  playhearthstone   \n",
       "...                              ...   \n",
       "2019-05-15 10:56:32  playhearthstone   \n",
       "2019-05-15 10:56:32  playhearthstone   \n",
       "2019-05-15 10:56:33  playhearthstone   \n",
       "2019-05-15 10:56:33  playhearthstone   \n",
       "2019-05-15 10:56:33  playhearthstone   \n",
       "2019-05-15 10:56:33  playhearthstone   \n",
       "2019-05-15 10:56:33  playhearthstone   \n",
       "2019-05-15 10:56:33  playhearthstone   \n",
       "2019-05-15 10:56:33  playhearthstone   \n",
       "2019-05-15 10:56:33  playhearthstone   \n",
       "2019-05-15 10:56:33  playhearthstone   \n",
       "2019-05-15 10:56:34  playhearthstone   \n",
       "2019-05-15 10:56:34  playhearthstone   \n",
       "2019-05-15 10:56:34  playhearthstone   \n",
       "2019-05-15 10:56:34  playhearthstone   \n",
       "2019-05-15 10:56:34  playhearthstone   \n",
       "2019-05-15 10:56:34  playhearthstone   \n",
       "2019-05-15 10:56:35  playhearthstone   \n",
       "2019-05-15 10:56:35  playhearthstone   \n",
       "2019-05-15 10:56:35  playhearthstone   \n",
       "2019-05-15 10:56:35  playhearthstone   \n",
       "2019-05-15 10:56:35  playhearthstone   \n",
       "2019-05-15 10:56:35  playhearthstone   \n",
       "2019-05-15 10:56:35  playhearthstone   \n",
       "2019-05-15 10:56:35  playhearthstone   \n",
       "2019-05-15 10:56:35  playhearthstone   \n",
       "2019-05-15 10:56:35  playhearthstone   \n",
       "2019-05-15 10:56:36  playhearthstone   \n",
       "2019-05-15 10:56:36  playhearthstone   \n",
       "2019-05-15 10:56:36  playhearthstone   \n",
       "\n",
       "                                                                                                                   message  \\\n",
       "dt                                                                                                                           \n",
       "2019-05-15 10:52:40  LOW RANK PLAYS LUL                                                                                      \n",
       "2019-05-15 10:52:43  Only for a pretty face                                                                                  \n",
       "2019-05-15 10:52:44  Mukla's gonna get stolen LUL                                                                            \n",
       "2019-05-15 10:52:46  attacks strongest minon into unknown secret, buffs enemy minion before attacking, this girl BrokeBack   \n",
       "2019-05-15 10:52:48  LULW                                                                                                    \n",
       "2019-05-15 10:52:50  SMOrc                                                                                                   \n",
       "2019-05-15 10:52:51  Bruh                                                                                                    \n",
       "2019-05-15 10:52:52  :monkey:                                                                                                \n",
       "2019-05-15 10:52:52  TRIHARDDD Clap                                                                                          \n",
       "2019-05-15 10:52:53  BasedGod                                                                                                \n",
       "2019-05-15 10:52:57  s1lverQ4 s1lverQ1                                                                                       \n",
       "2019-05-15 10:52:57  g                                                                                                       \n",
       "2019-05-15 10:52:58  wow, so surprising, pathra misplays, breaking news                                                      \n",
       "2019-05-15 10:52:58  AYAYAY                                                                                                  \n",
       "2019-05-15 10:52:59  LULW                                                                                                    \n",
       "2019-05-15 10:52:59  How?                                                                                                    \n",
       "2019-05-15 10:53:00  permanent immune minion OP PogChamp                                                                     \n",
       "2019-05-15 10:53:01  monkaS                                                                                                  \n",
       "2019-05-15 10:53:15  Tri Hard banned OMEGALUL                                                                                \n",
       "2019-05-15 10:53:16  why is                                                                                                  \n",
       "2019-05-15 10:53:18  ?????????????????????                                                                                   \n",
       "2019-05-15 10:53:19  Why Savjs, Forzen, Artosis, Sjow, Nevillz and day9 aren’t there? Kappa                                  \n",
       "2019-05-15 10:53:19  45 POINTS Pog                                                                                           \n",
       "2019-05-15 10:53:19  TOAST LUL                                                                                               \n",
       "2019-05-15 10:53:21  monkaW                                                                                                  \n",
       "2019-05-15 10:53:21  hahaaa lamer                                                                                            \n",
       "2019-05-15 10:53:21  the 100% man LUL                                                                                        \n",
       "2019-05-15 10:53:22  100% WIN RATE MAN LUL                                                                                   \n",
       "2019-05-15 10:53:22  toast                                                                                                   \n",
       "2019-05-15 10:53:23  The wires monkaS                                                                                        \n",
       "...                    ...                                                                                                   \n",
       "2019-05-15 10:56:32  LUL                                                                                                     \n",
       "2019-05-15 10:56:32  LULW                                                                                                    \n",
       "2019-05-15 10:56:33  LU:                                                                                                     \n",
       "2019-05-15 10:56:33  monkaS                                                                                                  \n",
       "2019-05-15 10:56:33  lol                                                                                                     \n",
       "2019-05-15 10:56:33  LUL                                                                                                     \n",
       "2019-05-15 10:56:33  LULW                                                                                                    \n",
       "2019-05-15 10:56:33  lol                                                                                                     \n",
       "2019-05-15 10:56:33  OMEGALUL                                                                                                \n",
       "2019-05-15 10:56:33  LUL                                                                                                     \n",
       "2019-05-15 10:56:33  OOOOOOH                                                                                                 \n",
       "2019-05-15 10:56:34  PogChamp PogChamp PogChamp PogChamp                                                                     \n",
       "2019-05-15 10:56:34  LUL                                                                                                     \n",
       "2019-05-15 10:56:34  monkaW                                                                                                  \n",
       "2019-05-15 10:56:34  kkkkkkkkkkkkkkkkk                                                                                       \n",
       "2019-05-15 10:56:34  Jebaited                                                                                                \n",
       "2019-05-15 10:56:34  LUL                                                                                                     \n",
       "2019-05-15 10:56:35  LUL                                                                                                     \n",
       "2019-05-15 10:56:35  PogU                                                                                                    \n",
       "2019-05-15 10:56:35  PogChamp                                                                                                \n",
       "2019-05-15 10:56:35  lol                                                                                                     \n",
       "2019-05-15 10:56:35  OMG                                                                                                     \n",
       "2019-05-15 10:56:35  LUL                                                                                                     \n",
       "2019-05-15 10:56:35  POgChamp                                                                                                \n",
       "2019-05-15 10:56:35  LUL                                                                                                     \n",
       "2019-05-15 10:56:35  LUL                                                                                                     \n",
       "2019-05-15 10:56:35  saved LUL                                                                                               \n",
       "2019-05-15 10:56:36  4Heed                                                                                                   \n",
       "2019-05-15 10:56:36  LULW                                                                                                    \n",
       "2019-05-15 10:56:36  OMEGALUL                                                                                                \n",
       "\n",
       "                                  username  \n",
       "dt                                          \n",
       "2019-05-15 10:52:40  hakk97                 \n",
       "2019-05-15 10:52:43  gianthedgehog          \n",
       "2019-05-15 10:52:44  fulgure_               \n",
       "2019-05-15 10:52:46  3lyra                  \n",
       "2019-05-15 10:52:48  metaprognostication    \n",
       "2019-05-15 10:52:50  dark_panther01         \n",
       "2019-05-15 10:52:51  prep0nderator          \n",
       "2019-05-15 10:52:52  superbueb              \n",
       "2019-05-15 10:52:52  aod7                   \n",
       "2019-05-15 10:52:53  lucas4                 \n",
       "2019-05-15 10:52:57  jasper_2d              \n",
       "2019-05-15 10:52:57  decidoodoodoo          \n",
       "2019-05-15 10:52:58  profc4ke               \n",
       "2019-05-15 10:52:58  kiwi_play_gd           \n",
       "2019-05-15 10:52:59  tdh_95                 \n",
       "2019-05-15 10:52:59  the_hacker_414720      \n",
       "2019-05-15 10:53:00  daret9056              \n",
       "2019-05-15 10:53:01  klubbah                \n",
       "2019-05-15 10:53:15  rockcooks              \n",
       "2019-05-15 10:53:16  euchid                 \n",
       "2019-05-15 10:53:18  mrzas09                \n",
       "2019-05-15 10:53:19  zeegbr                 \n",
       "2019-05-15 10:53:19  clementpeta            \n",
       "2019-05-15 10:53:19  moody10k               \n",
       "2019-05-15 10:53:21  matteoc1998            \n",
       "2019-05-15 10:53:21  drakula880             \n",
       "2019-05-15 10:53:21  hippoeuw               \n",
       "2019-05-15 10:53:22  prep0nderator          \n",
       "2019-05-15 10:53:22  nogattxd               \n",
       "2019-05-15 10:53:23  klubbah                \n",
       "...                       ...               \n",
       "2019-05-15 10:56:32  hoiman8                \n",
       "2019-05-15 10:56:32  tike_iku               \n",
       "2019-05-15 10:56:33  nighthawk20000         \n",
       "2019-05-15 10:56:33  diegamen87             \n",
       "2019-05-15 10:56:33  lotware                \n",
       "2019-05-15 10:56:33  ehrl                   \n",
       "2019-05-15 10:56:33  caldo_ru               \n",
       "2019-05-15 10:56:33  tairadono              \n",
       "2019-05-15 10:56:33  bronek0990             \n",
       "2019-05-15 10:56:33  pouloulouloulouloulou  \n",
       "2019-05-15 10:56:33  bdazl                  \n",
       "2019-05-15 10:56:34  mosvy144               \n",
       "2019-05-15 10:56:34  nighthawk20000         \n",
       "2019-05-15 10:56:34  cpricec                \n",
       "2019-05-15 10:56:34  aoluke                 \n",
       "2019-05-15 10:56:34  tehkrotan              \n",
       "2019-05-15 10:56:34  seelenleer             \n",
       "2019-05-15 10:56:35  cyan_pile_             \n",
       "2019-05-15 10:56:35  matteoc1998            \n",
       "2019-05-15 10:56:35  dramble                \n",
       "2019-05-15 10:56:35  4everfriend            \n",
       "2019-05-15 10:56:35  pakaxin                \n",
       "2019-05-15 10:56:35  hugoodax               \n",
       "2019-05-15 10:56:35  man_bean               \n",
       "2019-05-15 10:56:35  ebaynissen             \n",
       "2019-05-15 10:56:35  burgaothegiftedsub     \n",
       "2019-05-15 10:56:35  na_me_le_ss_           \n",
       "2019-05-15 10:56:36  eggsqueuesee           \n",
       "2019-05-15 10:56:36  lord_erazor            \n",
       "2019-05-15 10:56:36  fruvs                  \n",
       "\n",
       "[200 rows x 3 columns]"
      ]
     },
     "execution_count": 23,
     "metadata": {},
     "output_type": "execute_result"
    }
   ],
   "source": [
    "df.head(200)"
   ]
  },
  {
   "cell_type": "code",
   "execution_count": 18,
   "metadata": {},
   "outputs": [],
   "source": [
    "import pickle\n",
    "#put dataframe into a pickle for later use\n",
    "pickle.dump(df, open( \"playhearthstone_chat.p\", \"wb\" ) )"
   ]
  },
  {
   "cell_type": "markdown",
   "metadata": {},
   "source": [
    "Just from streaming messages over a couple of hours we have over 10,000 rows in our DataFrame.\n",
    "\n",
    "Here's a few basic questions I'm particularly interested in:\n",
    "\n",
    "Which user commented the most during this time period?\n",
    "Which commands — words that start with ! — were used the most?\n",
    "What are the most used emotes and emojis?\n",
    "We'll use this dataset in the next article to explore these questions and more."
   ]
  },
  {
   "cell_type": "markdown",
   "metadata": {},
   "source": [
    "# From here\n",
    "We've create a basic script to monitor a single channel on Twitch and successfully parsed the data into a DataFrame.\n",
    "\n",
    "There's still many improvements that can be made. For example:\n",
    "\n",
    "Variable logging file for monitoring and comparing different channels\n",
    "Use Twitch API to retrieve live and popular channels under certain games\n",
    "Generalize script to stream chat from multiple channels at once\n",
    "Plus we need to answer those questions mentioned above and more."
   ]
  },
  {
   "cell_type": "code",
   "execution_count": 19,
   "metadata": {},
   "outputs": [],
   "source": [
    "sock.close() #closes the connection"
   ]
  },
  {
   "cell_type": "code",
   "execution_count": null,
   "metadata": {},
   "outputs": [],
   "source": []
  }
 ],
 "metadata": {
  "kernelspec": {
   "display_name": "Python 3",
   "language": "python",
   "name": "python3"
  },
  "language_info": {
   "codemirror_mode": {
    "name": "ipython",
    "version": 3
   },
   "file_extension": ".py",
   "mimetype": "text/x-python",
   "name": "python",
   "nbconvert_exporter": "python",
   "pygments_lexer": "ipython3",
   "version": "3.7.3"
  }
 },
 "nbformat": 4,
 "nbformat_minor": 2
}
