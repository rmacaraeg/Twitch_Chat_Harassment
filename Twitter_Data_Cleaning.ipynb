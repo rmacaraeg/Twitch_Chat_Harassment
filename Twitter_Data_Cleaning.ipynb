{
 "cells": [
  {
   "cell_type": "code",
   "execution_count": 52,
   "metadata": {},
   "outputs": [],
   "source": [
    "import pandas as pd\n",
    "from sklearn.feature_extraction.text import CountVectorizer, TfidfVectorizer\n",
    "from sklearn.decomposition import TruncatedSVD\n",
    "from sklearn.decomposition import NMF\n",
    "from sklearn.metrics.pairwise import cosine_similarity\n",
    "import seaborn as sns\n",
    "import matplotlib.pyplot as plt\n",
    "import numpy as np\n",
    "import re\n",
    "import nltk\n",
    "import string\n",
    "import pickle\n",
    "\n",
    "import gensim\n",
    "\n",
    "\n",
    "%matplotlib inline\n",
    "#set column widths t\n",
    "pd.set_option('display.max_colwidth', -1)"
   ]
  },
  {
   "cell_type": "code",
   "execution_count": 2,
   "metadata": {},
   "outputs": [],
   "source": [
    "#import data (Thanks to Jen and team for allowing access to the dataset!)\n",
    "raw = pd.read_csv('/Users/randy/Documents/GitHub/data_files/Online Harassment Dataset/onlineHarassmentDataset.tdf',\n",
    "                 sep='\\t', lineterminator='\\r',header = 'infer', encoding='latin-1')"
   ]
  },
  {
   "cell_type": "code",
   "execution_count": 3,
   "metadata": {},
   "outputs": [
    {
     "data": {
      "text/html": [
       "<div>\n",
       "<style scoped>\n",
       "    .dataframe tbody tr th:only-of-type {\n",
       "        vertical-align: middle;\n",
       "    }\n",
       "\n",
       "    .dataframe tbody tr th {\n",
       "        vertical-align: top;\n",
       "    }\n",
       "\n",
       "    .dataframe thead th {\n",
       "        text-align: right;\n",
       "    }\n",
       "</style>\n",
       "<table border=\"1\" class=\"dataframe\">\n",
       "  <thead>\n",
       "    <tr style=\"text-align: right;\">\n",
       "      <th></th>\n",
       "      <th>ID</th>\n",
       "      <th>Code</th>\n",
       "      <th>Tweet</th>\n",
       "      <th>Unnamed: 3</th>\n",
       "      <th>Unnamed: 4</th>\n",
       "      <th>Unnamed: 5</th>\n",
       "      <th>Unnamed: 6</th>\n",
       "      <th>Unnamed: 7</th>\n",
       "      <th>Unnamed: 8</th>\n",
       "      <th>Unnamed: 9</th>\n",
       "      <th>Unnamed: 10</th>\n",
       "      <th>Unnamed: 11</th>\n",
       "      <th>Unnamed: 12</th>\n",
       "    </tr>\n",
       "  </thead>\n",
       "  <tbody>\n",
       "    <tr>\n",
       "      <th>0</th>\n",
       "      <td>1</td>\n",
       "      <td>H</td>\n",
       "      <td>@Grumpy_P_Sloth @deanesmay feminists argue for raising minimum wage cause a women's studies major needs the $15 an hour wage at her McJob.</td>\n",
       "      <td>NaN</td>\n",
       "      <td>NaN</td>\n",
       "      <td>NaN</td>\n",
       "      <td>NaN</td>\n",
       "      <td>NaN</td>\n",
       "      <td>NaN</td>\n",
       "      <td>NaN</td>\n",
       "      <td>NaN</td>\n",
       "      <td>NaN</td>\n",
       "      <td>NaN</td>\n",
       "    </tr>\n",
       "    <tr>\n",
       "      <th>1</th>\n",
       "      <td>2</td>\n",
       "      <td>H</td>\n",
       "      <td>1948Army of England helped the Jews to occupy Palestine.After that the Jews killed thousands of Englishmen and returned to England as dogs1</td>\n",
       "      <td>NaN</td>\n",
       "      <td>NaN</td>\n",
       "      <td>NaN</td>\n",
       "      <td>NaN</td>\n",
       "      <td>NaN</td>\n",
       "      <td>NaN</td>\n",
       "      <td>NaN</td>\n",
       "      <td>NaN</td>\n",
       "      <td>NaN</td>\n",
       "      <td>NaN</td>\n",
       "    </tr>\n",
       "    <tr>\n",
       "      <th>2</th>\n",
       "      <td>3</td>\n",
       "      <td>H</td>\n",
       "      <td>Dutch Leader Says Europe to collapse In 6 Weeks thnks &gt; @BillGates, @GeorgeSoros, &amp; @FWD_us #AltRight #WhiteGenocide https: / /t.co /rl1mh82jda</td>\n",
       "      <td>NaN</td>\n",
       "      <td>NaN</td>\n",
       "      <td>NaN</td>\n",
       "      <td>NaN</td>\n",
       "      <td>NaN</td>\n",
       "      <td>NaN</td>\n",
       "      <td>NaN</td>\n",
       "      <td>NaN</td>\n",
       "      <td>NaN</td>\n",
       "      <td>NaN</td>\n",
       "    </tr>\n",
       "  </tbody>\n",
       "</table>\n",
       "</div>"
      ],
      "text/plain": [
       "   ID Code  \\\n",
       "0  1   H     \n",
       "1  2   H     \n",
       "2  3   H     \n",
       "\n",
       "                                                                                                                                             Tweet  \\\n",
       "0  @Grumpy_P_Sloth @deanesmay feminists argue for raising minimum wage cause a women's studies major needs the $15 an hour wage at her McJob.        \n",
       "1  1948Army of England helped the Jews to occupy Palestine.After that the Jews killed thousands of Englishmen and returned to England as dogs1       \n",
       "2  Dutch Leader Says Europe to collapse In 6 Weeks thnks > @BillGates, @GeorgeSoros, & @FWD_us #AltRight #WhiteGenocide https: / /t.co /rl1mh82jda   \n",
       "\n",
       "   Unnamed: 3  Unnamed: 4  Unnamed: 5  Unnamed: 6  Unnamed: 7  Unnamed: 8  \\\n",
       "0 NaN         NaN         NaN         NaN         NaN         NaN           \n",
       "1 NaN         NaN         NaN         NaN         NaN         NaN           \n",
       "2 NaN         NaN         NaN         NaN         NaN         NaN           \n",
       "\n",
       "   Unnamed: 9  Unnamed: 10  Unnamed: 11  Unnamed: 12  \n",
       "0 NaN         NaN          NaN          NaN           \n",
       "1 NaN         NaN          NaN          NaN           \n",
       "2 NaN         NaN          NaN          NaN           "
      ]
     },
     "execution_count": 3,
     "metadata": {},
     "output_type": "execute_result"
    }
   ],
   "source": [
    "#check the first few rows. Note that there are a bunch of NaN columns\n",
    "raw.head(3)"
   ]
  },
  {
   "cell_type": "code",
   "execution_count": 4,
   "metadata": {},
   "outputs": [],
   "source": [
    "#pull only the Code and Tweet columns\n",
    "data = raw[['Code','Tweet']]"
   ]
  },
  {
   "cell_type": "code",
   "execution_count": 5,
   "metadata": {},
   "outputs": [
    {
     "name": "stderr",
     "output_type": "stream",
     "text": [
      "/Users/randy/anaconda3/lib/python3.7/site-packages/ipykernel_launcher.py:1: SettingWithCopyWarning: \n",
      "A value is trying to be set on a copy of a slice from a DataFrame.\n",
      "Try using .loc[row_indexer,col_indexer] = value instead\n",
      "\n",
      "See the caveats in the documentation: http://pandas.pydata.org/pandas-docs/stable/indexing.html#indexing-view-versus-copy\n",
      "  \"\"\"Entry point for launching an IPython kernel.\n"
     ]
    }
   ],
   "source": [
    "data['Tweet'] = data['Tweet'].str.lower()"
   ]
  },
  {
   "cell_type": "code",
   "execution_count": 6,
   "metadata": {},
   "outputs": [],
   "source": [
    "regex_queries = [\n",
    "                 '@([A-Za-z0-9_]+)', #Usernames\n",
    "                'rt\\s:\\s', #Retweets\n",
    "                 '(https?:\\s?\\/\\s?\\/)(\\s)?(www\\.)?(\\s?)(\\w+\\.)*([\\w\\-\\s]+\\/)*([\\w-]+)\\/?' # Hyperlinks\n",
    "                ]"
   ]
  },
  {
   "cell_type": "code",
   "execution_count": 7,
   "metadata": {},
   "outputs": [
    {
     "name": "stderr",
     "output_type": "stream",
     "text": [
      "/Users/randy/anaconda3/lib/python3.7/site-packages/pandas/core/generic.py:6586: SettingWithCopyWarning: \n",
      "A value is trying to be set on a copy of a slice from a DataFrame\n",
      "\n",
      "See the caveats in the documentation: http://pandas.pydata.org/pandas-docs/stable/indexing.html#indexing-view-versus-copy\n",
      "  self._update_inplace(new_data)\n"
     ]
    }
   ],
   "source": [
    "data['Tweet'].replace(regex_queries,'',regex = True, inplace = True)"
   ]
  },
  {
   "cell_type": "markdown",
   "metadata": {},
   "source": [
    "# Clean the Data (Version 1)\n",
    "\n",
    "https://medium.com/@dobko_m/nlp-text-data-cleaning-and-preprocessing-ea3ffe0406c1"
   ]
  },
  {
   "cell_type": "code",
   "execution_count": 8,
   "metadata": {},
   "outputs": [
    {
     "data": {
      "text/plain": [
       "(20360, 2)"
      ]
     },
     "execution_count": 8,
     "metadata": {},
     "output_type": "execute_result"
    }
   ],
   "source": [
    "#check the dimensions\n",
    "data.shape"
   ]
  },
  {
   "cell_type": "code",
   "execution_count": 9,
   "metadata": {},
   "outputs": [
    {
     "data": {
      "text/html": [
       "<div>\n",
       "<style scoped>\n",
       "    .dataframe tbody tr th:only-of-type {\n",
       "        vertical-align: middle;\n",
       "    }\n",
       "\n",
       "    .dataframe tbody tr th {\n",
       "        vertical-align: top;\n",
       "    }\n",
       "\n",
       "    .dataframe thead th {\n",
       "        text-align: right;\n",
       "    }\n",
       "</style>\n",
       "<table border=\"1\" class=\"dataframe\">\n",
       "  <thead>\n",
       "    <tr style=\"text-align: right;\">\n",
       "      <th></th>\n",
       "      <th>Code</th>\n",
       "      <th>Tweet</th>\n",
       "    </tr>\n",
       "  </thead>\n",
       "  <tbody>\n",
       "    <tr>\n",
       "      <th>0</th>\n",
       "      <td>H</td>\n",
       "      <td>feminists argue for raising minimum wage cause a women's studies major needs the $15 an hour wage at her mcjob.</td>\n",
       "    </tr>\n",
       "    <tr>\n",
       "      <th>1</th>\n",
       "      <td>H</td>\n",
       "      <td>1948army of england helped the jews to occupy palestine.after that the jews killed thousands of englishmen and returned to england as dogs1</td>\n",
       "    </tr>\n",
       "    <tr>\n",
       "      <th>2</th>\n",
       "      <td>H</td>\n",
       "      <td>dutch leader says europe to collapse in 6 weeks thnks &gt; , , &amp;  #altright #whitegenocide</td>\n",
       "    </tr>\n",
       "  </tbody>\n",
       "</table>\n",
       "</div>"
      ],
      "text/plain": [
       "  Code  \\\n",
       "0  H     \n",
       "1  H     \n",
       "2  H     \n",
       "\n",
       "                                                                                                                                         Tweet  \n",
       "0    feminists argue for raising minimum wage cause a women's studies major needs the $15 an hour wage at her mcjob.                            \n",
       "1  1948army of england helped the jews to occupy palestine.after that the jews killed thousands of englishmen and returned to england as dogs1  \n",
       "2  dutch leader says europe to collapse in 6 weeks thnks > , , &  #altright #whitegenocide                                                      "
      ]
     },
     "execution_count": 9,
     "metadata": {},
     "output_type": "execute_result"
    }
   ],
   "source": [
    "#check the first few rows\n",
    "data.head(3)"
   ]
  },
  {
   "cell_type": "code",
   "execution_count": 10,
   "metadata": {},
   "outputs": [
    {
     "data": {
      "text/html": [
       "<div>\n",
       "<style scoped>\n",
       "    .dataframe tbody tr th:only-of-type {\n",
       "        vertical-align: middle;\n",
       "    }\n",
       "\n",
       "    .dataframe tbody tr th {\n",
       "        vertical-align: top;\n",
       "    }\n",
       "\n",
       "    .dataframe thead th {\n",
       "        text-align: right;\n",
       "    }\n",
       "</style>\n",
       "<table border=\"1\" class=\"dataframe\">\n",
       "  <thead>\n",
       "    <tr style=\"text-align: right;\">\n",
       "      <th></th>\n",
       "      <th>ID</th>\n",
       "      <th>Code</th>\n",
       "      <th>Tweet</th>\n",
       "      <th>Unnamed: 3</th>\n",
       "      <th>Unnamed: 4</th>\n",
       "      <th>Unnamed: 5</th>\n",
       "      <th>Unnamed: 6</th>\n",
       "      <th>Unnamed: 7</th>\n",
       "      <th>Unnamed: 8</th>\n",
       "      <th>Unnamed: 9</th>\n",
       "      <th>Unnamed: 10</th>\n",
       "      <th>Unnamed: 11</th>\n",
       "      <th>Unnamed: 12</th>\n",
       "    </tr>\n",
       "  </thead>\n",
       "  <tbody>\n",
       "    <tr>\n",
       "      <th>0</th>\n",
       "      <td>1</td>\n",
       "      <td>H</td>\n",
       "      <td>@Grumpy_P_Sloth @deanesmay feminists argue for raising minimum wage cause a women's studies major needs the $15 an hour wage at her McJob.</td>\n",
       "      <td>NaN</td>\n",
       "      <td>NaN</td>\n",
       "      <td>NaN</td>\n",
       "      <td>NaN</td>\n",
       "      <td>NaN</td>\n",
       "      <td>NaN</td>\n",
       "      <td>NaN</td>\n",
       "      <td>NaN</td>\n",
       "      <td>NaN</td>\n",
       "      <td>NaN</td>\n",
       "    </tr>\n",
       "    <tr>\n",
       "      <th>1</th>\n",
       "      <td>2</td>\n",
       "      <td>H</td>\n",
       "      <td>1948Army of England helped the Jews to occupy Palestine.After that the Jews killed thousands of Englishmen and returned to England as dogs1</td>\n",
       "      <td>NaN</td>\n",
       "      <td>NaN</td>\n",
       "      <td>NaN</td>\n",
       "      <td>NaN</td>\n",
       "      <td>NaN</td>\n",
       "      <td>NaN</td>\n",
       "      <td>NaN</td>\n",
       "      <td>NaN</td>\n",
       "      <td>NaN</td>\n",
       "      <td>NaN</td>\n",
       "    </tr>\n",
       "    <tr>\n",
       "      <th>2</th>\n",
       "      <td>3</td>\n",
       "      <td>H</td>\n",
       "      <td>Dutch Leader Says Europe to collapse In 6 Weeks thnks &gt; @BillGates, @GeorgeSoros, &amp; @FWD_us #AltRight #WhiteGenocide https: / /t.co /rl1mh82jda</td>\n",
       "      <td>NaN</td>\n",
       "      <td>NaN</td>\n",
       "      <td>NaN</td>\n",
       "      <td>NaN</td>\n",
       "      <td>NaN</td>\n",
       "      <td>NaN</td>\n",
       "      <td>NaN</td>\n",
       "      <td>NaN</td>\n",
       "      <td>NaN</td>\n",
       "      <td>NaN</td>\n",
       "    </tr>\n",
       "  </tbody>\n",
       "</table>\n",
       "</div>"
      ],
      "text/plain": [
       "   ID Code  \\\n",
       "0  1   H     \n",
       "1  2   H     \n",
       "2  3   H     \n",
       "\n",
       "                                                                                                                                             Tweet  \\\n",
       "0  @Grumpy_P_Sloth @deanesmay feminists argue for raising minimum wage cause a women's studies major needs the $15 an hour wage at her McJob.        \n",
       "1  1948Army of England helped the Jews to occupy Palestine.After that the Jews killed thousands of Englishmen and returned to England as dogs1       \n",
       "2  Dutch Leader Says Europe to collapse In 6 Weeks thnks > @BillGates, @GeorgeSoros, & @FWD_us #AltRight #WhiteGenocide https: / /t.co /rl1mh82jda   \n",
       "\n",
       "   Unnamed: 3  Unnamed: 4  Unnamed: 5  Unnamed: 6  Unnamed: 7  Unnamed: 8  \\\n",
       "0 NaN         NaN         NaN         NaN         NaN         NaN           \n",
       "1 NaN         NaN         NaN         NaN         NaN         NaN           \n",
       "2 NaN         NaN         NaN         NaN         NaN         NaN           \n",
       "\n",
       "   Unnamed: 9  Unnamed: 10  Unnamed: 11  Unnamed: 12  \n",
       "0 NaN         NaN          NaN          NaN           \n",
       "1 NaN         NaN          NaN          NaN           \n",
       "2 NaN         NaN          NaN          NaN           "
      ]
     },
     "execution_count": 10,
     "metadata": {},
     "output_type": "execute_result"
    }
   ],
   "source": [
    "raw.head(3)"
   ]
  },
  {
   "cell_type": "code",
   "execution_count": 11,
   "metadata": {},
   "outputs": [],
   "source": [
    "#check that for each value of Code has a value in Tweet\n",
    "assert data['Code'].isnull().count() == len(data['Tweet'])"
   ]
  },
  {
   "cell_type": "code",
   "execution_count": 12,
   "metadata": {},
   "outputs": [
    {
     "data": {
      "text/plain": [
       "<matplotlib.axes._subplots.AxesSubplot at 0x1a23ae0518>"
      ]
     },
     "execution_count": 12,
     "metadata": {},
     "output_type": "execute_result"
    },
    {
     "data": {
      "image/png": "[encoded data removed]",
      "text/plain": [
       "<Figure size 432x288 with 1 Axes>"
      ]
     },
     "metadata": {
      "needs_background": "light"
     },
     "output_type": "display_data"
    }
   ],
   "source": [
    "#visualize harassment vs non-harassment cases\n",
    "sns.countplot(x = 'Code', data=data)"
   ]
  },
  {
   "cell_type": "code",
   "execution_count": 13,
   "metadata": {},
   "outputs": [
    {
     "name": "stderr",
     "output_type": "stream",
     "text": [
      "/Users/randy/anaconda3/lib/python3.7/site-packages/ipykernel_launcher.py:2: SettingWithCopyWarning: \n",
      "A value is trying to be set on a copy of a slice from a DataFrame.\n",
      "Try using .loc[row_indexer,col_indexer] = value instead\n",
      "\n",
      "See the caveats in the documentation: http://pandas.pydata.org/pandas-docs/stable/indexing.html#indexing-view-versus-copy\n",
      "  \n"
     ]
    }
   ],
   "source": [
    "#lowercase all strings\n",
    "data['Tweet'] = data['Tweet'].str.lower()"
   ]
  },
  {
   "cell_type": "code",
   "execution_count": 14,
   "metadata": {},
   "outputs": [
    {
     "data": {
      "text/plain": [
       "<filter at 0x1a23b78cf8>"
      ]
     },
     "execution_count": 14,
     "metadata": {},
     "output_type": "execute_result"
    }
   ],
   "source": [
    "s = \"some\\x00string. with\\x15 funny characters\"\n",
    "\n",
    "printable = set(string.printable)\n",
    "filter(lambda x: x in printable, s)\n"
   ]
  },
  {
   "cell_type": "code",
   "execution_count": 15,
   "metadata": {},
   "outputs": [
    {
     "data": {
      "text/plain": [
       "(-0.5, 399.5, 199.5, -0.5)"
      ]
     },
     "execution_count": 15,
     "metadata": {},
     "output_type": "execute_result"
    },
    {
     "data": {
      "image/png": "[encoded data removed]",
      "text/plain": [
       "<Figure size 720x720 with 3 Axes>"
      ]
     },
     "metadata": {
      "needs_background": "light"
     },
     "output_type": "display_data"
    }
   ],
   "source": [
    "from wordcloud import WordCloud, STOPWORDS, ImageColorGenerator\n",
    "# Start with one review:\n",
    "df_H = data[data['Code']=='H']\n",
    "df_NH = data[data['Code']=='N']\n",
    "tweet_All = \" \".join(review for review in data.Tweet)\n",
    "tweet_H = \" \".join(review for review in df_H.Tweet)\n",
    "tweet_NH = \" \".join(review for review in df_NH.Tweet)\n",
    "\n",
    "fig, ax = plt.subplots(3, 1, figsize  = (10,10))\n",
    "# Create and generate a word cloud image:\n",
    "wordcloud_ALL = WordCloud(max_font_size=50, max_words=100, background_color=\"white\").generate(tweet_All)\n",
    "wordcloud_H = WordCloud(max_font_size=50, max_words=100, background_color=\"white\").generate(tweet_H)\n",
    "wordcloud_NH = WordCloud(max_font_size=50, max_words=100, background_color=\"white\").generate(tweet_NH)\n",
    "\n",
    "# Display the generated image:\n",
    "ax[0].imshow(wordcloud_ALL, interpolation='bilinear')\n",
    "ax[0].set_title('All Tweets', fontsize=30)\n",
    "ax[0].axis('off')\n",
    "ax[1].imshow(wordcloud_H, interpolation='bilinear')\n",
    "ax[1].set_title('Tweets under Harassment Class',fontsize=30)\n",
    "ax[1].axis('off')\n",
    "ax[2].imshow(wordcloud_NH, interpolation='bilinear')\n",
    "ax[2].set_title('Tweets under Non-Harassment Class',fontsize=30)\n",
    "ax[2].axis('off')"
   ]
  },
  {
   "cell_type": "code",
   "execution_count": 16,
   "metadata": {},
   "outputs": [
    {
     "data": {
      "text/plain": [
       "'0123456789abcdefghijklmnopqrstuvwxyzABCDEFGHIJKLMNOPQRSTUVWXYZ!\"#$%&\\'()*+,-./:;<=>?@[\\\\]^_`{|}~ \\t\\n\\r\\x0b\\x0c'"
      ]
     },
     "execution_count": 16,
     "metadata": {},
     "output_type": "execute_result"
    }
   ],
   "source": [
    "string.printable"
   ]
  },
  {
   "cell_type": "code",
   "execution_count": 17,
   "metadata": {},
   "outputs": [
    {
     "name": "stderr",
     "output_type": "stream",
     "text": [
      "/Users/randy/anaconda3/lib/python3.7/site-packages/ipykernel_launcher.py:7: SettingWithCopyWarning: \n",
      "A value is trying to be set on a copy of a slice from a DataFrame.\n",
      "Try using .loc[row_indexer,col_indexer] = value instead\n",
      "\n",
      "See the caveats in the documentation: http://pandas.pydata.org/pandas-docs/stable/indexing.html#indexing-view-versus-copy\n",
      "  import sys\n"
     ]
    },
    {
     "data": {
      "text/html": [
       "<div>\n",
       "<style scoped>\n",
       "    .dataframe tbody tr th:only-of-type {\n",
       "        vertical-align: middle;\n",
       "    }\n",
       "\n",
       "    .dataframe tbody tr th {\n",
       "        vertical-align: top;\n",
       "    }\n",
       "\n",
       "    .dataframe thead th {\n",
       "        text-align: right;\n",
       "    }\n",
       "</style>\n",
       "<table border=\"1\" class=\"dataframe\">\n",
       "  <thead>\n",
       "    <tr style=\"text-align: right;\">\n",
       "      <th></th>\n",
       "      <th>Code</th>\n",
       "      <th>Tweet</th>\n",
       "      <th>non_ascii_tweet</th>\n",
       "    </tr>\n",
       "  </thead>\n",
       "  <tbody>\n",
       "    <tr>\n",
       "      <th>0</th>\n",
       "      <td>H</td>\n",
       "      <td>feminists argue for raising minimum wage cause a women's studies major needs the $15 an hour wage at her mcjob.</td>\n",
       "      <td>feminists argue for raising minimum wage cause a women's studies major needs the $ an hour wage at her mcjob.</td>\n",
       "    </tr>\n",
       "    <tr>\n",
       "      <th>1</th>\n",
       "      <td>H</td>\n",
       "      <td>1948army of england helped the jews to occupy palestine.after that the jews killed thousands of englishmen and returned to england as dogs1</td>\n",
       "      <td>army of england helped the jews to occupy palestine.after that the jews killed thousands of englishmen and returned to england as dogs</td>\n",
       "    </tr>\n",
       "    <tr>\n",
       "      <th>2</th>\n",
       "      <td>H</td>\n",
       "      <td>dutch leader says europe to collapse in 6 weeks thnks &gt; , , &amp;  #altright #whitegenocide</td>\n",
       "      <td>dutch leader says europe to collapse in  weeks thnks &gt; , , &amp;  #altright #whitegenocide</td>\n",
       "    </tr>\n",
       "    <tr>\n",
       "      <th>3</th>\n",
       "      <td>H</td>\n",
       "      <td>the next day the romans and the jews or watever was like \"aye fuck that nigga jesus. we riding out on his ass today .</td>\n",
       "      <td>the next day the romans and the jews or watever was like \"aye fuck that nigga jesus. we riding out on his ass today .</td>\n",
       "    </tr>\n",
       "    <tr>\n",
       "      <th>4</th>\n",
       "      <td>H</td>\n",
       "      <td>when hitler invited the jews to the smoke session but it wasn't the gas they was expecting #memehistory</td>\n",
       "      <td>when hitler invited the jews to the smoke session but it wasn't the gas they was expecting #memehistory</td>\n",
       "    </tr>\n",
       "  </tbody>\n",
       "</table>\n",
       "</div>"
      ],
      "text/plain": [
       "  Code  \\\n",
       "0  H     \n",
       "1  H     \n",
       "2  H     \n",
       "3  H     \n",
       "4  H     \n",
       "\n",
       "                                                                                                                                         Tweet  \\\n",
       "0    feminists argue for raising minimum wage cause a women's studies major needs the $15 an hour wage at her mcjob.                             \n",
       "1  1948army of england helped the jews to occupy palestine.after that the jews killed thousands of englishmen and returned to england as dogs1   \n",
       "2  dutch leader says europe to collapse in 6 weeks thnks > , , &  #altright #whitegenocide                                                       \n",
       "3  the next day the romans and the jews or watever was like \"aye fuck that nigga jesus. we riding out on his ass today .                         \n",
       "4  when hitler invited the jews to the smoke session but it wasn't the gas they was expecting #memehistory                                       \n",
       "\n",
       "                                                                                                                          non_ascii_tweet  \n",
       "0    feminists argue for raising minimum wage cause a women's studies major needs the $ an hour wage at her mcjob.                         \n",
       "1  army of england helped the jews to occupy palestine.after that the jews killed thousands of englishmen and returned to england as dogs  \n",
       "2  dutch leader says europe to collapse in  weeks thnks > , , &  #altright #whitegenocide                                                  \n",
       "3  the next day the romans and the jews or watever was like \"aye fuck that nigga jesus. we riding out on his ass today .                   \n",
       "4  when hitler invited the jews to the smoke session but it wasn't the gas they was expecting #memehistory                                 "
      ]
     },
     "execution_count": 17,
     "metadata": {},
     "output_type": "execute_result"
    }
   ],
   "source": [
    "#remove non-ascii characters\n",
    "def remove_non_ascii(text):\n",
    "    text  = \"\".join([char for char in text if char in string.printable])\n",
    "    text = re.sub('[0-9]+', '', text)\n",
    "    return text\n",
    "\n",
    "data['non_ascii_tweet'] = data['Tweet'].apply(lambda x: remove_non_ascii(x))\n",
    "data.head()"
   ]
  },
  {
   "cell_type": "code",
   "execution_count": 18,
   "metadata": {},
   "outputs": [
    {
     "data": {
      "text/plain": [
       "'!\"#$%&\\'()*+,-./:;<=>?@[\\\\]^_`{|}~'"
      ]
     },
     "execution_count": 18,
     "metadata": {},
     "output_type": "execute_result"
    }
   ],
   "source": [
    "string.punctuation"
   ]
  },
  {
   "cell_type": "code",
   "execution_count": 19,
   "metadata": {},
   "outputs": [
    {
     "name": "stderr",
     "output_type": "stream",
     "text": [
      "/Users/randy/anaconda3/lib/python3.7/site-packages/ipykernel_launcher.py:7: SettingWithCopyWarning: \n",
      "A value is trying to be set on a copy of a slice from a DataFrame.\n",
      "Try using .loc[row_indexer,col_indexer] = value instead\n",
      "\n",
      "See the caveats in the documentation: http://pandas.pydata.org/pandas-docs/stable/indexing.html#indexing-view-versus-copy\n",
      "  import sys\n"
     ]
    },
    {
     "data": {
      "text/html": [
       "<div>\n",
       "<style scoped>\n",
       "    .dataframe tbody tr th:only-of-type {\n",
       "        vertical-align: middle;\n",
       "    }\n",
       "\n",
       "    .dataframe tbody tr th {\n",
       "        vertical-align: top;\n",
       "    }\n",
       "\n",
       "    .dataframe thead th {\n",
       "        text-align: right;\n",
       "    }\n",
       "</style>\n",
       "<table border=\"1\" class=\"dataframe\">\n",
       "  <thead>\n",
       "    <tr style=\"text-align: right;\">\n",
       "      <th></th>\n",
       "      <th>Code</th>\n",
       "      <th>Tweet</th>\n",
       "      <th>non_ascii_tweet</th>\n",
       "      <th>no_punct_tweet</th>\n",
       "    </tr>\n",
       "  </thead>\n",
       "  <tbody>\n",
       "    <tr>\n",
       "      <th>0</th>\n",
       "      <td>H</td>\n",
       "      <td>feminists argue for raising minimum wage cause a women's studies major needs the $15 an hour wage at her mcjob.</td>\n",
       "      <td>feminists argue for raising minimum wage cause a women's studies major needs the $ an hour wage at her mcjob.</td>\n",
       "      <td>feminists argue for raising minimum wage cause a womens studies major needs the  an hour wage at her mcjob</td>\n",
       "    </tr>\n",
       "    <tr>\n",
       "      <th>1</th>\n",
       "      <td>H</td>\n",
       "      <td>1948army of england helped the jews to occupy palestine.after that the jews killed thousands of englishmen and returned to england as dogs1</td>\n",
       "      <td>army of england helped the jews to occupy palestine.after that the jews killed thousands of englishmen and returned to england as dogs</td>\n",
       "      <td>army of england helped the jews to occupy palestineafter that the jews killed thousands of englishmen and returned to england as dogs</td>\n",
       "    </tr>\n",
       "    <tr>\n",
       "      <th>2</th>\n",
       "      <td>H</td>\n",
       "      <td>dutch leader says europe to collapse in 6 weeks thnks &gt; , , &amp;  #altright #whitegenocide</td>\n",
       "      <td>dutch leader says europe to collapse in  weeks thnks &gt; , , &amp;  #altright #whitegenocide</td>\n",
       "      <td>dutch leader says europe to collapse in  weeks thnks      altright whitegenocide</td>\n",
       "    </tr>\n",
       "    <tr>\n",
       "      <th>3</th>\n",
       "      <td>H</td>\n",
       "      <td>the next day the romans and the jews or watever was like \"aye fuck that nigga jesus. we riding out on his ass today .</td>\n",
       "      <td>the next day the romans and the jews or watever was like \"aye fuck that nigga jesus. we riding out on his ass today .</td>\n",
       "      <td>the next day the romans and the jews or watever was like aye fuck that nigga jesus we riding out on his ass today</td>\n",
       "    </tr>\n",
       "    <tr>\n",
       "      <th>4</th>\n",
       "      <td>H</td>\n",
       "      <td>when hitler invited the jews to the smoke session but it wasn't the gas they was expecting #memehistory</td>\n",
       "      <td>when hitler invited the jews to the smoke session but it wasn't the gas they was expecting #memehistory</td>\n",
       "      <td>when hitler invited the jews to the smoke session but it wasnt the gas they was expecting memehistory</td>\n",
       "    </tr>\n",
       "  </tbody>\n",
       "</table>\n",
       "</div>"
      ],
      "text/plain": [
       "  Code  \\\n",
       "0  H     \n",
       "1  H     \n",
       "2  H     \n",
       "3  H     \n",
       "4  H     \n",
       "\n",
       "                                                                                                                                         Tweet  \\\n",
       "0    feminists argue for raising minimum wage cause a women's studies major needs the $15 an hour wage at her mcjob.                             \n",
       "1  1948army of england helped the jews to occupy palestine.after that the jews killed thousands of englishmen and returned to england as dogs1   \n",
       "2  dutch leader says europe to collapse in 6 weeks thnks > , , &  #altright #whitegenocide                                                       \n",
       "3  the next day the romans and the jews or watever was like \"aye fuck that nigga jesus. we riding out on his ass today .                         \n",
       "4  when hitler invited the jews to the smoke session but it wasn't the gas they was expecting #memehistory                                       \n",
       "\n",
       "                                                                                                                          non_ascii_tweet  \\\n",
       "0    feminists argue for raising minimum wage cause a women's studies major needs the $ an hour wage at her mcjob.                          \n",
       "1  army of england helped the jews to occupy palestine.after that the jews killed thousands of englishmen and returned to england as dogs   \n",
       "2  dutch leader says europe to collapse in  weeks thnks > , , &  #altright #whitegenocide                                                   \n",
       "3  the next day the romans and the jews or watever was like \"aye fuck that nigga jesus. we riding out on his ass today .                    \n",
       "4  when hitler invited the jews to the smoke session but it wasn't the gas they was expecting #memehistory                                  \n",
       "\n",
       "                                                                                                                          no_punct_tweet  \n",
       "0    feminists argue for raising minimum wage cause a womens studies major needs the  an hour wage at her mcjob                           \n",
       "1  army of england helped the jews to occupy palestineafter that the jews killed thousands of englishmen and returned to england as dogs  \n",
       "2  dutch leader says europe to collapse in  weeks thnks      altright whitegenocide                                                       \n",
       "3  the next day the romans and the jews or watever was like aye fuck that nigga jesus we riding out on his ass today                      \n",
       "4  when hitler invited the jews to the smoke session but it wasnt the gas they was expecting memehistory                                  "
      ]
     },
     "execution_count": 19,
     "metadata": {},
     "output_type": "execute_result"
    }
   ],
   "source": [
    "#remove the punctuation\n",
    "def remove_punct(text):\n",
    "    text  = \"\".join([char for char in text if char not in string.punctuation])\n",
    "    text = re.sub('[0-9]+', '', text)\n",
    "    return text\n",
    "\n",
    "data['no_punct_tweet'] = data['non_ascii_tweet'].apply(lambda x: remove_punct(x))\n",
    "data.head()"
   ]
  },
  {
   "cell_type": "code",
   "execution_count": 20,
   "metadata": {},
   "outputs": [
    {
     "name": "stderr",
     "output_type": "stream",
     "text": [
      "/Users/randy/anaconda3/lib/python3.7/site-packages/ipykernel_launcher.py:6: SettingWithCopyWarning: \n",
      "A value is trying to be set on a copy of a slice from a DataFrame.\n",
      "Try using .loc[row_indexer,col_indexer] = value instead\n",
      "\n",
      "See the caveats in the documentation: http://pandas.pydata.org/pandas-docs/stable/indexing.html#indexing-view-versus-copy\n",
      "  \n"
     ]
    },
    {
     "data": {
      "text/html": [
       "<div>\n",
       "<style scoped>\n",
       "    .dataframe tbody tr th:only-of-type {\n",
       "        vertical-align: middle;\n",
       "    }\n",
       "\n",
       "    .dataframe tbody tr th {\n",
       "        vertical-align: top;\n",
       "    }\n",
       "\n",
       "    .dataframe thead th {\n",
       "        text-align: right;\n",
       "    }\n",
       "</style>\n",
       "<table border=\"1\" class=\"dataframe\">\n",
       "  <thead>\n",
       "    <tr style=\"text-align: right;\">\n",
       "      <th></th>\n",
       "      <th>Code</th>\n",
       "      <th>Tweet</th>\n",
       "      <th>non_ascii_tweet</th>\n",
       "      <th>no_punct_tweet</th>\n",
       "      <th>Tweet_tokenized</th>\n",
       "    </tr>\n",
       "  </thead>\n",
       "  <tbody>\n",
       "    <tr>\n",
       "      <th>0</th>\n",
       "      <td>H</td>\n",
       "      <td>feminists argue for raising minimum wage cause a women's studies major needs the $15 an hour wage at her mcjob.</td>\n",
       "      <td>feminists argue for raising minimum wage cause a women's studies major needs the $ an hour wage at her mcjob.</td>\n",
       "      <td>feminists argue for raising minimum wage cause a womens studies major needs the  an hour wage at her mcjob</td>\n",
       "      <td>[, feminists, argue, for, raising, minimum, wage, cause, a, womens, studies, major, needs, the, an, hour, wage, at, her, mcjob]</td>\n",
       "    </tr>\n",
       "    <tr>\n",
       "      <th>1</th>\n",
       "      <td>H</td>\n",
       "      <td>1948army of england helped the jews to occupy palestine.after that the jews killed thousands of englishmen and returned to england as dogs1</td>\n",
       "      <td>army of england helped the jews to occupy palestine.after that the jews killed thousands of englishmen and returned to england as dogs</td>\n",
       "      <td>army of england helped the jews to occupy palestineafter that the jews killed thousands of englishmen and returned to england as dogs</td>\n",
       "      <td>[army, of, england, helped, the, jews, to, occupy, palestineafter, that, the, jews, killed, thousands, of, englishmen, and, returned, to, england, as, dogs]</td>\n",
       "    </tr>\n",
       "    <tr>\n",
       "      <th>2</th>\n",
       "      <td>H</td>\n",
       "      <td>dutch leader says europe to collapse in 6 weeks thnks &gt; , , &amp;  #altright #whitegenocide</td>\n",
       "      <td>dutch leader says europe to collapse in  weeks thnks &gt; , , &amp;  #altright #whitegenocide</td>\n",
       "      <td>dutch leader says europe to collapse in  weeks thnks      altright whitegenocide</td>\n",
       "      <td>[dutch, leader, says, europe, to, collapse, in, weeks, thnks, altright, whitegenocide, ]</td>\n",
       "    </tr>\n",
       "    <tr>\n",
       "      <th>3</th>\n",
       "      <td>H</td>\n",
       "      <td>the next day the romans and the jews or watever was like \"aye fuck that nigga jesus. we riding out on his ass today .</td>\n",
       "      <td>the next day the romans and the jews or watever was like \"aye fuck that nigga jesus. we riding out on his ass today .</td>\n",
       "      <td>the next day the romans and the jews or watever was like aye fuck that nigga jesus we riding out on his ass today</td>\n",
       "      <td>[the, next, day, the, romans, and, the, jews, or, watever, was, like, aye, fuck, that, nigga, jesus, we, riding, out, on, his, ass, today, ]</td>\n",
       "    </tr>\n",
       "    <tr>\n",
       "      <th>4</th>\n",
       "      <td>H</td>\n",
       "      <td>when hitler invited the jews to the smoke session but it wasn't the gas they was expecting #memehistory</td>\n",
       "      <td>when hitler invited the jews to the smoke session but it wasn't the gas they was expecting #memehistory</td>\n",
       "      <td>when hitler invited the jews to the smoke session but it wasnt the gas they was expecting memehistory</td>\n",
       "      <td>[when, hitler, invited, the, jews, to, the, smoke, session, but, it, wasnt, the, gas, they, was, expecting, memehistory, ]</td>\n",
       "    </tr>\n",
       "  </tbody>\n",
       "</table>\n",
       "</div>"
      ],
      "text/plain": [
       "  Code  \\\n",
       "0  H     \n",
       "1  H     \n",
       "2  H     \n",
       "3  H     \n",
       "4  H     \n",
       "\n",
       "                                                                                                                                         Tweet  \\\n",
       "0    feminists argue for raising minimum wage cause a women's studies major needs the $15 an hour wage at her mcjob.                             \n",
       "1  1948army of england helped the jews to occupy palestine.after that the jews killed thousands of englishmen and returned to england as dogs1   \n",
       "2  dutch leader says europe to collapse in 6 weeks thnks > , , &  #altright #whitegenocide                                                       \n",
       "3  the next day the romans and the jews or watever was like \"aye fuck that nigga jesus. we riding out on his ass today .                         \n",
       "4  when hitler invited the jews to the smoke session but it wasn't the gas they was expecting #memehistory                                       \n",
       "\n",
       "                                                                                                                          non_ascii_tweet  \\\n",
       "0    feminists argue for raising minimum wage cause a women's studies major needs the $ an hour wage at her mcjob.                          \n",
       "1  army of england helped the jews to occupy palestine.after that the jews killed thousands of englishmen and returned to england as dogs   \n",
       "2  dutch leader says europe to collapse in  weeks thnks > , , &  #altright #whitegenocide                                                   \n",
       "3  the next day the romans and the jews or watever was like \"aye fuck that nigga jesus. we riding out on his ass today .                    \n",
       "4  when hitler invited the jews to the smoke session but it wasn't the gas they was expecting #memehistory                                  \n",
       "\n",
       "                                                                                                                          no_punct_tweet  \\\n",
       "0    feminists argue for raising minimum wage cause a womens studies major needs the  an hour wage at her mcjob                            \n",
       "1  army of england helped the jews to occupy palestineafter that the jews killed thousands of englishmen and returned to england as dogs   \n",
       "2  dutch leader says europe to collapse in  weeks thnks      altright whitegenocide                                                        \n",
       "3  the next day the romans and the jews or watever was like aye fuck that nigga jesus we riding out on his ass today                       \n",
       "4  when hitler invited the jews to the smoke session but it wasnt the gas they was expecting memehistory                                   \n",
       "\n",
       "                                                                                                                                                Tweet_tokenized  \n",
       "0  [, feminists, argue, for, raising, minimum, wage, cause, a, womens, studies, major, needs, the, an, hour, wage, at, her, mcjob]                               \n",
       "1  [army, of, england, helped, the, jews, to, occupy, palestineafter, that, the, jews, killed, thousands, of, englishmen, and, returned, to, england, as, dogs]  \n",
       "2  [dutch, leader, says, europe, to, collapse, in, weeks, thnks, altright, whitegenocide, ]                                                                      \n",
       "3  [the, next, day, the, romans, and, the, jews, or, watever, was, like, aye, fuck, that, nigga, jesus, we, riding, out, on, his, ass, today, ]                  \n",
       "4  [when, hitler, invited, the, jews, to, the, smoke, session, but, it, wasnt, the, gas, they, was, expecting, memehistory, ]                                    "
      ]
     },
     "execution_count": 20,
     "metadata": {},
     "output_type": "execute_result"
    }
   ],
   "source": [
    "#tokenize the data\n",
    "def tokenization(text):\n",
    "    text = re.split('\\W+', text)\n",
    "    return text\n",
    "\n",
    "data['Tweet_tokenized'] = data['no_punct_tweet'].apply(lambda x: tokenization(x.lower()))\n",
    "data.head()"
   ]
  },
  {
   "cell_type": "code",
   "execution_count": 21,
   "metadata": {},
   "outputs": [],
   "source": [
    "#remove STOPWORDS\n",
    "stopword = nltk.corpus.stopwords.words('english')\n",
    "#stopword.extend(['yr', 'year', 'woman', 'man', 'girl','boy','one', 'two', 'sixteen', 'yearold', 'fu', 'weeks', 'week',\n",
    "#               'treatment', 'associated', 'patients', 'may','day', 'case','old'])\n"
   ]
  },
  {
   "cell_type": "code",
   "execution_count": 22,
   "metadata": {},
   "outputs": [
    {
     "name": "stderr",
     "output_type": "stream",
     "text": [
      "/Users/randy/anaconda3/lib/python3.7/site-packages/ipykernel_launcher.py:5: SettingWithCopyWarning: \n",
      "A value is trying to be set on a copy of a slice from a DataFrame.\n",
      "Try using .loc[row_indexer,col_indexer] = value instead\n",
      "\n",
      "See the caveats in the documentation: http://pandas.pydata.org/pandas-docs/stable/indexing.html#indexing-view-versus-copy\n",
      "  \"\"\"\n"
     ]
    },
    {
     "data": {
      "text/html": [
       "<div>\n",
       "<style scoped>\n",
       "    .dataframe tbody tr th:only-of-type {\n",
       "        vertical-align: middle;\n",
       "    }\n",
       "\n",
       "    .dataframe tbody tr th {\n",
       "        vertical-align: top;\n",
       "    }\n",
       "\n",
       "    .dataframe thead th {\n",
       "        text-align: right;\n",
       "    }\n",
       "</style>\n",
       "<table border=\"1\" class=\"dataframe\">\n",
       "  <thead>\n",
       "    <tr style=\"text-align: right;\">\n",
       "      <th></th>\n",
       "      <th>Code</th>\n",
       "      <th>Tweet</th>\n",
       "      <th>non_ascii_tweet</th>\n",
       "      <th>no_punct_tweet</th>\n",
       "      <th>Tweet_tokenized</th>\n",
       "      <th>Tweet_nonstop</th>\n",
       "    </tr>\n",
       "  </thead>\n",
       "  <tbody>\n",
       "    <tr>\n",
       "      <th>0</th>\n",
       "      <td>H</td>\n",
       "      <td>feminists argue for raising minimum wage cause a women's studies major needs the $15 an hour wage at her mcjob.</td>\n",
       "      <td>feminists argue for raising minimum wage cause a women's studies major needs the $ an hour wage at her mcjob.</td>\n",
       "      <td>feminists argue for raising minimum wage cause a womens studies major needs the  an hour wage at her mcjob</td>\n",
       "      <td>[, feminists, argue, for, raising, minimum, wage, cause, a, womens, studies, major, needs, the, an, hour, wage, at, her, mcjob]</td>\n",
       "      <td>[, feminists, argue, raising, minimum, wage, cause, womens, studies, major, needs, hour, wage, mcjob]</td>\n",
       "    </tr>\n",
       "    <tr>\n",
       "      <th>1</th>\n",
       "      <td>H</td>\n",
       "      <td>1948army of england helped the jews to occupy palestine.after that the jews killed thousands of englishmen and returned to england as dogs1</td>\n",
       "      <td>army of england helped the jews to occupy palestine.after that the jews killed thousands of englishmen and returned to england as dogs</td>\n",
       "      <td>army of england helped the jews to occupy palestineafter that the jews killed thousands of englishmen and returned to england as dogs</td>\n",
       "      <td>[army, of, england, helped, the, jews, to, occupy, palestineafter, that, the, jews, killed, thousands, of, englishmen, and, returned, to, england, as, dogs]</td>\n",
       "      <td>[army, england, helped, jews, occupy, palestineafter, jews, killed, thousands, englishmen, returned, england, dogs]</td>\n",
       "    </tr>\n",
       "    <tr>\n",
       "      <th>2</th>\n",
       "      <td>H</td>\n",
       "      <td>dutch leader says europe to collapse in 6 weeks thnks &gt; , , &amp;  #altright #whitegenocide</td>\n",
       "      <td>dutch leader says europe to collapse in  weeks thnks &gt; , , &amp;  #altright #whitegenocide</td>\n",
       "      <td>dutch leader says europe to collapse in  weeks thnks      altright whitegenocide</td>\n",
       "      <td>[dutch, leader, says, europe, to, collapse, in, weeks, thnks, altright, whitegenocide, ]</td>\n",
       "      <td>[dutch, leader, says, europe, collapse, weeks, thnks, altright, whitegenocide, ]</td>\n",
       "    </tr>\n",
       "    <tr>\n",
       "      <th>3</th>\n",
       "      <td>H</td>\n",
       "      <td>the next day the romans and the jews or watever was like \"aye fuck that nigga jesus. we riding out on his ass today .</td>\n",
       "      <td>the next day the romans and the jews or watever was like \"aye fuck that nigga jesus. we riding out on his ass today .</td>\n",
       "      <td>the next day the romans and the jews or watever was like aye fuck that nigga jesus we riding out on his ass today</td>\n",
       "      <td>[the, next, day, the, romans, and, the, jews, or, watever, was, like, aye, fuck, that, nigga, jesus, we, riding, out, on, his, ass, today, ]</td>\n",
       "      <td>[next, day, romans, jews, watever, like, aye, fuck, nigga, jesus, riding, ass, today, ]</td>\n",
       "    </tr>\n",
       "    <tr>\n",
       "      <th>4</th>\n",
       "      <td>H</td>\n",
       "      <td>when hitler invited the jews to the smoke session but it wasn't the gas they was expecting #memehistory</td>\n",
       "      <td>when hitler invited the jews to the smoke session but it wasn't the gas they was expecting #memehistory</td>\n",
       "      <td>when hitler invited the jews to the smoke session but it wasnt the gas they was expecting memehistory</td>\n",
       "      <td>[when, hitler, invited, the, jews, to, the, smoke, session, but, it, wasnt, the, gas, they, was, expecting, memehistory, ]</td>\n",
       "      <td>[hitler, invited, jews, smoke, session, wasnt, gas, expecting, memehistory, ]</td>\n",
       "    </tr>\n",
       "  </tbody>\n",
       "</table>\n",
       "</div>"
      ],
      "text/plain": [
       "  Code  \\\n",
       "0  H     \n",
       "1  H     \n",
       "2  H     \n",
       "3  H     \n",
       "4  H     \n",
       "\n",
       "                                                                                                                                         Tweet  \\\n",
       "0    feminists argue for raising minimum wage cause a women's studies major needs the $15 an hour wage at her mcjob.                             \n",
       "1  1948army of england helped the jews to occupy palestine.after that the jews killed thousands of englishmen and returned to england as dogs1   \n",
       "2  dutch leader says europe to collapse in 6 weeks thnks > , , &  #altright #whitegenocide                                                       \n",
       "3  the next day the romans and the jews or watever was like \"aye fuck that nigga jesus. we riding out on his ass today .                         \n",
       "4  when hitler invited the jews to the smoke session but it wasn't the gas they was expecting #memehistory                                       \n",
       "\n",
       "                                                                                                                          non_ascii_tweet  \\\n",
       "0    feminists argue for raising minimum wage cause a women's studies major needs the $ an hour wage at her mcjob.                          \n",
       "1  army of england helped the jews to occupy palestine.after that the jews killed thousands of englishmen and returned to england as dogs   \n",
       "2  dutch leader says europe to collapse in  weeks thnks > , , &  #altright #whitegenocide                                                   \n",
       "3  the next day the romans and the jews or watever was like \"aye fuck that nigga jesus. we riding out on his ass today .                    \n",
       "4  when hitler invited the jews to the smoke session but it wasn't the gas they was expecting #memehistory                                  \n",
       "\n",
       "                                                                                                                          no_punct_tweet  \\\n",
       "0    feminists argue for raising minimum wage cause a womens studies major needs the  an hour wage at her mcjob                            \n",
       "1  army of england helped the jews to occupy palestineafter that the jews killed thousands of englishmen and returned to england as dogs   \n",
       "2  dutch leader says europe to collapse in  weeks thnks      altright whitegenocide                                                        \n",
       "3  the next day the romans and the jews or watever was like aye fuck that nigga jesus we riding out on his ass today                       \n",
       "4  when hitler invited the jews to the smoke session but it wasnt the gas they was expecting memehistory                                   \n",
       "\n",
       "                                                                                                                                                Tweet_tokenized  \\\n",
       "0  [, feminists, argue, for, raising, minimum, wage, cause, a, womens, studies, major, needs, the, an, hour, wage, at, her, mcjob]                                \n",
       "1  [army, of, england, helped, the, jews, to, occupy, palestineafter, that, the, jews, killed, thousands, of, englishmen, and, returned, to, england, as, dogs]   \n",
       "2  [dutch, leader, says, europe, to, collapse, in, weeks, thnks, altright, whitegenocide, ]                                                                       \n",
       "3  [the, next, day, the, romans, and, the, jews, or, watever, was, like, aye, fuck, that, nigga, jesus, we, riding, out, on, his, ass, today, ]                   \n",
       "4  [when, hitler, invited, the, jews, to, the, smoke, session, but, it, wasnt, the, gas, they, was, expecting, memehistory, ]                                     \n",
       "\n",
       "                                                                                                         Tweet_nonstop  \n",
       "0  [, feminists, argue, raising, minimum, wage, cause, womens, studies, major, needs, hour, wage, mcjob]                \n",
       "1  [army, england, helped, jews, occupy, palestineafter, jews, killed, thousands, englishmen, returned, england, dogs]  \n",
       "2  [dutch, leader, says, europe, collapse, weeks, thnks, altright, whitegenocide, ]                                     \n",
       "3  [next, day, romans, jews, watever, like, aye, fuck, nigga, jesus, riding, ass, today, ]                              \n",
       "4  [hitler, invited, jews, smoke, session, wasnt, gas, expecting, memehistory, ]                                        "
      ]
     },
     "execution_count": 22,
     "metadata": {},
     "output_type": "execute_result"
    }
   ],
   "source": [
    "def remove_stopwords(text):\n",
    "    text = [word for word in text if word not in stopword]\n",
    "    return text\n",
    "    \n",
    "data['Tweet_nonstop'] = data['Tweet_tokenized'].apply(lambda x: remove_stopwords(x))\n",
    "data.head(5)"
   ]
  },
  {
   "cell_type": "code",
   "execution_count": 23,
   "metadata": {},
   "outputs": [
    {
     "name": "stderr",
     "output_type": "stream",
     "text": [
      "/Users/randy/anaconda3/lib/python3.7/site-packages/ipykernel_launcher.py:8: SettingWithCopyWarning: \n",
      "A value is trying to be set on a copy of a slice from a DataFrame.\n",
      "Try using .loc[row_indexer,col_indexer] = value instead\n",
      "\n",
      "See the caveats in the documentation: http://pandas.pydata.org/pandas-docs/stable/indexing.html#indexing-view-versus-copy\n",
      "  \n"
     ]
    },
    {
     "data": {
      "text/html": [
       "<div>\n",
       "<style scoped>\n",
       "    .dataframe tbody tr th:only-of-type {\n",
       "        vertical-align: middle;\n",
       "    }\n",
       "\n",
       "    .dataframe tbody tr th {\n",
       "        vertical-align: top;\n",
       "    }\n",
       "\n",
       "    .dataframe thead th {\n",
       "        text-align: right;\n",
       "    }\n",
       "</style>\n",
       "<table border=\"1\" class=\"dataframe\">\n",
       "  <thead>\n",
       "    <tr style=\"text-align: right;\">\n",
       "      <th></th>\n",
       "      <th>Code</th>\n",
       "      <th>Tweet</th>\n",
       "      <th>non_ascii_tweet</th>\n",
       "      <th>no_punct_tweet</th>\n",
       "      <th>Tweet_tokenized</th>\n",
       "      <th>Tweet_nonstop</th>\n",
       "      <th>Tweet_stemmed</th>\n",
       "    </tr>\n",
       "  </thead>\n",
       "  <tbody>\n",
       "    <tr>\n",
       "      <th>0</th>\n",
       "      <td>H</td>\n",
       "      <td>feminists argue for raising minimum wage cause a women's studies major needs the $15 an hour wage at her mcjob.</td>\n",
       "      <td>feminists argue for raising minimum wage cause a women's studies major needs the $ an hour wage at her mcjob.</td>\n",
       "      <td>feminists argue for raising minimum wage cause a womens studies major needs the  an hour wage at her mcjob</td>\n",
       "      <td>[, feminists, argue, for, raising, minimum, wage, cause, a, womens, studies, major, needs, the, an, hour, wage, at, her, mcjob]</td>\n",
       "      <td>[, feminists, argue, raising, minimum, wage, cause, womens, studies, major, needs, hour, wage, mcjob]</td>\n",
       "      <td>[, feminist, argu, rais, minimum, wage, caus, women, studi, major, need, hour, wage, mcjob]</td>\n",
       "    </tr>\n",
       "    <tr>\n",
       "      <th>1</th>\n",
       "      <td>H</td>\n",
       "      <td>1948army of england helped the jews to occupy palestine.after that the jews killed thousands of englishmen and returned to england as dogs1</td>\n",
       "      <td>army of england helped the jews to occupy palestine.after that the jews killed thousands of englishmen and returned to england as dogs</td>\n",
       "      <td>army of england helped the jews to occupy palestineafter that the jews killed thousands of englishmen and returned to england as dogs</td>\n",
       "      <td>[army, of, england, helped, the, jews, to, occupy, palestineafter, that, the, jews, killed, thousands, of, englishmen, and, returned, to, england, as, dogs]</td>\n",
       "      <td>[army, england, helped, jews, occupy, palestineafter, jews, killed, thousands, englishmen, returned, england, dogs]</td>\n",
       "      <td>[armi, england, help, jew, occupi, palestineaft, jew, kill, thousand, englishmen, return, england, dog]</td>\n",
       "    </tr>\n",
       "    <tr>\n",
       "      <th>2</th>\n",
       "      <td>H</td>\n",
       "      <td>dutch leader says europe to collapse in 6 weeks thnks &gt; , , &amp;  #altright #whitegenocide</td>\n",
       "      <td>dutch leader says europe to collapse in  weeks thnks &gt; , , &amp;  #altright #whitegenocide</td>\n",
       "      <td>dutch leader says europe to collapse in  weeks thnks      altright whitegenocide</td>\n",
       "      <td>[dutch, leader, says, europe, to, collapse, in, weeks, thnks, altright, whitegenocide, ]</td>\n",
       "      <td>[dutch, leader, says, europe, collapse, weeks, thnks, altright, whitegenocide, ]</td>\n",
       "      <td>[dutch, leader, say, europ, collaps, week, thnk, altright, whitegenocid, ]</td>\n",
       "    </tr>\n",
       "    <tr>\n",
       "      <th>3</th>\n",
       "      <td>H</td>\n",
       "      <td>the next day the romans and the jews or watever was like \"aye fuck that nigga jesus. we riding out on his ass today .</td>\n",
       "      <td>the next day the romans and the jews or watever was like \"aye fuck that nigga jesus. we riding out on his ass today .</td>\n",
       "      <td>the next day the romans and the jews or watever was like aye fuck that nigga jesus we riding out on his ass today</td>\n",
       "      <td>[the, next, day, the, romans, and, the, jews, or, watever, was, like, aye, fuck, that, nigga, jesus, we, riding, out, on, his, ass, today, ]</td>\n",
       "      <td>[next, day, romans, jews, watever, like, aye, fuck, nigga, jesus, riding, ass, today, ]</td>\n",
       "      <td>[next, day, roman, jew, watev, like, aye, fuck, nigga, jesu, ride, ass, today, ]</td>\n",
       "    </tr>\n",
       "    <tr>\n",
       "      <th>4</th>\n",
       "      <td>H</td>\n",
       "      <td>when hitler invited the jews to the smoke session but it wasn't the gas they was expecting #memehistory</td>\n",
       "      <td>when hitler invited the jews to the smoke session but it wasn't the gas they was expecting #memehistory</td>\n",
       "      <td>when hitler invited the jews to the smoke session but it wasnt the gas they was expecting memehistory</td>\n",
       "      <td>[when, hitler, invited, the, jews, to, the, smoke, session, but, it, wasnt, the, gas, they, was, expecting, memehistory, ]</td>\n",
       "      <td>[hitler, invited, jews, smoke, session, wasnt, gas, expecting, memehistory, ]</td>\n",
       "      <td>[hitler, invit, jew, smoke, session, wasnt, ga, expect, memehistori, ]</td>\n",
       "    </tr>\n",
       "  </tbody>\n",
       "</table>\n",
       "</div>"
      ],
      "text/plain": [
       "  Code  \\\n",
       "0  H     \n",
       "1  H     \n",
       "2  H     \n",
       "3  H     \n",
       "4  H     \n",
       "\n",
       "                                                                                                                                         Tweet  \\\n",
       "0    feminists argue for raising minimum wage cause a women's studies major needs the $15 an hour wage at her mcjob.                             \n",
       "1  1948army of england helped the jews to occupy palestine.after that the jews killed thousands of englishmen and returned to england as dogs1   \n",
       "2  dutch leader says europe to collapse in 6 weeks thnks > , , &  #altright #whitegenocide                                                       \n",
       "3  the next day the romans and the jews or watever was like \"aye fuck that nigga jesus. we riding out on his ass today .                         \n",
       "4  when hitler invited the jews to the smoke session but it wasn't the gas they was expecting #memehistory                                       \n",
       "\n",
       "                                                                                                                          non_ascii_tweet  \\\n",
       "0    feminists argue for raising minimum wage cause a women's studies major needs the $ an hour wage at her mcjob.                          \n",
       "1  army of england helped the jews to occupy palestine.after that the jews killed thousands of englishmen and returned to england as dogs   \n",
       "2  dutch leader says europe to collapse in  weeks thnks > , , &  #altright #whitegenocide                                                   \n",
       "3  the next day the romans and the jews or watever was like \"aye fuck that nigga jesus. we riding out on his ass today .                    \n",
       "4  when hitler invited the jews to the smoke session but it wasn't the gas they was expecting #memehistory                                  \n",
       "\n",
       "                                                                                                                          no_punct_tweet  \\\n",
       "0    feminists argue for raising minimum wage cause a womens studies major needs the  an hour wage at her mcjob                            \n",
       "1  army of england helped the jews to occupy palestineafter that the jews killed thousands of englishmen and returned to england as dogs   \n",
       "2  dutch leader says europe to collapse in  weeks thnks      altright whitegenocide                                                        \n",
       "3  the next day the romans and the jews or watever was like aye fuck that nigga jesus we riding out on his ass today                       \n",
       "4  when hitler invited the jews to the smoke session but it wasnt the gas they was expecting memehistory                                   \n",
       "\n",
       "                                                                                                                                                Tweet_tokenized  \\\n",
       "0  [, feminists, argue, for, raising, minimum, wage, cause, a, womens, studies, major, needs, the, an, hour, wage, at, her, mcjob]                                \n",
       "1  [army, of, england, helped, the, jews, to, occupy, palestineafter, that, the, jews, killed, thousands, of, englishmen, and, returned, to, england, as, dogs]   \n",
       "2  [dutch, leader, says, europe, to, collapse, in, weeks, thnks, altright, whitegenocide, ]                                                                       \n",
       "3  [the, next, day, the, romans, and, the, jews, or, watever, was, like, aye, fuck, that, nigga, jesus, we, riding, out, on, his, ass, today, ]                   \n",
       "4  [when, hitler, invited, the, jews, to, the, smoke, session, but, it, wasnt, the, gas, they, was, expecting, memehistory, ]                                     \n",
       "\n",
       "                                                                                                         Tweet_nonstop  \\\n",
       "0  [, feminists, argue, raising, minimum, wage, cause, womens, studies, major, needs, hour, wage, mcjob]                 \n",
       "1  [army, england, helped, jews, occupy, palestineafter, jews, killed, thousands, englishmen, returned, england, dogs]   \n",
       "2  [dutch, leader, says, europe, collapse, weeks, thnks, altright, whitegenocide, ]                                      \n",
       "3  [next, day, romans, jews, watever, like, aye, fuck, nigga, jesus, riding, ass, today, ]                               \n",
       "4  [hitler, invited, jews, smoke, session, wasnt, gas, expecting, memehistory, ]                                         \n",
       "\n",
       "                                                                                             Tweet_stemmed  \n",
       "0  [, feminist, argu, rais, minimum, wage, caus, women, studi, major, need, hour, wage, mcjob]              \n",
       "1  [armi, england, help, jew, occupi, palestineaft, jew, kill, thousand, englishmen, return, england, dog]  \n",
       "2  [dutch, leader, say, europ, collaps, week, thnk, altright, whitegenocid, ]                               \n",
       "3  [next, day, roman, jew, watev, like, aye, fuck, nigga, jesu, ride, ass, today, ]                         \n",
       "4  [hitler, invit, jew, smoke, session, wasnt, ga, expect, memehistori, ]                                   "
      ]
     },
     "execution_count": 23,
     "metadata": {},
     "output_type": "execute_result"
    }
   ],
   "source": [
    "#Stemming and Lammitization\n",
    "ps = nltk.PorterStemmer()\n",
    "\n",
    "def stemming(text):\n",
    "    text = [ps.stem(word) for word in text]\n",
    "    return text\n",
    "\n",
    "data['Tweet_stemmed'] = data['Tweet_nonstop'].apply(lambda x: stemming(x))\n",
    "data.head()"
   ]
  },
  {
   "cell_type": "code",
   "execution_count": 24,
   "metadata": {},
   "outputs": [
    {
     "name": "stderr",
     "output_type": "stream",
     "text": [
      "/Users/randy/anaconda3/lib/python3.7/site-packages/ipykernel_launcher.py:7: SettingWithCopyWarning: \n",
      "A value is trying to be set on a copy of a slice from a DataFrame.\n",
      "Try using .loc[row_indexer,col_indexer] = value instead\n",
      "\n",
      "See the caveats in the documentation: http://pandas.pydata.org/pandas-docs/stable/indexing.html#indexing-view-versus-copy\n",
      "  import sys\n"
     ]
    },
    {
     "data": {
      "text/html": [
       "<div>\n",
       "<style scoped>\n",
       "    .dataframe tbody tr th:only-of-type {\n",
       "        vertical-align: middle;\n",
       "    }\n",
       "\n",
       "    .dataframe tbody tr th {\n",
       "        vertical-align: top;\n",
       "    }\n",
       "\n",
       "    .dataframe thead th {\n",
       "        text-align: right;\n",
       "    }\n",
       "</style>\n",
       "<table border=\"1\" class=\"dataframe\">\n",
       "  <thead>\n",
       "    <tr style=\"text-align: right;\">\n",
       "      <th></th>\n",
       "      <th>Code</th>\n",
       "      <th>Tweet</th>\n",
       "      <th>non_ascii_tweet</th>\n",
       "      <th>no_punct_tweet</th>\n",
       "      <th>Tweet_tokenized</th>\n",
       "      <th>Tweet_nonstop</th>\n",
       "      <th>Tweet_stemmed</th>\n",
       "      <th>Tweet_lemmatized</th>\n",
       "    </tr>\n",
       "  </thead>\n",
       "  <tbody>\n",
       "    <tr>\n",
       "      <th>0</th>\n",
       "      <td>H</td>\n",
       "      <td>feminists argue for raising minimum wage cause a women's studies major needs the $15 an hour wage at her mcjob.</td>\n",
       "      <td>feminists argue for raising minimum wage cause a women's studies major needs the $ an hour wage at her mcjob.</td>\n",
       "      <td>feminists argue for raising minimum wage cause a womens studies major needs the  an hour wage at her mcjob</td>\n",
       "      <td>[, feminists, argue, for, raising, minimum, wage, cause, a, womens, studies, major, needs, the, an, hour, wage, at, her, mcjob]</td>\n",
       "      <td>[, feminists, argue, raising, minimum, wage, cause, womens, studies, major, needs, hour, wage, mcjob]</td>\n",
       "      <td>[, feminist, argu, rais, minimum, wage, caus, women, studi, major, need, hour, wage, mcjob]</td>\n",
       "      <td>[, feminist, argue, raising, minimum, wage, cause, woman, study, major, need, hour, wage, mcjob]</td>\n",
       "    </tr>\n",
       "    <tr>\n",
       "      <th>1</th>\n",
       "      <td>H</td>\n",
       "      <td>1948army of england helped the jews to occupy palestine.after that the jews killed thousands of englishmen and returned to england as dogs1</td>\n",
       "      <td>army of england helped the jews to occupy palestine.after that the jews killed thousands of englishmen and returned to england as dogs</td>\n",
       "      <td>army of england helped the jews to occupy palestineafter that the jews killed thousands of englishmen and returned to england as dogs</td>\n",
       "      <td>[army, of, england, helped, the, jews, to, occupy, palestineafter, that, the, jews, killed, thousands, of, englishmen, and, returned, to, england, as, dogs]</td>\n",
       "      <td>[army, england, helped, jews, occupy, palestineafter, jews, killed, thousands, englishmen, returned, england, dogs]</td>\n",
       "      <td>[armi, england, help, jew, occupi, palestineaft, jew, kill, thousand, englishmen, return, england, dog]</td>\n",
       "      <td>[army, england, helped, jew, occupy, palestineafter, jew, killed, thousand, englishman, returned, england, dog]</td>\n",
       "    </tr>\n",
       "    <tr>\n",
       "      <th>2</th>\n",
       "      <td>H</td>\n",
       "      <td>dutch leader says europe to collapse in 6 weeks thnks &gt; , , &amp;  #altright #whitegenocide</td>\n",
       "      <td>dutch leader says europe to collapse in  weeks thnks &gt; , , &amp;  #altright #whitegenocide</td>\n",
       "      <td>dutch leader says europe to collapse in  weeks thnks      altright whitegenocide</td>\n",
       "      <td>[dutch, leader, says, europe, to, collapse, in, weeks, thnks, altright, whitegenocide, ]</td>\n",
       "      <td>[dutch, leader, says, europe, collapse, weeks, thnks, altright, whitegenocide, ]</td>\n",
       "      <td>[dutch, leader, say, europ, collaps, week, thnk, altright, whitegenocid, ]</td>\n",
       "      <td>[dutch, leader, say, europe, collapse, week, thnks, altright, whitegenocide, ]</td>\n",
       "    </tr>\n",
       "    <tr>\n",
       "      <th>3</th>\n",
       "      <td>H</td>\n",
       "      <td>the next day the romans and the jews or watever was like \"aye fuck that nigga jesus. we riding out on his ass today .</td>\n",
       "      <td>the next day the romans and the jews or watever was like \"aye fuck that nigga jesus. we riding out on his ass today .</td>\n",
       "      <td>the next day the romans and the jews or watever was like aye fuck that nigga jesus we riding out on his ass today</td>\n",
       "      <td>[the, next, day, the, romans, and, the, jews, or, watever, was, like, aye, fuck, that, nigga, jesus, we, riding, out, on, his, ass, today, ]</td>\n",
       "      <td>[next, day, romans, jews, watever, like, aye, fuck, nigga, jesus, riding, ass, today, ]</td>\n",
       "      <td>[next, day, roman, jew, watev, like, aye, fuck, nigga, jesu, ride, ass, today, ]</td>\n",
       "      <td>[next, day, roman, jew, watever, like, aye, fuck, nigga, jesus, riding, as, today, ]</td>\n",
       "    </tr>\n",
       "    <tr>\n",
       "      <th>4</th>\n",
       "      <td>H</td>\n",
       "      <td>when hitler invited the jews to the smoke session but it wasn't the gas they was expecting #memehistory</td>\n",
       "      <td>when hitler invited the jews to the smoke session but it wasn't the gas they was expecting #memehistory</td>\n",
       "      <td>when hitler invited the jews to the smoke session but it wasnt the gas they was expecting memehistory</td>\n",
       "      <td>[when, hitler, invited, the, jews, to, the, smoke, session, but, it, wasnt, the, gas, they, was, expecting, memehistory, ]</td>\n",
       "      <td>[hitler, invited, jews, smoke, session, wasnt, gas, expecting, memehistory, ]</td>\n",
       "      <td>[hitler, invit, jew, smoke, session, wasnt, ga, expect, memehistori, ]</td>\n",
       "      <td>[hitler, invited, jew, smoke, session, wasnt, gas, expecting, memehistory, ]</td>\n",
       "    </tr>\n",
       "  </tbody>\n",
       "</table>\n",
       "</div>"
      ],
      "text/plain": [
       "  Code  \\\n",
       "0  H     \n",
       "1  H     \n",
       "2  H     \n",
       "3  H     \n",
       "4  H     \n",
       "\n",
       "                                                                                                                                         Tweet  \\\n",
       "0    feminists argue for raising minimum wage cause a women's studies major needs the $15 an hour wage at her mcjob.                             \n",
       "1  1948army of england helped the jews to occupy palestine.after that the jews killed thousands of englishmen and returned to england as dogs1   \n",
       "2  dutch leader says europe to collapse in 6 weeks thnks > , , &  #altright #whitegenocide                                                       \n",
       "3  the next day the romans and the jews or watever was like \"aye fuck that nigga jesus. we riding out on his ass today .                         \n",
       "4  when hitler invited the jews to the smoke session but it wasn't the gas they was expecting #memehistory                                       \n",
       "\n",
       "                                                                                                                          non_ascii_tweet  \\\n",
       "0    feminists argue for raising minimum wage cause a women's studies major needs the $ an hour wage at her mcjob.                          \n",
       "1  army of england helped the jews to occupy palestine.after that the jews killed thousands of englishmen and returned to england as dogs   \n",
       "2  dutch leader says europe to collapse in  weeks thnks > , , &  #altright #whitegenocide                                                   \n",
       "3  the next day the romans and the jews or watever was like \"aye fuck that nigga jesus. we riding out on his ass today .                    \n",
       "4  when hitler invited the jews to the smoke session but it wasn't the gas they was expecting #memehistory                                  \n",
       "\n",
       "                                                                                                                          no_punct_tweet  \\\n",
       "0    feminists argue for raising minimum wage cause a womens studies major needs the  an hour wage at her mcjob                            \n",
       "1  army of england helped the jews to occupy palestineafter that the jews killed thousands of englishmen and returned to england as dogs   \n",
       "2  dutch leader says europe to collapse in  weeks thnks      altright whitegenocide                                                        \n",
       "3  the next day the romans and the jews or watever was like aye fuck that nigga jesus we riding out on his ass today                       \n",
       "4  when hitler invited the jews to the smoke session but it wasnt the gas they was expecting memehistory                                   \n",
       "\n",
       "                                                                                                                                                Tweet_tokenized  \\\n",
       "0  [, feminists, argue, for, raising, minimum, wage, cause, a, womens, studies, major, needs, the, an, hour, wage, at, her, mcjob]                                \n",
       "1  [army, of, england, helped, the, jews, to, occupy, palestineafter, that, the, jews, killed, thousands, of, englishmen, and, returned, to, england, as, dogs]   \n",
       "2  [dutch, leader, says, europe, to, collapse, in, weeks, thnks, altright, whitegenocide, ]                                                                       \n",
       "3  [the, next, day, the, romans, and, the, jews, or, watever, was, like, aye, fuck, that, nigga, jesus, we, riding, out, on, his, ass, today, ]                   \n",
       "4  [when, hitler, invited, the, jews, to, the, smoke, session, but, it, wasnt, the, gas, they, was, expecting, memehistory, ]                                     \n",
       "\n",
       "                                                                                                         Tweet_nonstop  \\\n",
       "0  [, feminists, argue, raising, minimum, wage, cause, womens, studies, major, needs, hour, wage, mcjob]                 \n",
       "1  [army, england, helped, jews, occupy, palestineafter, jews, killed, thousands, englishmen, returned, england, dogs]   \n",
       "2  [dutch, leader, says, europe, collapse, weeks, thnks, altright, whitegenocide, ]                                      \n",
       "3  [next, day, romans, jews, watever, like, aye, fuck, nigga, jesus, riding, ass, today, ]                               \n",
       "4  [hitler, invited, jews, smoke, session, wasnt, gas, expecting, memehistory, ]                                         \n",
       "\n",
       "                                                                                             Tweet_stemmed  \\\n",
       "0  [, feminist, argu, rais, minimum, wage, caus, women, studi, major, need, hour, wage, mcjob]               \n",
       "1  [armi, england, help, jew, occupi, palestineaft, jew, kill, thousand, englishmen, return, england, dog]   \n",
       "2  [dutch, leader, say, europ, collaps, week, thnk, altright, whitegenocid, ]                                \n",
       "3  [next, day, roman, jew, watev, like, aye, fuck, nigga, jesu, ride, ass, today, ]                          \n",
       "4  [hitler, invit, jew, smoke, session, wasnt, ga, expect, memehistori, ]                                    \n",
       "\n",
       "                                                                                                  Tweet_lemmatized  \n",
       "0  [, feminist, argue, raising, minimum, wage, cause, woman, study, major, need, hour, wage, mcjob]                 \n",
       "1  [army, england, helped, jew, occupy, palestineafter, jew, killed, thousand, englishman, returned, england, dog]  \n",
       "2  [dutch, leader, say, europe, collapse, week, thnks, altright, whitegenocide, ]                                   \n",
       "3  [next, day, roman, jew, watever, like, aye, fuck, nigga, jesus, riding, as, today, ]                             \n",
       "4  [hitler, invited, jew, smoke, session, wasnt, gas, expecting, memehistory, ]                                     "
      ]
     },
     "execution_count": 24,
     "metadata": {},
     "output_type": "execute_result"
    }
   ],
   "source": [
    "wn = nltk.WordNetLemmatizer()\n",
    "\n",
    "def lemmatizer(text):\n",
    "    text = [wn.lemmatize(word) for word in text]\n",
    "    return text\n",
    "\n",
    "data['Tweet_lemmatized'] = data['Tweet_nonstop'].apply(lambda x: lemmatizer(x))\n",
    "data.head()"
   ]
  },
  {
   "cell_type": "code",
   "execution_count": 25,
   "metadata": {},
   "outputs": [],
   "source": [
    "def clean_text(text):\n",
    "    text_lc = \"\".join([word.lower() for word in text if word not in string.punctuation]) # remove puntuation\n",
    "    text_rc = re.sub('[0-9]+', '', text_lc)\n",
    "    tokens = re.split('\\W+', text_rc)    # tokenization\n",
    "    text = [ps.stem(word) for word in tokens if word not in stopword]  # remove stopwords and stemming\n",
    "    return text"
   ]
  },
  {
   "cell_type": "code",
   "execution_count": 41,
   "metadata": {},
   "outputs": [
    {
     "name": "stdout",
     "output_type": "stream",
     "text": [
      "20360 Number of tweets has 19873 words\n",
      "Dimensions of Document-term matrix: (20360, 19873)\n"
     ]
    }
   ],
   "source": [
    "countVectorizer = CountVectorizer(analyzer=clean_text, ngram_range=(1,3), stop_words='english') \n",
    "countVector = countVectorizer.fit_transform(data['Tweet'])\n",
    "print('{} Number of tweets has {} words'.format(countVector.shape[0], countVector.shape[1]))\n",
    "print(f\"Dimensions of Document-term matrix: {countVector.toarray().shape}\")\n",
    "# print(countVectorizer.get_feature_names())"
   ]
  },
  {
   "cell_type": "code",
   "execution_count": 42,
   "metadata": {},
   "outputs": [
    {
     "data": {
      "text/html": [
       "<div>\n",
       "<style scoped>\n",
       "    .dataframe tbody tr th:only-of-type {\n",
       "        vertical-align: middle;\n",
       "    }\n",
       "\n",
       "    .dataframe tbody tr th {\n",
       "        vertical-align: top;\n",
       "    }\n",
       "\n",
       "    .dataframe thead th {\n",
       "        text-align: right;\n",
       "    }\n",
       "</style>\n",
       "<table border=\"1\" class=\"dataframe\">\n",
       "  <thead>\n",
       "    <tr style=\"text-align: right;\">\n",
       "      <th></th>\n",
       "      <th></th>\n",
       "      <th>aaaaaaarm</th>\n",
       "      <th>aaaaaangel</th>\n",
       "      <th>aaaaallllll</th>\n",
       "      <th>aaayye</th>\n",
       "      <th>aafreedibi</th>\n",
       "      <th>aahahah</th>\n",
       "      <th>aamer</th>\n",
       "      <th>aamerica</th>\n",
       "      <th>aampm</th>\n",
       "      <th>...</th>\n",
       "      <th>ômiddleclassingõ</th>\n",
       "      <th>ônot</th>\n",
       "      <th>ôrape</th>\n",
       "      <th>ôsex</th>\n",
       "      <th>ôswedish</th>\n",
       "      <th>ôtoxic</th>\n",
       "      <th>õ</th>\n",
       "      <th>öìäåâå</th>\n",
       "      <th>øø</th>\n",
       "      <th>û</th>\n",
       "    </tr>\n",
       "  </thead>\n",
       "  <tbody>\n",
       "    <tr>\n",
       "      <th>0</th>\n",
       "      <td>1</td>\n",
       "      <td>0</td>\n",
       "      <td>0</td>\n",
       "      <td>0</td>\n",
       "      <td>0</td>\n",
       "      <td>0</td>\n",
       "      <td>0</td>\n",
       "      <td>0</td>\n",
       "      <td>0</td>\n",
       "      <td>0</td>\n",
       "      <td>...</td>\n",
       "      <td>0</td>\n",
       "      <td>0</td>\n",
       "      <td>0</td>\n",
       "      <td>0</td>\n",
       "      <td>0</td>\n",
       "      <td>0</td>\n",
       "      <td>0</td>\n",
       "      <td>0</td>\n",
       "      <td>0</td>\n",
       "      <td>0</td>\n",
       "    </tr>\n",
       "    <tr>\n",
       "      <th>1</th>\n",
       "      <td>0</td>\n",
       "      <td>0</td>\n",
       "      <td>0</td>\n",
       "      <td>0</td>\n",
       "      <td>0</td>\n",
       "      <td>0</td>\n",
       "      <td>0</td>\n",
       "      <td>0</td>\n",
       "      <td>0</td>\n",
       "      <td>0</td>\n",
       "      <td>...</td>\n",
       "      <td>0</td>\n",
       "      <td>0</td>\n",
       "      <td>0</td>\n",
       "      <td>0</td>\n",
       "      <td>0</td>\n",
       "      <td>0</td>\n",
       "      <td>0</td>\n",
       "      <td>0</td>\n",
       "      <td>0</td>\n",
       "      <td>0</td>\n",
       "    </tr>\n",
       "    <tr>\n",
       "      <th>2</th>\n",
       "      <td>1</td>\n",
       "      <td>0</td>\n",
       "      <td>0</td>\n",
       "      <td>0</td>\n",
       "      <td>0</td>\n",
       "      <td>0</td>\n",
       "      <td>0</td>\n",
       "      <td>0</td>\n",
       "      <td>0</td>\n",
       "      <td>0</td>\n",
       "      <td>...</td>\n",
       "      <td>0</td>\n",
       "      <td>0</td>\n",
       "      <td>0</td>\n",
       "      <td>0</td>\n",
       "      <td>0</td>\n",
       "      <td>0</td>\n",
       "      <td>0</td>\n",
       "      <td>0</td>\n",
       "      <td>0</td>\n",
       "      <td>0</td>\n",
       "    </tr>\n",
       "    <tr>\n",
       "      <th>3</th>\n",
       "      <td>1</td>\n",
       "      <td>0</td>\n",
       "      <td>0</td>\n",
       "      <td>0</td>\n",
       "      <td>0</td>\n",
       "      <td>0</td>\n",
       "      <td>0</td>\n",
       "      <td>0</td>\n",
       "      <td>0</td>\n",
       "      <td>0</td>\n",
       "      <td>...</td>\n",
       "      <td>0</td>\n",
       "      <td>0</td>\n",
       "      <td>0</td>\n",
       "      <td>0</td>\n",
       "      <td>0</td>\n",
       "      <td>0</td>\n",
       "      <td>0</td>\n",
       "      <td>0</td>\n",
       "      <td>0</td>\n",
       "      <td>0</td>\n",
       "    </tr>\n",
       "    <tr>\n",
       "      <th>4</th>\n",
       "      <td>1</td>\n",
       "      <td>0</td>\n",
       "      <td>0</td>\n",
       "      <td>0</td>\n",
       "      <td>0</td>\n",
       "      <td>0</td>\n",
       "      <td>0</td>\n",
       "      <td>0</td>\n",
       "      <td>0</td>\n",
       "      <td>0</td>\n",
       "      <td>...</td>\n",
       "      <td>0</td>\n",
       "      <td>0</td>\n",
       "      <td>0</td>\n",
       "      <td>0</td>\n",
       "      <td>0</td>\n",
       "      <td>0</td>\n",
       "      <td>0</td>\n",
       "      <td>0</td>\n",
       "      <td>0</td>\n",
       "      <td>0</td>\n",
       "    </tr>\n",
       "  </tbody>\n",
       "</table>\n",
       "<p>5 rows × 19873 columns</p>\n",
       "</div>"
      ],
      "text/plain": [
       "      aaaaaaarm  aaaaaangel  aaaaallllll  aaayye  aafreedibi  aahahah  aamer  \\\n",
       "0  1  0          0           0            0       0           0        0       \n",
       "1  0  0          0           0            0       0           0        0       \n",
       "2  1  0          0           0            0       0           0        0       \n",
       "3  1  0          0           0            0       0           0        0       \n",
       "4  1  0          0           0            0       0           0        0       \n",
       "\n",
       "   aamerica  aampm  ...  ômiddleclassingõ  ônot  ôrape  ôsex  ôswedish  \\\n",
       "0  0         0      ...  0                 0     0      0     0          \n",
       "1  0         0      ...  0                 0     0      0     0          \n",
       "2  0         0      ...  0                 0     0      0     0          \n",
       "3  0         0      ...  0                 0     0      0     0          \n",
       "4  0         0      ...  0                 0     0      0     0          \n",
       "\n",
       "   ôtoxic  õ  öìäåâå  øø  û  \n",
       "0  0       0  0       0   0  \n",
       "1  0       0  0       0   0  \n",
       "2  0       0  0       0   0  \n",
       "3  0       0  0       0   0  \n",
       "4  0       0  0       0   0  \n",
       "\n",
       "[5 rows x 19873 columns]"
      ]
     },
     "execution_count": 42,
     "metadata": {},
     "output_type": "execute_result"
    }
   ],
   "source": [
    "count_vect_df = pd.DataFrame(countVector.toarray(), columns=countVectorizer.get_feature_names())\n",
    "count_vect_df.head()"
   ]
  },
  {
   "cell_type": "code",
   "execution_count": 28,
   "metadata": {},
   "outputs": [],
   "source": [
    "H_tweet_1 = data[data['Code'] == 'H']['Tweet'].apply(lambda x: len(x) - len(' '))\n",
    "NH_tweet_0 = data[data['Code'] == 'N']['Tweet'].apply(lambda x: len(x) - len(' '))"
   ]
  },
  {
   "cell_type": "code",
   "execution_count": 29,
   "metadata": {},
   "outputs": [
    {
     "name": "stderr",
     "output_type": "stream",
     "text": [
      "/Users/randy/anaconda3/lib/python3.7/site-packages/matplotlib/axes/_axes.py:6521: MatplotlibDeprecationWarning: \n",
      "The 'normed' kwarg was deprecated in Matplotlib 2.1 and will be removed in 3.1. Use 'density' instead.\n",
      "  alternative=\"'density'\", removal=\"3.1\")\n"
     ]
    },
    {
     "data": {
      "image/png": "[encoded data removed]",
      "text/plain": [
       "<Figure size 432x288 with 1 Axes>"
      ]
     },
     "metadata": {
      "needs_background": "light"
     },
     "output_type": "display_data"
    }
   ],
   "source": [
    "bins_ = np.linspace(0, 200, 25)\n",
    "\n",
    "#Harassment plot\n",
    "plt.hist(H_tweet_1, bins= bins_, normed=True, alpha = 1, color='red', label = 'Harassment');\n",
    "plt.legend();"
   ]
  },
  {
   "cell_type": "code",
   "execution_count": 30,
   "metadata": {},
   "outputs": [
    {
     "name": "stderr",
     "output_type": "stream",
     "text": [
      "/Users/randy/anaconda3/lib/python3.7/site-packages/matplotlib/axes/_axes.py:6521: MatplotlibDeprecationWarning: \n",
      "The 'normed' kwarg was deprecated in Matplotlib 2.1 and will be removed in 3.1. Use 'density' instead.\n",
      "  alternative=\"'density'\", removal=\"3.1\")\n"
     ]
    },
    {
     "data": {
      "image/png": "[encoded data removed]",
      "text/plain": [
       "<Figure size 432x288 with 1 Axes>"
      ]
     },
     "metadata": {
      "needs_background": "light"
     },
     "output_type": "display_data"
    }
   ],
   "source": [
    "#not harassment plot\n",
    "plt.hist(NH_tweet_0, bins= bins_, normed=True, alpha = 1, color='blue', label = 'Not Harassment');\n",
    "plt.legend();"
   ]
  },
  {
   "cell_type": "code",
   "execution_count": 31,
   "metadata": {},
   "outputs": [],
   "source": [
    "#put dataframe into a pickle for later use\n",
    "pickle.dump(data, open( \"save.p\", \"wb\" ) )"
   ]
  },
  {
   "cell_type": "code",
   "execution_count": null,
   "metadata": {},
   "outputs": [],
   "source": []
  },
  {
   "cell_type": "code",
   "execution_count": null,
   "metadata": {},
   "outputs": [],
   "source": []
  },
  {
   "cell_type": "code",
   "execution_count": null,
   "metadata": {},
   "outputs": [],
   "source": []
  },
  {
   "cell_type": "code",
   "execution_count": null,
   "metadata": {},
   "outputs": [],
   "source": []
  },
  {
   "cell_type": "code",
   "execution_count": null,
   "metadata": {},
   "outputs": [],
   "source": []
  },
  {
   "cell_type": "code",
   "execution_count": null,
   "metadata": {},
   "outputs": [],
   "source": []
  },
  {
   "cell_type": "code",
   "execution_count": null,
   "metadata": {},
   "outputs": [],
   "source": []
  },
  {
   "cell_type": "code",
   "execution_count": null,
   "metadata": {},
   "outputs": [],
   "source": []
  },
  {
   "cell_type": "code",
   "execution_count": null,
   "metadata": {},
   "outputs": [],
   "source": []
  },
  {
   "cell_type": "code",
   "execution_count": null,
   "metadata": {},
   "outputs": [],
   "source": []
  },
  {
   "cell_type": "code",
   "execution_count": null,
   "metadata": {},
   "outputs": [],
   "source": []
  },
  {
   "cell_type": "code",
   "execution_count": 64,
   "metadata": {},
   "outputs": [],
   "source": [
    "# Path to where the word2vec file lives\n",
    "google_vec_file = '/Users/randy/Documents/GitHub/data_files/GoogleNews-vectors-negative300.bin.gz'"
   ]
  },
  {
   "cell_type": "code",
   "execution_count": 65,
   "metadata": {},
   "outputs": [],
   "source": [
    "# Load it!  This might take a few minutes...\n",
    "# model = gensim.models.KeyedVectors.load_word2vec_format(google_vec_file, binary=True)"
   ]
  },
  {
   "cell_type": "code",
   "execution_count": 66,
   "metadata": {},
   "outputs": [
    {
     "data": {
      "text/plain": [
       "array([-0.03320312, -0.49804688,  0.0612793 ,  0.33007812,  0.21972656],\n",
       "      dtype=float32)"
      ]
     },
     "execution_count": 66,
     "metadata": {},
     "output_type": "execute_result"
    }
   ],
   "source": [
    "# We can access individual word vectors using a dictionary-like syntax\n",
    "model['Metis'][0:5]"
   ]
  },
  {
   "cell_type": "code",
   "execution_count": 67,
   "metadata": {},
   "outputs": [
    {
     "data": {
      "text/plain": [
       "[('meetings', 0.757283091545105),\n",
       " ('meeeting', 0.6875465512275696),\n",
       " ('Meeting', 0.6848756074905396)]"
      ]
     },
     "execution_count": 67,
     "metadata": {},
     "output_type": "execute_result"
    }
   ],
   "source": [
    "# Some cool results!\n",
    "model.most_similar('meeting' ,topn=3)"
   ]
  },
  {
   "cell_type": "code",
   "execution_count": 68,
   "metadata": {},
   "outputs": [
    {
     "data": {
      "text/plain": [
       "[('President', 0.800627589225769),\n",
       " ('chairman', 0.6708744764328003),\n",
       " ('vice_president', 0.6700225472450256),\n",
       " ('chief_executive', 0.6691275238990784),\n",
       " ('CEO', 0.6590125560760498)]"
      ]
     },
     "execution_count": 68,
     "metadata": {},
     "output_type": "execute_result"
    }
   ],
   "source": [
    "model.most_similar('president' ,topn=5)"
   ]
  },
  {
   "cell_type": "code",
   "execution_count": 53,
   "metadata": {},
   "outputs": [
    {
     "name": "stdout",
     "output_type": "stream",
     "text": [
      "20360 Number of tweets has 19873 words\n",
      "Dimensions of Document-term matrix: (20360, 19873)\n"
     ]
    }
   ],
   "source": [
    "countVectorizer1 = CountVectorizer(analyzer=clean_text, ngram_range=(1,3), stop_words='english') \n",
    "countVector1 = countVectorizer.fit_transform(data['Tweet'])\n",
    "print('{} Number of tweets has {} words'.format(countVector1.shape[0], countVector1.shape[1]))\n",
    "print(f\"Dimensions of Document-term matrix: {countVector1.toarray().shape}\")\n",
    "# print(countVectorizer.get_feature_names())"
   ]
  },
  {
   "cell_type": "code",
   "execution_count": null,
   "metadata": {},
   "outputs": [],
   "source": [
    "#grab news data\n",
    "categories = ['alt.atheism', 'soc.religion.christian','comp.graphics', 'sci.med']\n",
    "twenty_train = fetch_20newsgroups(subset='train', categories=categories, shuffle=True, random_state=42)\n",
    "#subset 50\n",
    "corpus = twenty_train.data[0:50]"
   ]
  },
  {
   "cell_type": "code",
   "execution_count": 84,
   "metadata": {},
   "outputs": [],
   "source": [
    "# Tokenize the documents\n",
    "# Convert a document into a list of lowercase tokens.\n",
    "tokenized_docs = [gensim.utils.simple_preprocess(d) for d in data['Tweet']]\n",
    "\n",
    "# Create a Gensim Dictionary.  This creates an id to word mapping for everything in our vocbulary\n",
    "# It is NOT the same as the dictionary object in the Python standard library\n",
    "# index is key, value is word\n",
    "mydict = gensim.corpora.Dictionary()\n",
    "\n",
    "# Create a Gensim Corpus object.  This creates a list of tuples for each document.\n",
    "# The first element of the tuple is the word id, the second is the number of counts\n",
    "mycorpus = [mydict.doc2bow(doc, allow_update=True) for doc in tokenized_docs]"
   ]
  },
  {
   "cell_type": "code",
   "execution_count": 87,
   "metadata": {},
   "outputs": [
    {
     "data": {
      "text/plain": [
       "[[(0, 1),\n",
       "  (1, 1),\n",
       "  (2, 1),\n",
       "  (3, 1),\n",
       "  (4, 1),\n",
       "  (5, 1),\n",
       "  (6, 1),\n",
       "  (7, 1),\n",
       "  (8, 1),\n",
       "  (9, 1),\n",
       "  (10, 1),\n",
       "  (11, 1),\n",
       "  (12, 1),\n",
       "  (13, 1),\n",
       "  (14, 1),\n",
       "  (15, 2),\n",
       "  (16, 1)],\n",
       " [(14, 2),\n",
       "  (17, 1),\n",
       "  (18, 1),\n",
       "  (19, 1),\n",
       "  (20, 1),\n",
       "  (21, 1),\n",
       "  (22, 2),\n",
       "  (23, 1),\n",
       "  (24, 1),\n",
       "  (25, 2),\n",
       "  (26, 1),\n",
       "  (27, 1),\n",
       "  (28, 2),\n",
       "  (29, 1),\n",
       "  (30, 1),\n",
       "  (31, 1),\n",
       "  (32, 1),\n",
       "  (33, 2)],\n",
       " [(33, 1),\n",
       "  (34, 1),\n",
       "  (35, 1),\n",
       "  (36, 1),\n",
       "  (37, 1),\n",
       "  (38, 1),\n",
       "  (39, 1),\n",
       "  (40, 1),\n",
       "  (41, 1),\n",
       "  (42, 1),\n",
       "  (43, 1)],\n",
       " [(14, 3),\n",
       "  (18, 1),\n",
       "  (25, 1),\n",
       "  (31, 1),\n",
       "  (44, 1),\n",
       "  (45, 1),\n",
       "  (46, 1),\n",
       "  (47, 1),\n",
       "  (48, 1),\n",
       "  (49, 1),\n",
       "  (50, 1),\n",
       "  (51, 1),\n",
       "  (52, 1),\n",
       "  (53, 1),\n",
       "  (54, 1),\n",
       "  (55, 1),\n",
       "  (56, 1),\n",
       "  (57, 1),\n",
       "  (58, 1),\n",
       "  (59, 1),\n",
       "  (60, 1),\n",
       "  (61, 1)],\n",
       " [(14, 3),\n",
       "  (25, 1),\n",
       "  (33, 1),\n",
       "  (59, 1),\n",
       "  (62, 1),\n",
       "  (63, 1),\n",
       "  (64, 1),\n",
       "  (65, 1),\n",
       "  (66, 1),\n",
       "  (67, 1),\n",
       "  (68, 1),\n",
       "  (69, 1),\n",
       "  (70, 1),\n",
       "  (71, 1),\n",
       "  (72, 1),\n",
       "  (73, 1)],\n",
       " [(2, 1),\n",
       "  (5, 1),\n",
       "  (14, 2),\n",
       "  (25, 1),\n",
       "  (33, 1),\n",
       "  (48, 1),\n",
       "  (67, 1),\n",
       "  (71, 1),\n",
       "  (74, 1),\n",
       "  (75, 1),\n",
       "  (76, 1),\n",
       "  (77, 1),\n",
       "  (78, 1),\n",
       "  (79, 1),\n",
       "  (80, 1),\n",
       "  (81, 1),\n",
       "  (82, 1),\n",
       "  (83, 1),\n",
       "  (84, 1),\n",
       "  (85, 1)],\n",
       " [(50, 1),\n",
       "  (86, 1),\n",
       "  (87, 1),\n",
       "  (88, 1),\n",
       "  (89, 1),\n",
       "  (90, 1),\n",
       "  (91, 1),\n",
       "  (92, 1),\n",
       "  (93, 1),\n",
       "  (94, 1)],\n",
       " [(14, 2),\n",
       "  (25, 1),\n",
       "  (33, 1),\n",
       "  (95, 1),\n",
       "  (96, 1),\n",
       "  (97, 1),\n",
       "  (98, 1),\n",
       "  (99, 1),\n",
       "  (100, 1),\n",
       "  (101, 1),\n",
       "  (102, 1)],\n",
       " [(14, 3),\n",
       "  (25, 1),\n",
       "  (26, 2),\n",
       "  (33, 1),\n",
       "  (38, 1),\n",
       "  (62, 1),\n",
       "  (65, 1),\n",
       "  (79, 1),\n",
       "  (103, 1),\n",
       "  (104, 1),\n",
       "  (105, 1),\n",
       "  (106, 1),\n",
       "  (107, 1),\n",
       "  (108, 1),\n",
       "  (109, 2),\n",
       "  (110, 1)],\n",
       " [(14, 2),\n",
       "  (18, 1),\n",
       "  (25, 1),\n",
       "  (71, 2),\n",
       "  (73, 1),\n",
       "  (111, 1),\n",
       "  (112, 2),\n",
       "  (113, 1),\n",
       "  (114, 2),\n",
       "  (115, 1),\n",
       "  (116, 2),\n",
       "  (117, 1),\n",
       "  (118, 1),\n",
       "  (119, 1)]]"
      ]
     },
     "execution_count": 87,
     "metadata": {},
     "output_type": "execute_result"
    }
   ],
   "source": [
    "mycorpus[0:10]"
   ]
  },
  {
   "cell_type": "code",
   "execution_count": 88,
   "metadata": {},
   "outputs": [],
   "source": [
    "# size refers to the desired dimension of our word vectors\n",
    "# window refers to the size of our context window\n",
    "# sg means that we are using the Skip-gram architecture\n",
    "\n",
    "model = gensim.models.Word2Vec(tokenized_docs, size=10, window=2,min_count=1, sg=1)"
   ]
  },
  {
   "cell_type": "code",
   "execution_count": 89,
   "metadata": {},
   "outputs": [
    {
     "name": "stdout",
     "output_type": "stream",
     "text": [
      "[-0.10008755 -0.03879893  0.14781567  0.12880625 -0.288257    0.17791538\n",
      " -0.10459602 -0.27453065  0.00481963 -0.31677166]\n"
     ]
    },
    {
     "name": "stderr",
     "output_type": "stream",
     "text": [
      "/Users/randy/anaconda3/lib/python3.7/site-packages/ipykernel_launcher.py:1: DeprecationWarning: Call to deprecated `__getitem__` (Method will be removed in 4.0.0, use self.wv.__getitem__() instead).\n",
      "  \"\"\"Entry point for launching an IPython kernel.\n"
     ]
    }
   ],
   "source": [
    "print(model['potato'])"
   ]
  },
  {
   "cell_type": "code",
   "execution_count": null,
   "metadata": {},
   "outputs": [],
   "source": []
  },
  {
   "cell_type": "code",
   "execution_count": null,
   "metadata": {},
   "outputs": [],
   "source": []
  },
  {
   "cell_type": "code",
   "execution_count": null,
   "metadata": {},
   "outputs": [],
   "source": []
  },
  {
   "cell_type": "code",
   "execution_count": null,
   "metadata": {},
   "outputs": [],
   "source": []
  },
  {
   "cell_type": "code",
   "execution_count": null,
   "metadata": {},
   "outputs": [],
   "source": []
  },
  {
   "cell_type": "code",
   "execution_count": null,
   "metadata": {},
   "outputs": [],
   "source": []
  },
  {
   "cell_type": "code",
   "execution_count": null,
   "metadata": {},
   "outputs": [],
   "source": []
  },
  {
   "cell_type": "code",
   "execution_count": null,
   "metadata": {},
   "outputs": [],
   "source": []
  },
  {
   "cell_type": "code",
   "execution_count": null,
   "metadata": {},
   "outputs": [],
   "source": []
  },
  {
   "cell_type": "code",
   "execution_count": null,
   "metadata": {},
   "outputs": [],
   "source": []
  },
  {
   "cell_type": "code",
   "execution_count": null,
   "metadata": {},
   "outputs": [],
   "source": []
  },
  {
   "cell_type": "code",
   "execution_count": null,
   "metadata": {},
   "outputs": [],
   "source": []
  },
  {
   "cell_type": "code",
   "execution_count": null,
   "metadata": {},
   "outputs": [],
   "source": []
  },
  {
   "cell_type": "code",
   "execution_count": null,
   "metadata": {},
   "outputs": [],
   "source": []
  },
  {
   "cell_type": "code",
   "execution_count": null,
   "metadata": {},
   "outputs": [],
   "source": []
  },
  {
   "cell_type": "code",
   "execution_count": null,
   "metadata": {},
   "outputs": [],
   "source": []
  }
 ],
 "metadata": {
  "kernelspec": {
   "display_name": "Python 3",
   "language": "python",
   "name": "python3"
  },
  "language_info": {
   "codemirror_mode": {
    "name": "ipython",
    "version": 3
   },
   "file_extension": ".py",
   "mimetype": "text/x-python",
   "name": "python",
   "nbconvert_exporter": "python",
   "pygments_lexer": "ipython3",
   "version": "3.7.3"
  }
 },
 "nbformat": 4,
 "nbformat_minor": 2
}
