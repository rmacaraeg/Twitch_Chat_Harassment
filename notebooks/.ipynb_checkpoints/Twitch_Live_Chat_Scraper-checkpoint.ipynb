{
 "cells": [
  {
   "cell_type": "code",
   "execution_count": 1,
   "metadata": {},
   "outputs": [],
   "source": [
    "server = 'irc.chat.twitch.tv'\n",
    "port = 6667\n",
    "nickname = '' #username goes here\n",
    "token = '' #oauth token goes here (include the oauth:)\n",
    "channel = '#lord_kebun'\n",
    "chat = 'lord_kebun_chat.log'"
   ]
  },
  {
   "cell_type": "markdown",
   "metadata": {},
   "source": [
    "# Connection to Twitch IRC\n",
    "\n",
    "To establish a connection to Twitch IRC we'll be using Python's socket library. First we need to instantiate a socket:"
   ]
  },
  {
   "cell_type": "code",
   "execution_count": 7,
   "metadata": {},
   "outputs": [],
   "source": [
    "import socket\n",
    "\n",
    "sock = socket.socket()"
   ]
  },
  {
   "cell_type": "markdown",
   "metadata": {},
   "source": [
    "Next we'll connect this socket to Twitch by calling connect() with the server and port we defined above:"
   ]
  },
  {
   "cell_type": "code",
   "execution_count": 8,
   "metadata": {},
   "outputs": [],
   "source": [
    "sock.connect((server, port))"
   ]
  },
  {
   "cell_type": "markdown",
   "metadata": {},
   "source": [
    "Once connected, we need to send our token and nickname for authentication, and the channel to connect to over the socket.  \n",
    "  \n",
    "\n",
    "With sockets, we need to send() these parameters as encoded strings:"
   ]
  },
  {
   "cell_type": "code",
   "execution_count": 9,
   "metadata": {},
   "outputs": [
    {
     "data": {
      "text/plain": [
       "17"
      ]
     },
     "execution_count": 9,
     "metadata": {},
     "output_type": "execute_result"
    }
   ],
   "source": [
    "sock.send(f\"PASS {token}\\n\".encode('utf-8'))\n",
    "sock.send(f\"NICK {nickname}\\n\".encode('utf-8'))\n",
    "sock.send(f\"JOIN {channel}\\n\".encode('utf-8'))"
   ]
  },
  {
   "cell_type": "markdown",
   "metadata": {},
   "source": [
    "PASS carries our token, NICK carries our username, and JOIN carries the channel. These terms are actually common among many IRC connections, not just Twitch. So you should be able to use this for other IRC you wish to connect to, but with different values.\n",
    "\n",
    "Note that we send encoded strings by calling .encode('utf-8'). This encodes the string into bytes which allows it to be sent over the socket."
   ]
  },
  {
   "cell_type": "markdown",
   "metadata": {},
   "source": [
    "# Receiving channel messages"
   ]
  },
  {
   "cell_type": "markdown",
   "metadata": {},
   "source": [
    "Now we have successfully connected and can receive responses from the channel we subscribed to. To get a single response we can call .recv() and then decode the message from bytes:"
   ]
  },
  {
   "cell_type": "code",
   "execution_count": 11,
   "metadata": {},
   "outputs": [
    {
     "data": {
      "text/plain": [
       "':highstatus!highstatus@highstatus.tmi.twitch.tv PRIVMSG #lord_kebun :LANDED\\r\\n:silverswoosh!silverswoosh@silverswoosh.tmi.twitch.tv PRIVMSG #lord_kebun :whyyyyyyyyyyyyyyyyyy\\r\\n:bigslong88!bigslong88@bigslong88.tmi.twitch.tv PRIVMSG #lord_kebun :kebunCrash kebunCrash kebunCrash kebunCrash kebunCrash kebunCrash kebunCrash kebunCrash kebunCrash kebunCrash kebunCrash kebunCrash\\r\\n:kinggod_zilla!kinggod_zilla@kinggod_zilla.tmi.twitch.tv PRIVMSG #lord_kebun :LUL\\r\\n:bugawhatt!bugawhatt@bugawhatt.tmi.twitch.tv PRIVMSG #lord_kebun :nailed it\\r\\n:zypher02!zypher02@zypher02.tmi.twitch.tv PRIVMSG #lord_kebun :smooth\\r\\n:s_a_u_c_e_y!s_a_u_c_e_y@s_a_u_c_e_y.tmi.twitch.tv PRIVMSG #lord_kebun :holy shit\\r\\n:retcon__!retcon__@retcon__.tmi.twitch.tv PRIVMSG #lord_kebun :11/10\\r\\n:dyam0900!dyam0900@dyam0900.tmi.twitch.tv PRIVMSG #lord_kebun :Booooooooom\\r\\n:gabzo1!gabzo1@gabzo1.tmi.twitch.tv PRIVMSG #lord_kebun :LUL\\r\\n:toombstonehc!toombstonehc@toombstonehc.tmi.twitch.tv PRIVMSG #lord_kebun :nailed it\\r\\n:thehighcounsel!thehighcounsel@thehighcounsel.tmi.twitch.tv PRIVMSG #lord_kebun :Clap\\r\\n:platinum!platinum@platinum.tmi.twitch.tv PRIVMSG #lord_kebun :SO....\\r\\n'"
      ]
     },
     "execution_count": 11,
     "metadata": {},
     "output_type": "execute_result"
    }
   ],
   "source": [
    "resp = sock.recv(2048).decode('utf-8')\n",
    "\n",
    "resp #run this cell twice"
   ]
  },
  {
   "cell_type": "markdown",
   "metadata": {},
   "source": [
    "Note: running this the first time will show a welcome message from Twitch. Run it again to show the first message from the channel."
   ]
  },
  {
   "cell_type": "markdown",
   "metadata": {},
   "source": [
    "Example output (if you were to connect to Ninja's stream):\n",
    "                \n",
    "```\n",
    "':spappygram!spappygram@spappygram.tmi.twitch.tv PRIVMSG #ninja :Chat, let Ninja play solos if he wants. His friends can get in contact with him.\\r\\n'\n",
    "```"
   ]
  },
  {
   "cell_type": "markdown",
   "metadata": {},
   "source": [
    "The 2048 is the buffer size in bytes, or the amount of data to receive. The convention is to use small powers of 2, so 1024, 2048, 4096, etc. Rerunning the above will receive the next message that was pushed to the socket."
   ]
  },
  {
   "cell_type": "markdown",
   "metadata": {},
   "source": [
    "If we need to close and/or reopen the socket just use:\n",
    "    \n",
    "    sock.close()"
   ]
  },
  {
   "cell_type": "markdown",
   "metadata": {},
   "source": [
    "# Writing messages to a file\n",
    "Right now, our socket is being inundated with responses from Twitch but we have two problems:\n",
    "\n",
    "We need to continuously check for new messages\n",
    "We want to log the messages as they come in\n",
    "To fix, we'll use a loop to check for new messages while the socket is open and use Python's logging library to log messages to a file.\n",
    "\n",
    "First, let's set up a basic logger in Python that will write messages to a file:"
   ]
  },
  {
   "cell_type": "code",
   "execution_count": 12,
   "metadata": {},
   "outputs": [],
   "source": [
    "import logging\n",
    "\n",
    "logging.basicConfig(level=logging.DEBUG,\n",
    "                    format='%(asctime)s — %(message)s',\n",
    "                    datefmt='%Y-%m-%d_%H:%M:%S',\n",
    "                    handlers=[logging.FileHandler(chat, encoding='utf-8')])"
   ]
  },
  {
   "cell_type": "markdown",
   "metadata": {},
   "source": [
    "We're setting the log level to DEBUG, which allows all levels of logging to be written to the file. The format is how we want each line to look, which will be the time we recorded the line and message from the channel separated by an em dash. The datefmt is how we want the time portion of the format to be recorded (example below).\n",
    "\n",
    "Finally, we pass a FileHandler to handlers. We could give it multiple handlers to, for example we could add another handler that prints messages to the console. In this case, we're logging to chat.log, which will be created by the handler. Since we're passing a plain filename without a path, the handler will create this file in the current directory. Later on we'll make this filename dynamic to create separate logs for different channels.\n",
    "\n",
    "Let's log the response we received earlier to test it out:"
   ]
  },
  {
   "cell_type": "code",
   "execution_count": 13,
   "metadata": {},
   "outputs": [],
   "source": [
    "logging.info(resp)"
   ]
  },
  {
   "cell_type": "markdown",
   "metadata": {},
   "source": [
    "You can check your log wherever you saved the chat.log file"
   ]
  },
  {
   "cell_type": "markdown",
   "metadata": {},
   "source": [
    "So we have the time the message was logged at the beginning, a double dash separator, and then the message. This format corresponds to the format argument we used in basicConfig.\n",
    "\n",
    "Later, we'll be parsing these each message and use the time as a piece of data to explore."
   ]
  },
  {
   "cell_type": "markdown",
   "metadata": {},
   "source": [
    "# Continuous message writing\n",
    "Now on to continuously checking for new messages in a loop.\n",
    "\n",
    "When we're connected to the socket, Twitch (and other IRC) will periodically send a keyword — \"PING\" — to check if you're still using the connection. We want to check for this keyword, and send an appropriate response — \"PONG\".\n",
    "\n",
    "One other thing we'll do is parse emojis so they can be written to a file. To do this, we'll use the emoji library that will provide a mapping from emojis to their meaning in words. For example, if a 👍 shows up in a message it'll be converted to :thumbs_up:.\n",
    "\n",
    "The following is a while loop that will continuously check for new messages from the socket, send a PONG if necessary, and log messages with parsed emojis:\n",
    "\n"
   ]
  },
  {
   "cell_type": "code",
   "execution_count": 14,
   "metadata": {},
   "outputs": [
    {
     "ename": "KeyboardInterrupt",
     "evalue": "",
     "output_type": "error",
     "traceback": [
      "\u001b[0;31m---------------------------------------------------------------------------\u001b[0m",
      "\u001b[0;31mKeyboardInterrupt\u001b[0m                         Traceback (most recent call last)",
      "\u001b[0;32m<ipython-input-14-61581d213fbb>\u001b[0m in \u001b[0;36m<module>\u001b[0;34m\u001b[0m\n\u001b[1;32m      2\u001b[0m \u001b[0;34m\u001b[0m\u001b[0m\n\u001b[1;32m      3\u001b[0m \u001b[0;32mwhile\u001b[0m \u001b[0;32mTrue\u001b[0m\u001b[0;34m:\u001b[0m\u001b[0;34m\u001b[0m\u001b[0;34m\u001b[0m\u001b[0m\n\u001b[0;32m----> 4\u001b[0;31m     \u001b[0mresp\u001b[0m \u001b[0;34m=\u001b[0m \u001b[0msock\u001b[0m\u001b[0;34m.\u001b[0m\u001b[0mrecv\u001b[0m\u001b[0;34m(\u001b[0m\u001b[0;36m2048\u001b[0m\u001b[0;34m)\u001b[0m\u001b[0;34m.\u001b[0m\u001b[0mdecode\u001b[0m\u001b[0;34m(\u001b[0m\u001b[0;34m'utf-8'\u001b[0m\u001b[0;34m)\u001b[0m\u001b[0;34m\u001b[0m\u001b[0;34m\u001b[0m\u001b[0m\n\u001b[0m\u001b[1;32m      5\u001b[0m \u001b[0;34m\u001b[0m\u001b[0m\n\u001b[1;32m      6\u001b[0m     \u001b[0;32mif\u001b[0m \u001b[0mresp\u001b[0m\u001b[0;34m.\u001b[0m\u001b[0mstartswith\u001b[0m\u001b[0;34m(\u001b[0m\u001b[0;34m'PING'\u001b[0m\u001b[0;34m)\u001b[0m\u001b[0;34m:\u001b[0m\u001b[0;34m\u001b[0m\u001b[0;34m\u001b[0m\u001b[0m\n",
      "\u001b[0;31mKeyboardInterrupt\u001b[0m: "
     ]
    }
   ],
   "source": [
    "from emoji import demojize\n",
    "\n",
    "while True:\n",
    "    resp = sock.recv(2048).decode('utf-8')\n",
    "\n",
    "    if resp.startswith('PING'):\n",
    "        sock.send(\"PONG\\n\".encode('utf-8'))\n",
    "    \n",
    "    elif len(resp) > 0:\n",
    "        logging.info(demojize(resp))\n",
    "        \n",
    "#you have to manually end this one or else it keeps running"
   ]
  },
  {
   "cell_type": "markdown",
   "metadata": {},
   "source": [
    "This will keep running until you stop it. To see the messages in real-time open a new terminal, navigate to the log's location, and run:\n",
    "\n",
    "tail -f chat.log"
   ]
  },
  {
   "cell_type": "markdown",
   "metadata": {},
   "source": [
    "# Parsing logs\n",
    "Our goal for this section is to parse the chat log into a pandas DataFrame to prepare for analysis\n",
    "\n",
    "The columns we'd like to have for analysis are:\n",
    "\n",
    "date and time\n",
    "sender's username\n",
    "and the message\n",
    "We'll need to parse the information from each line, so let's look at an example line again:"
   ]
  },
  {
   "cell_type": "code",
   "execution_count": 15,
   "metadata": {},
   "outputs": [],
   "source": [
    "msg = '2019-05-17_01:46:54 — :doctajay28!doctajay28@doctajay28.tmi.twitch.tv PRIVMSG #lord_kebun :kebunCG kebunCG'"
   ]
  },
  {
   "cell_type": "code",
   "execution_count": 16,
   "metadata": {},
   "outputs": [
    {
     "data": {
      "text/plain": [
       "datetime.datetime(2019, 5, 17, 1, 46, 54)"
      ]
     },
     "execution_count": 16,
     "metadata": {},
     "output_type": "execute_result"
    }
   ],
   "source": [
    "from datetime import datetime\n",
    "\n",
    "time_logged = msg.split()[0].strip()\n",
    "\n",
    "time_logged = datetime.strptime(time_logged, '%Y-%m-%d_%H:%M:%S')\n",
    "\n",
    "time_logged"
   ]
  },
  {
   "cell_type": "markdown",
   "metadata": {},
   "source": [
    "Great! We have a datetime. Let's parse the rest of the message.\n",
    "\n",
    "Since using an em dash (—, or Right-ALT+0151 on Windows) is sometimes used in chat, we will need to split on it, skip the date, and rejoin with an em dash to ensure the message is the same:\n",
    "\n"
   ]
  },
  {
   "cell_type": "code",
   "execution_count": 17,
   "metadata": {},
   "outputs": [
    {
     "data": {
      "text/plain": [
       "':doctajay28!doctajay28@doctajay28.tmi.twitch.tv PRIVMSG #lord_kebun :kebunCG kebunCG'"
      ]
     },
     "execution_count": 17,
     "metadata": {},
     "output_type": "execute_result"
    }
   ],
   "source": [
    "username_message = msg.split('—')[1:]\n",
    "username_message = '—'.join(username_message).strip()\n",
    "\n",
    "username_message"
   ]
  },
  {
   "cell_type": "markdown",
   "metadata": {},
   "source": [
    "The message is structure with a username at the beginning, a '#' denoting the channel, and a colon to say where the message begins."
   ]
  },
  {
   "cell_type": "markdown",
   "metadata": {},
   "source": [
    "Regex is great for this kind of thing. We have three pieces of info we want to extract from a well-formatted string.\n",
    "\n",
    "In the regex search below, each parentheses — (.*) — will capture that part of the string:"
   ]
  },
  {
   "cell_type": "code",
   "execution_count": 18,
   "metadata": {},
   "outputs": [
    {
     "name": "stdout",
     "output_type": "stream",
     "text": [
      "Channel: lord_kebun \n",
      "Username: doctajay28 \n",
      "Message: kebunCG kebunCG\n"
     ]
    }
   ],
   "source": [
    "import re\n",
    "\n",
    "username, channel, message = re.search(':(.*)\\!.*@.*\\.tmi\\.twitch\\.tv PRIVMSG #(.*) :(.*)', username_message).groups()\n",
    "\n",
    "print(f\"Channel: {channel} \\nUsername: {username} \\nMessage: {message}\")"
   ]
  },
  {
   "cell_type": "markdown",
   "metadata": {},
   "source": [
    "Excellent. Now we have each piece parsed. Let's loop through the entire chat log, parse each line like the example line, and create a DataFrame at the end. If you haven't used DataFrames that much, definitely check out our beginners guide to pandas.\n",
    "\n",
    "Here's it all put together:"
   ]
  },
  {
   "cell_type": "code",
   "execution_count": 19,
   "metadata": {},
   "outputs": [],
   "source": [
    "import pandas as pd\n",
    "\n",
    "def get_chat_dataframe(file):\n",
    "    data = []\n",
    "\n",
    "    with open(file, 'r', encoding='utf-8') as f:\n",
    "        lines = f.read().split('\\n')\n",
    "        \n",
    "        for line in lines:\n",
    "            try:\n",
    "                time_logged = line.split('—')[0].strip()\n",
    "                time_logged = datetime.strptime(time_logged, '%Y-%m-%d_%H:%M:%S')\n",
    "\n",
    "                username_message = line.split('—')[1:]\n",
    "                username_message = '—'.join(username_message).strip()\n",
    "\n",
    "                username, channel, message = re.search(\n",
    "                    ':(.*)\\!.*@.*\\.tmi\\.twitch\\.tv PRIVMSG #(.*) :(.*)', username_message\n",
    "                ).groups()\n",
    "\n",
    "                d = {\n",
    "                    'dt': time_logged,\n",
    "                    'channel': channel,\n",
    "                    'username': username,\n",
    "                    'message': message\n",
    "                }\n",
    "\n",
    "                data.append(d)\n",
    "            \n",
    "            except Exception:\n",
    "                pass\n",
    "            \n",
    "    return pd.DataFrame().from_records(data)\n",
    "        \n",
    "    \n",
    "df = get_chat_dataframe(chat)"
   ]
  },
  {
   "cell_type": "markdown",
   "metadata": {},
   "source": [
    "Let's quickly view what we have now:"
   ]
  },
  {
   "cell_type": "code",
   "execution_count": 20,
   "metadata": {},
   "outputs": [
    {
     "name": "stdout",
     "output_type": "stream",
     "text": [
      "(3343, 3)\n"
     ]
    }
   ],
   "source": [
    "df.set_index('dt', inplace=True)\n",
    "\n",
    "print(df.shape)\n"
   ]
  },
  {
   "cell_type": "code",
   "execution_count": 21,
   "metadata": {},
   "outputs": [],
   "source": [
    "pd.set_option('display.max_colwidth', -1)"
   ]
  },
  {
   "cell_type": "code",
   "execution_count": 22,
   "metadata": {
    "scrolled": true
   },
   "outputs": [
    {
     "data": {
      "text/html": [
       "<div>\n",
       "<style scoped>\n",
       "    .dataframe tbody tr th:only-of-type {\n",
       "        vertical-align: middle;\n",
       "    }\n",
       "\n",
       "    .dataframe tbody tr th {\n",
       "        vertical-align: top;\n",
       "    }\n",
       "\n",
       "    .dataframe thead th {\n",
       "        text-align: right;\n",
       "    }\n",
       "</style>\n",
       "<table border=\"1\" class=\"dataframe\">\n",
       "  <thead>\n",
       "    <tr style=\"text-align: right;\">\n",
       "      <th></th>\n",
       "      <th>channel</th>\n",
       "      <th>message</th>\n",
       "      <th>username</th>\n",
       "    </tr>\n",
       "    <tr>\n",
       "      <th>dt</th>\n",
       "      <th></th>\n",
       "      <th></th>\n",
       "      <th></th>\n",
       "    </tr>\n",
       "  </thead>\n",
       "  <tbody>\n",
       "    <tr>\n",
       "      <th>2019-05-17 01:49:31</th>\n",
       "      <td>lord_kebun</td>\n",
       "      <td>!followage</td>\n",
       "      <td>oanmz</td>\n",
       "    </tr>\n",
       "    <tr>\n",
       "      <th>2019-05-17 01:49:31</th>\n",
       "      <td>lord_kebun</td>\n",
       "      <td>@oanmz, oanmz has been following lord_kebun for 1 month 22 days 6 hours</td>\n",
       "      <td>streamelements</td>\n",
       "    </tr>\n",
       "    <tr>\n",
       "      <th>2019-05-17 01:49:36</th>\n",
       "      <td>lord_kebun</td>\n",
       "      <td>no host?</td>\n",
       "      <td>kappakopter</td>\n",
       "    </tr>\n",
       "    <tr>\n",
       "      <th>2019-05-17 01:49:37</th>\n",
       "      <td>lord_kebun</td>\n",
       "      <td>\u0001ACTION @lord_kebun stayhyBottle You've been live for just over 8 hours. By this point in your broadcast you should have consumed at least 32oz (960mL) of water to maintain optimum hydration.\u0001</td>\n",
       "      <td>stay_hydrated_bot</td>\n",
       "    </tr>\n",
       "    <tr>\n",
       "      <th>2019-05-17 01:49:37</th>\n",
       "      <td>lord_kebun</td>\n",
       "      <td>there you go</td>\n",
       "      <td>wakz156</td>\n",
       "    </tr>\n",
       "    <tr>\n",
       "      <th>2019-05-17 01:49:48</th>\n",
       "      <td>lord_kebun</td>\n",
       "      <td>Did he end?</td>\n",
       "      <td>gangster0823</td>\n",
       "    </tr>\n",
       "    <tr>\n",
       "      <th>2019-05-17 01:50:07</th>\n",
       "      <td>lord_kebun</td>\n",
       "      <td>joined just in time (:</td>\n",
       "      <td>grandmapeggy</td>\n",
       "    </tr>\n",
       "    <tr>\n",
       "      <th>2019-05-17 01:50:32</th>\n",
       "      <td>lord_kebun</td>\n",
       "      <td>Did Chang just stop streaming</td>\n",
       "      <td>chinesekush</td>\n",
       "    </tr>\n",
       "    <tr>\n",
       "      <th>2019-05-17 01:50:41</th>\n",
       "      <td>lord_kebun</td>\n",
       "      <td>go to sal boys</td>\n",
       "      <td>doanotherrunnn</td>\n",
       "    </tr>\n",
       "    <tr>\n",
       "      <th>2019-05-17 01:50:55</th>\n",
       "      <td>lord_kebun</td>\n",
       "      <td>sals twitch?</td>\n",
       "      <td>bakedalpacas</td>\n",
       "    </tr>\n",
       "    <tr>\n",
       "      <th>2019-05-17 01:51:18</th>\n",
       "      <td>lord_kebun</td>\n",
       "      <td>\u0001ACTION Subscribe to the YouTube Channel for weekly highlights BrokeBack https://www.youtube.com/lordkebun\u0001</td>\n",
       "      <td>streamelements</td>\n",
       "    </tr>\n",
       "    <tr>\n",
       "      <th>2019-05-17 01:51:18</th>\n",
       "      <td>lord_kebun</td>\n",
       "      <td>@Lord_Kebun Too good for everyone to host</td>\n",
       "      <td>psycho_terminatr</td>\n",
       "    </tr>\n",
       "    <tr>\n",
       "      <th>2019-05-17 01:54:32</th>\n",
       "      <td>lord_kebun</td>\n",
       "      <td>he usually hosts someone every night</td>\n",
       "      <td>zjm15</td>\n",
       "    </tr>\n",
       "    <tr>\n",
       "      <th>2019-05-17 02:04:13</th>\n",
       "      <td>lord_kebun</td>\n",
       "      <td>!followage</td>\n",
       "      <td>kmwgaming1</td>\n",
       "    </tr>\n",
       "    <tr>\n",
       "      <th>2019-05-17 02:04:14</th>\n",
       "      <td>lord_kebun</td>\n",
       "      <td>@KMWGaming1, kmwgaming1 has been following lord_kebun for 1 year 4 months 12 days 4 hours</td>\n",
       "      <td>streamelements</td>\n",
       "    </tr>\n",
       "    <tr>\n",
       "      <th>2019-05-17 02:05:55</th>\n",
       "      <td>lord_kebun :Cheer1000@v thedabDerp thedabDerp &lt;3 Jakarta</td>\n",
       "      <td>wind_face:</td>\n",
       "      <td>reeeeeper</td>\n",
       "    </tr>\n",
       "    <tr>\n",
       "      <th>2019-05-17 03:34:25</th>\n",
       "      <td>lord_kebun</td>\n",
       "      <td>Can u give me a sout out</td>\n",
       "      <td>comehere5</td>\n",
       "    </tr>\n",
       "    <tr>\n",
       "      <th>2019-05-17 05:55:22</th>\n",
       "      <td>lord_kebun</td>\n",
       "      <td>shroudY</td>\n",
       "      <td>savagetarzan</td>\n",
       "    </tr>\n",
       "    <tr>\n",
       "      <th>2019-05-17 06:16:45</th>\n",
       "      <td>lord_kebun</td>\n",
       "      <td>cftuck re-enlisted in the Chang Gang 2 months in a row PogChamp Show cftuck some kebunLuv in the chat!</td>\n",
       "      <td>streamelements</td>\n",
       "    </tr>\n",
       "    <tr>\n",
       "      <th>2019-05-17 06:38:43</th>\n",
       "      <td>lord_kebun</td>\n",
       "      <td>NotXraid re-enlisted in the Chang Gang 2 months in a row PogChamp Show NotXraid some kebunLuv in the chat!</td>\n",
       "      <td>streamelements</td>\n",
       "    </tr>\n",
       "  </tbody>\n",
       "</table>\n",
       "</div>"
      ],
      "text/plain": [
       "                                                                      channel  \\\n",
       "dt                                                                              \n",
       "2019-05-17 01:49:31  lord_kebun                                                 \n",
       "2019-05-17 01:49:31  lord_kebun                                                 \n",
       "2019-05-17 01:49:36  lord_kebun                                                 \n",
       "2019-05-17 01:49:37  lord_kebun                                                 \n",
       "2019-05-17 01:49:37  lord_kebun                                                 \n",
       "2019-05-17 01:49:48  lord_kebun                                                 \n",
       "2019-05-17 01:50:07  lord_kebun                                                 \n",
       "2019-05-17 01:50:32  lord_kebun                                                 \n",
       "2019-05-17 01:50:41  lord_kebun                                                 \n",
       "2019-05-17 01:50:55  lord_kebun                                                 \n",
       "2019-05-17 01:51:18  lord_kebun                                                 \n",
       "2019-05-17 01:51:18  lord_kebun                                                 \n",
       "2019-05-17 01:54:32  lord_kebun                                                 \n",
       "2019-05-17 02:04:13  lord_kebun                                                 \n",
       "2019-05-17 02:04:14  lord_kebun                                                 \n",
       "2019-05-17 02:05:55  lord_kebun :Cheer1000@v thedabDerp thedabDerp <3 Jakarta   \n",
       "2019-05-17 03:34:25  lord_kebun                                                 \n",
       "2019-05-17 05:55:22  lord_kebun                                                 \n",
       "2019-05-17 06:16:45  lord_kebun                                                 \n",
       "2019-05-17 06:38:43  lord_kebun                                                 \n",
       "\n",
       "                                                                                                                                                                                                              message  \\\n",
       "dt                                                                                                                                                                                                                      \n",
       "2019-05-17 01:49:31  !followage                                                                                                                                                                                         \n",
       "2019-05-17 01:49:31  @oanmz, oanmz has been following lord_kebun for 1 month 22 days 6 hours                                                                                                                            \n",
       "2019-05-17 01:49:36  no host?                                                                                                                                                                                           \n",
       "2019-05-17 01:49:37  \u0001ACTION @lord_kebun stayhyBottle You've been live for just over 8 hours. By this point in your broadcast you should have consumed at least 32oz (960mL) of water to maintain optimum hydration.\u0001   \n",
       "2019-05-17 01:49:37  there you go                                                                                                                                                                                       \n",
       "2019-05-17 01:49:48  Did he end?                                                                                                                                                                                        \n",
       "2019-05-17 01:50:07  joined just in time (:                                                                                                                                                                             \n",
       "2019-05-17 01:50:32  Did Chang just stop streaming                                                                                                                                                                      \n",
       "2019-05-17 01:50:41  go to sal boys                                                                                                                                                                                     \n",
       "2019-05-17 01:50:55  sals twitch?                                                                                                                                                                                       \n",
       "2019-05-17 01:51:18  \u0001ACTION Subscribe to the YouTube Channel for weekly highlights BrokeBack https://www.youtube.com/lordkebun\u0001                                                                                        \n",
       "2019-05-17 01:51:18  @Lord_Kebun Too good for everyone to host                                                                                                                                                          \n",
       "2019-05-17 01:54:32  he usually hosts someone every night                                                                                                                                                               \n",
       "2019-05-17 02:04:13  !followage                                                                                                                                                                                         \n",
       "2019-05-17 02:04:14  @KMWGaming1, kmwgaming1 has been following lord_kebun for 1 year 4 months 12 days 4 hours                                                                                                          \n",
       "2019-05-17 02:05:55  wind_face:                                                                                                                                                                                         \n",
       "2019-05-17 03:34:25  Can u give me a sout out                                                                                                                                                                           \n",
       "2019-05-17 05:55:22  shroudY                                                                                                                                                                                            \n",
       "2019-05-17 06:16:45  cftuck re-enlisted in the Chang Gang 2 months in a row PogChamp Show cftuck some kebunLuv in the chat!                                                                                             \n",
       "2019-05-17 06:38:43  NotXraid re-enlisted in the Chang Gang 2 months in a row PogChamp Show NotXraid some kebunLuv in the chat!                                                                                         \n",
       "\n",
       "                              username  \n",
       "dt                                      \n",
       "2019-05-17 01:49:31  oanmz              \n",
       "2019-05-17 01:49:31  streamelements     \n",
       "2019-05-17 01:49:36  kappakopter        \n",
       "2019-05-17 01:49:37  stay_hydrated_bot  \n",
       "2019-05-17 01:49:37  wakz156            \n",
       "2019-05-17 01:49:48  gangster0823       \n",
       "2019-05-17 01:50:07  grandmapeggy       \n",
       "2019-05-17 01:50:32  chinesekush        \n",
       "2019-05-17 01:50:41  doanotherrunnn     \n",
       "2019-05-17 01:50:55  bakedalpacas       \n",
       "2019-05-17 01:51:18  streamelements     \n",
       "2019-05-17 01:51:18  psycho_terminatr   \n",
       "2019-05-17 01:54:32  zjm15              \n",
       "2019-05-17 02:04:13  kmwgaming1         \n",
       "2019-05-17 02:04:14  streamelements     \n",
       "2019-05-17 02:05:55  reeeeeper          \n",
       "2019-05-17 03:34:25  comehere5          \n",
       "2019-05-17 05:55:22  savagetarzan       \n",
       "2019-05-17 06:16:45  streamelements     \n",
       "2019-05-17 06:38:43  streamelements     "
      ]
     },
     "execution_count": 22,
     "metadata": {},
     "output_type": "execute_result"
    }
   ],
   "source": [
    "df.tail(20)"
   ]
  },
  {
   "cell_type": "code",
   "execution_count": 23,
   "metadata": {},
   "outputs": [],
   "source": [
    "import pickle\n",
    "#put dataframe into a pickle for later use\n",
    "pickle.dump(df,open(\"lord_kebun_chat.p\",\"wb\"))"
   ]
  },
  {
   "cell_type": "markdown",
   "metadata": {},
   "source": [
    "Just from streaming messages over a couple of hours we have over 10,000 rows in our DataFrame.\n",
    "\n",
    "Here's a few basic questions I'm particularly interested in:\n",
    "\n",
    "Which user commented the most during this time period?\n",
    "Which commands — words that start with ! — were used the most?\n",
    "What are the most used emotes and emojis?\n",
    "We'll use this dataset in the next article to explore these questions and more."
   ]
  },
  {
   "cell_type": "markdown",
   "metadata": {},
   "source": [
    "# From here\n",
    "We've create a basic script to monitor a single channel on Twitch and successfully parsed the data into a DataFrame.\n",
    "\n",
    "There's still many improvements that can be made. For example:\n",
    "\n",
    "Variable logging file for monitoring and comparing different channels\n",
    "Use Twitch API to retrieve live and popular channels under certain games\n",
    "Generalize script to stream chat from multiple channels at once\n",
    "Plus we need to answer those questions mentioned above and more."
   ]
  },
  {
   "cell_type": "code",
   "execution_count": 24,
   "metadata": {},
   "outputs": [],
   "source": [
    "sock.close() #closes the connection"
   ]
  },
  {
   "cell_type": "code",
   "execution_count": null,
   "metadata": {},
   "outputs": [],
   "source": []
  }
 ],
 "metadata": {
  "kernelspec": {
   "display_name": "Python 3",
   "language": "python",
   "name": "python3"
  },
  "language_info": {
   "codemirror_mode": {
    "name": "ipython",
    "version": 3
   },
   "file_extension": ".py",
   "mimetype": "text/x-python",
   "name": "python",
   "nbconvert_exporter": "python",
   "pygments_lexer": "ipython3",
   "version": "3.7.3"
  }
 },
 "nbformat": 4,
 "nbformat_minor": 2
}
