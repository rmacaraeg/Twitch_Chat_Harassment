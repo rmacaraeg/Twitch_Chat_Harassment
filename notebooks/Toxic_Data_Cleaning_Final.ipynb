{
 "cells": [
  {
   "cell_type": "code",
   "execution_count": 1,
   "metadata": {},
   "outputs": [],
   "source": [
    "import numpy as np\n",
    "import pandas as pd\n",
    "import matplotlib.pyplot as plt\n",
    "\n",
    "from sklearn.feature_extraction.text import TfidfVectorizer, CountVectorizer\n",
    "from sklearn.linear_model import LogisticRegression\n",
    "from sklearn.model_selection import cross_val_score, cross_val_predict\n",
    "from scipy.sparse import hstack\n",
    "from scipy.special import logit, expit\n",
    "\n",
    "import re\n",
    "import string\n",
    "import pickle\n",
    "\n",
    "import os\n",
    "import gensim\n",
    "from sklearn.model_selection import train_test_split\n",
    "\n",
    "from sklearn import metrics\n",
    "from sklearn.model_selection import GridSearchCV\n",
    "from sklearn import linear_model\n",
    "\n",
    "from sklearn.externals import joblib"
   ]
  },
  {
   "cell_type": "code",
   "execution_count": 2,
   "metadata": {},
   "outputs": [],
   "source": [
    "#pull data\n",
    "class_names = ['toxic', 'severe_toxic', 'obscene', 'threat', 'insult', 'identity_hate']\n",
    "\n",
    "train = pd.read_csv('/Users/randy/Documents/GitHub/Twitch_Chat_Harassment/toxic_comment_classification/jigsaw-toxic-comment-classification-challenge/cleaned_train.csv').fillna(' ')\n",
    "test = pd.read_csv('/Users/randy/Documents/GitHub/Twitch_Chat_Harassment/toxic_comment_classification/jigsaw-toxic-comment-classification-challenge/cleaned_test.csv').fillna(' ')"
   ]
  },
  {
   "cell_type": "markdown",
   "metadata": {},
   "source": [
    "# Clean the Data"
   ]
  },
  {
   "cell_type": "code",
   "execution_count": 3,
   "metadata": {},
   "outputs": [],
   "source": [
    "#remove non-ascii characters\n",
    "def remove_non_ascii(text):\n",
    "    text  = \"\".join([char for char in text if char in string.printable])\n",
    "    text = re.sub('[0-9]+', '', text)\n",
    "    return text\n",
    "\n",
    "train['comment_text'] = train['comment_text'].apply(lambda x: remove_non_ascii(x))\n",
    "test['comment_text'] = test['comment_text'].apply(lambda x: remove_non_ascii(x))"
   ]
  },
  {
   "cell_type": "code",
   "execution_count": 4,
   "metadata": {},
   "outputs": [],
   "source": [
    "list_sentences_train = train['comment_text']\n",
    "list_sentences_test = test['comment_text']\n",
    "all_text = pd.concat([list_sentences_train, list_sentences_test])"
   ]
  },
  {
   "cell_type": "code",
   "execution_count": 6,
   "metadata": {},
   "outputs": [],
   "source": [
    "#separate comments into ones where each class name = 1. It's also in another function further down.\n",
    "toxic = list_sentences_train.loc[train['toxic'] == 1]\n",
    "severe_toxic = list_sentences_train.loc[train['severe_toxic'] == 1]\n",
    "obscene = list_sentences_train.loc[train['obscene'] == 1]\n",
    "threat = list_sentences_train.loc[train['threat'] == 1]\n",
    "insult = list_sentences_train.loc[train['insult'] == 1]\n",
    "identity_hate = list_sentences_train.loc[train['identity_hate'] == 1]"
   ]
  },
  {
   "cell_type": "code",
   "execution_count": 7,
   "metadata": {},
   "outputs": [],
   "source": [
    "#remove/change stopwords\n",
    "cl_path = '/Users/randy/Documents/GitHub/Twitch_Chat_Harassment/toxic_comment_classification/jigsaw-toxic-comment-classification-challenge/cleanwords.txt'\n",
    "clean_word_dict = {}\n",
    "with open(cl_path, 'r', encoding='utf-8') as cl:\n",
    "    for line in cl:\n",
    "        line = line.strip('\\n')\n",
    "        typo, correct = line.split(',')\n",
    "        clean_word_dict[typo] = correct\n",
    "\n",
    "def clean_word(text):\n",
    "    replace_numbers = re.compile(r'\\d+', re.IGNORECASE)\n",
    "    special_character_removal = re.compile(r'[^a-z\\d ]', re.IGNORECASE)\n",
    "\n",
    "    text = text.lower()\n",
    "    text = re.sub(r\"https?:\\/\\/(www\\.)?[-a-zA-Z0-9@:%._\\+~#=]{2,256}\\.[a-z]{2,6}\\b([-a-zA-Z0-9@:%_\\+.~#?&//=]*)\", \"\", text)\n",
    "    text = re.sub(r\"(25[0-5]|2[0-4][0-9]|[01]?[0-9][0-9]?)(\\.(25[0-5]|2[0-4][0-9]|[01]?[0-9][0-9]?)){3}\", \"\", text)\n",
    "\n",
    "    for typo, correct in clean_word_dict.items():\n",
    "        text = re.sub(typo, \" \" + correct + \" \", text)\n",
    "\n",
    "    text = re.sub(r\"what's\", \"what is \", text)\n",
    "    text = re.sub(r\"\\'s\", \" \", text)\n",
    "    text = re.sub(r\"\\'ve\", \" have \", text)\n",
    "    text = re.sub(r\"can't\", \"cannot \", text)\n",
    "    text = re.sub(r\"n't\", \" not \", text)\n",
    "    text = re.sub(r\"i'm\", \"i am \", text)\n",
    "    text = re.sub(r\"i’m\", \"i am\", text)\n",
    "    text = re.sub(r\"\\'re\", \" are \", text)\n",
    "    text = re.sub(r\"\\'d\", \" would \", text)\n",
    "    text = re.sub(r\"\\'ll\", \" will \", text)\n",
    "    text = re.sub(r\",\", \" \", text)\n",
    "    text = re.sub(r\"\\.\", \" \", text)\n",
    "    text = re.sub(r\"!\", \" ! \", text)\n",
    "    text = re.sub(r\"\\/\", \" \", text)\n",
    "    text = re.sub(r\"\\^\", \" ^ \", text)\n",
    "    text = re.sub(r\"\\+\", \" + \", text)\n",
    "    text = re.sub(r\"\\-\", \" - \", text)\n",
    "    text = re.sub(r\"\\=\", \" = \", text)\n",
    "    text = re.sub(r\"'\", \" \", text)\n",
    "    text = re.sub(r\"(\\d+)(k)\", r\"\\g<1>000\", text)\n",
    "    text = re.sub(r\":\", \" : \", text)\n",
    "    text = re.sub(r\" e g \", \" eg \", text)\n",
    "    text = re.sub(r\" b g \", \" bg \", text)\n",
    "    text = re.sub(r\" u s \", \" american \", text)\n",
    "    text = re.sub(r\"\\0s\", \"0\", text)\n",
    "    text = re.sub(r\" 9 11 \", \"911\", text)\n",
    "    text = re.sub(r\"e - mail\", \"email\", text)\n",
    "    text = re.sub(r\"j k\", \"jk\", text)\n",
    "    text = re.sub(r\"\\s{2,}\", \" \", text)\n",
    "    text = replace_numbers.sub('', text)\n",
    "    return text"
   ]
  },
  {
   "cell_type": "code",
   "execution_count": 8,
   "metadata": {},
   "outputs": [],
   "source": [
    "train_text = []\n",
    "test_text = []\n",
    "toxic_text = []\n",
    "severe_toxic_text = []\n",
    "obscene_text = []\n",
    "threat_text = []\n",
    "insult_text = []\n",
    "identity_hate_text = []\n",
    "\n",
    "for text in list_sentences_train:\n",
    "    train_text.append(clean_word(text))\n",
    "    \n",
    "for text in list_sentences_test:\n",
    "    test_text.append(clean_word(text))\n",
    "    \n",
    "for text in toxic:\n",
    "    toxic_text.append(clean_word(text))\n",
    "\n",
    "for text in severe_toxic_text:\n",
    "    severe_toxic_text.append(clean_word(text))\n",
    "\n",
    "for text in obscene_text:\n",
    "    obscene_text.append(clean_word(text))\n",
    "\n",
    "for text in threat:\n",
    "    threat_text.append(clean_word(text))\n",
    "\n",
    "for text in insult:\n",
    "    insult_text.append(clean_word(text))\n",
    "\n",
    "for text in identity_hate:\n",
    "    identity_hate_text.append(clean_word(text))"
   ]
  },
  {
   "cell_type": "markdown",
   "metadata": {},
   "source": [
    "# Apply TF-IDF Vectorizer"
   ]
  },
  {
   "cell_type": "code",
   "execution_count": 9,
   "metadata": {},
   "outputs": [],
   "source": [
    "#used for logit\n",
    "char_vectorizer = TfidfVectorizer(\n",
    "    sublinear_tf=True,\n",
    "    strip_accents='unicode',\n",
    "    analyzer='word',\n",
    "    ngram_range=(1, 1),\n",
    "    stop_words='english',\n",
    "    max_features=30000)\n",
    "char_vectorizer.fit(all_text)\n",
    "\n",
    "train_char_features = char_vectorizer.transform(train_text)\n",
    "test_char_features = char_vectorizer.transform(test_text)"
   ]
  },
  {
   "cell_type": "code",
   "execution_count": 10,
   "metadata": {},
   "outputs": [],
   "source": [
    "#used for EFC\n",
    "word_vectorizer = TfidfVectorizer(\n",
    "    sublinear_tf=True,\n",
    "    strip_accents='unicode',\n",
    "    analyzer='word',\n",
    "    token_pattern=r'\\w{1,}',\n",
    "    ngram_range=(1, 1),\n",
    "    stop_words='english',\n",
    "    max_features=30000)\n",
    "word_vectorizer.fit(all_text)\n",
    "\n",
    "train_word_features = word_vectorizer.transform(train_text)\n",
    "test_word_features = word_vectorizer.transform(test_text)"
   ]
  },
  {
   "cell_type": "markdown",
   "metadata": {},
   "source": [
    "# Apply CountVectorizers"
   ]
  },
  {
   "cell_type": "code",
   "execution_count": 11,
   "metadata": {},
   "outputs": [],
   "source": [
    "def create_df_of_toxic_category(category_string):\n",
    "    '''category string must match train dataframe column name exactly ''' \n",
    "    filtered_sentences = list_sentences_train.loc[train[category_string] == 1]\n",
    "    category_vectorizer = CountVectorizer(\n",
    "        strip_accents='unicode',\n",
    "        analyzer='word',\n",
    "        ngram_range=(1, 1),\n",
    "        stop_words='english',\n",
    "        max_features=30000)\n",
    "    category_vec_fit = category_vectorizer.fit(filtered_sentences)\n",
    "\n",
    "    category_count_features = category_vectorizer.transform(filtered_sentences)\n",
    "    category_count_df = pd.DataFrame(category_vec_fit.get_feature_names())\n",
    "    category_count_df['counts'] = category_count_features.toarray().sum(axis=0)\n",
    "    category_count_df.rename(columns = {0: 'word'})\n",
    "    return category_count_df, filtered_sentences"
   ]
  },
  {
   "cell_type": "code",
   "execution_count": 12,
   "metadata": {},
   "outputs": [],
   "source": [
    "class_specific_vocab_dict = dict()\n",
    "class_specific_sentences = dict()\n",
    "for class_name in class_names:\n",
    "    class_specific_vocab_dict[class_name] = \\\n",
    "        create_df_of_toxic_category(class_name)[0].sort_values('counts', ascending = False)\n",
    "    class_specific_sentences[class_name] =\\\n",
    "            create_df_of_toxic_category(class_name)[1]"
   ]
  },
  {
   "cell_type": "code",
   "execution_count": null,
   "metadata": {},
   "outputs": [],
   "source": [
    "# toxic_string = ''\n",
    "# for line in class_specific_sentences['toxic']:\n",
    "#     toxic_string+=' ' + line"
   ]
  },
  {
   "cell_type": "markdown",
   "metadata": {},
   "source": [
    "# Applying Logistic Regression"
   ]
  },
  {
   "cell_type": "code",
   "execution_count": 13,
   "metadata": {},
   "outputs": [],
   "source": [
    "#this is kept for heroku purposes\n",
    "train_features = train_word_features\n",
    "test_features = test_word_features"
   ]
  },
  {
   "cell_type": "code",
   "execution_count": 14,
   "metadata": {},
   "outputs": [
    {
     "name": "stdout",
     "output_type": "stream",
     "text": [
      "Accuracy of logistic regression classifier on toxic set: 0.96202\n",
      "CV score for class toxic is 0.9702816495237876\n",
      "Accuracy of logistic regression classifier on severe_toxic set: 0.99104\n",
      "CV score for class severe_toxic is 0.9857997155752117\n",
      "Accuracy of logistic regression classifier on obscene set: 0.98003\n",
      "CV score for class obscene is 0.9859224267608123\n",
      "Accuracy of logistic regression classifier on threat set: 0.99729\n",
      "CV score for class threat is 0.982345621797614\n",
      "Accuracy of logistic regression classifier on insult set: 0.97317\n",
      "CV score for class insult is 0.9769462441181855\n",
      "Accuracy of logistic regression classifier on identity_hate set: 0.99240\n",
      "CV score for class identity_hate is 0.9749884690857108\n"
     ]
    }
   ],
   "source": [
    "losses = []\n",
    "log_predictions = {}\n",
    "log_predictions = {'id': test['id']}\n",
    "log_models = {}\n",
    "for class_name in class_names:\n",
    "    train_target = train[class_name]\n",
    "    log_classifier = LogisticRegression(solver='sag')\n",
    "    log_classifier.fit(train_features, train_target)\n",
    "    \n",
    "    print('Accuracy of logistic regression classifier on {} set: {:.5f}'.format(class_name,log_classifier.score(train_features, train_target)))\n",
    "    \n",
    "    cv_loss = np.mean(cross_val_score(log_classifier, train_features, train_target, cv=3, scoring='roc_auc'))\n",
    "    losses.append(cv_loss)\n",
    "    print('CV score for class {} is {}'.format(class_name, cv_loss))\n",
    "    \n",
    "    log_models[class_name] = log_classifier\n",
    "    log_predictions[class_name] = log_classifier.predict_proba(test_features)[:, 1]\n"
   ]
  },
  {
   "cell_type": "code",
   "execution_count": null,
   "metadata": {},
   "outputs": [],
   "source": [
    "#pickle the models\n",
    "# Save Model as a pickle Using joblib\n",
    "\n",
    "  \n",
    "# Save the model as a pickle in a file \n",
    "joblib.dump(log_models, 'Logistic_Regression_models.p')\n",
    "pickle.dump(train_char_features, open(\"train_char_features_vectorizer.p\", \"wb\"))\n",
    "pickle.dump(test_char_features, open(\"test_char_features_vectorizer.p\", \"wb\"))\n",
    "pickle.dump(word_vectorizer.fit(all_text), open(\"log_word_vectorizer.p\", \"wb\"))\n",
    "\n",
    "  \n",
    "# Load the model from the file \n",
    "# pickled_models = joblib.load('models.p')"
   ]
  },
  {
   "cell_type": "markdown",
   "metadata": {},
   "source": [
    "# ROC Curve"
   ]
  },
  {
   "cell_type": "markdown",
   "metadata": {},
   "source": [
    "## Train-Test-Split"
   ]
  },
  {
   "cell_type": "code",
   "execution_count": 15,
   "metadata": {},
   "outputs": [],
   "source": [
    "#train test split\n",
    "X_train_toxic, X_test_toxic, y_train_toxic, y_test_toxic = train_test_split(\\\n",
    "    train_features,train['toxic'], test_size=0.2, random_state=42)\n",
    "\n",
    "X_train_severe_toxic, X_test_severe_toxic, y_train_severe_toxic, y_test_severe_toxic = train_test_split(\\\n",
    "    train_features,train['severe_toxic'], test_size=0.2, random_state=42)\n",
    "\n",
    "X_train_obscene, X_test_obscene, y_train_obscene, y_test_obscene = train_test_split(\\\n",
    "    train_features,train['obscene'], test_size=0.2, random_state=42)\n",
    "\n",
    "X_train_threat, X_test_threat, y_train_threat, y_test_threat = train_test_split(\\\n",
    "    train_features,train['threat'], test_size=0.2, random_state=42)\n",
    "\n",
    "X_train_insult, X_test_insult, y_train_insult, y_test_insult = train_test_split(\\\n",
    "    train_features,train['insult'], test_size=0.2, random_state=42)\n",
    "\n",
    "X_train_identity_hate, X_test_identity_hate, y_train_identity_hate, y_test_identity_hate = train_test_split(\\\n",
    "    train_features,train['identity_hate'], test_size=0.2, random_state=42)"
   ]
  },
  {
   "cell_type": "markdown",
   "metadata": {},
   "source": [
    "## Use GridSearch with Logit"
   ]
  },
  {
   "cell_type": "code",
   "execution_count": 16,
   "metadata": {
    "scrolled": true
   },
   "outputs": [
    {
     "name": "stdout",
     "output_type": "stream",
     "text": [
      "Fitting 5 folds for each of 10 candidates, totalling 50 fits\n"
     ]
    },
    {
     "name": "stderr",
     "output_type": "stream",
     "text": [
      "[Parallel(n_jobs=-1)]: Using backend LokyBackend with 12 concurrent workers.\n",
      "[Parallel(n_jobs=-1)]: Done   1 tasks      | elapsed:    6.3s\n",
      "[Parallel(n_jobs=-1)]: Done   2 tasks      | elapsed:    7.2s\n",
      "[Parallel(n_jobs=-1)]: Done   3 tasks      | elapsed:    7.5s\n",
      "[Parallel(n_jobs=-1)]: Done   4 tasks      | elapsed:    7.8s\n",
      "[Parallel(n_jobs=-1)]: Done   5 tasks      | elapsed:    7.8s\n",
      "[Parallel(n_jobs=-1)]: Done   6 tasks      | elapsed:    7.8s\n",
      "[Parallel(n_jobs=-1)]: Done   7 tasks      | elapsed:    7.9s\n",
      "[Parallel(n_jobs=-1)]: Done   8 tasks      | elapsed:    7.9s\n",
      "[Parallel(n_jobs=-1)]: Done   9 tasks      | elapsed:    7.9s\n",
      "[Parallel(n_jobs=-1)]: Done  10 tasks      | elapsed:    8.0s\n",
      "[Parallel(n_jobs=-1)]: Done  11 tasks      | elapsed:    8.0s\n",
      "[Parallel(n_jobs=-1)]: Done  12 tasks      | elapsed:    8.1s\n",
      "[Parallel(n_jobs=-1)]: Done  13 tasks      | elapsed:   12.2s\n",
      "[Parallel(n_jobs=-1)]: Done  14 tasks      | elapsed:   13.2s\n",
      "[Parallel(n_jobs=-1)]: Done  15 tasks      | elapsed:   13.2s\n",
      "[Parallel(n_jobs=-1)]: Done  16 tasks      | elapsed:   13.7s\n",
      "[Parallel(n_jobs=-1)]: Done  17 tasks      | elapsed:   13.7s\n",
      "[Parallel(n_jobs=-1)]: Done  18 tasks      | elapsed:   13.8s\n",
      "[Parallel(n_jobs=-1)]: Done  19 tasks      | elapsed:   13.9s\n",
      "[Parallel(n_jobs=-1)]: Done  20 tasks      | elapsed:   13.9s\n",
      "[Parallel(n_jobs=-1)]: Done  21 tasks      | elapsed:   14.0s\n",
      "[Parallel(n_jobs=-1)]: Done  22 tasks      | elapsed:   14.0s\n",
      "[Parallel(n_jobs=-1)]: Done  23 tasks      | elapsed:   14.0s\n",
      "[Parallel(n_jobs=-1)]: Done  24 tasks      | elapsed:   14.1s\n",
      "[Parallel(n_jobs=-1)]: Done  25 tasks      | elapsed:   18.3s\n",
      "[Parallel(n_jobs=-1)]: Done  26 tasks      | elapsed:   19.2s\n",
      "[Parallel(n_jobs=-1)]: Done  27 tasks      | elapsed:   19.2s\n",
      "[Parallel(n_jobs=-1)]: Done  29 out of  50 | elapsed:   19.7s remaining:   14.3s\n",
      "[Parallel(n_jobs=-1)]: Done  31 out of  50 | elapsed:   19.8s remaining:   12.1s\n",
      "[Parallel(n_jobs=-1)]: Done  33 out of  50 | elapsed:   19.8s remaining:   10.2s\n",
      "[Parallel(n_jobs=-1)]: Done  35 out of  50 | elapsed:   20.2s remaining:    8.7s\n",
      "[Parallel(n_jobs=-1)]: Done  37 out of  50 | elapsed:   23.9s remaining:    8.4s\n",
      "[Parallel(n_jobs=-1)]: Done  39 out of  50 | elapsed:   25.1s remaining:    7.1s\n",
      "[Parallel(n_jobs=-1)]: Done  41 out of  50 | elapsed:   25.4s remaining:    5.6s\n",
      "[Parallel(n_jobs=-1)]: Done  43 out of  50 | elapsed:   25.5s remaining:    4.1s\n",
      "[Parallel(n_jobs=-1)]: Done  45 out of  50 | elapsed:   25.6s remaining:    2.8s\n",
      "[Parallel(n_jobs=-1)]: Done  47 out of  50 | elapsed:   25.7s remaining:    1.6s\n",
      "[Parallel(n_jobs=-1)]: Done  50 out of  50 | elapsed:   27.1s finished\n",
      "/Users/randy/anaconda3/lib/python3.7/site-packages/sklearn/linear_model/logistic.py:758: ConvergenceWarning: lbfgs failed to converge. Increase the number of iterations.\n",
      "  \"of iterations.\", ConvergenceWarning)\n",
      "[Parallel(n_jobs=-1)]: Using backend LokyBackend with 12 concurrent workers.\n"
     ]
    },
    {
     "name": "stdout",
     "output_type": "stream",
     "text": [
      "Fitting 5 folds for each of 10 candidates, totalling 50 fits\n"
     ]
    },
    {
     "name": "stderr",
     "output_type": "stream",
     "text": [
      "[Parallel(n_jobs=-1)]: Done   1 tasks      | elapsed:    3.6s\n",
      "[Parallel(n_jobs=-1)]: Done   2 tasks      | elapsed:    3.7s\n",
      "[Parallel(n_jobs=-1)]: Done   3 tasks      | elapsed:    3.9s\n",
      "[Parallel(n_jobs=-1)]: Done   4 tasks      | elapsed:    4.0s\n",
      "[Parallel(n_jobs=-1)]: Done   5 tasks      | elapsed:    4.1s\n",
      "[Parallel(n_jobs=-1)]: Done   6 tasks      | elapsed:    5.1s\n",
      "[Parallel(n_jobs=-1)]: Done   7 tasks      | elapsed:    5.3s\n",
      "[Parallel(n_jobs=-1)]: Done   8 tasks      | elapsed:    5.4s\n",
      "[Parallel(n_jobs=-1)]: Done   9 tasks      | elapsed:    5.5s\n",
      "[Parallel(n_jobs=-1)]: Done  10 tasks      | elapsed:    5.8s\n",
      "[Parallel(n_jobs=-1)]: Done  11 tasks      | elapsed:    6.0s\n",
      "[Parallel(n_jobs=-1)]: Done  12 tasks      | elapsed:    6.1s\n",
      "[Parallel(n_jobs=-1)]: Done  13 tasks      | elapsed:    9.4s\n",
      "[Parallel(n_jobs=-1)]: Done  14 tasks      | elapsed:    9.5s\n",
      "[Parallel(n_jobs=-1)]: Done  15 tasks      | elapsed:    9.9s\n",
      "[Parallel(n_jobs=-1)]: Done  16 tasks      | elapsed:   10.1s\n",
      "[Parallel(n_jobs=-1)]: Done  17 tasks      | elapsed:   10.2s\n",
      "[Parallel(n_jobs=-1)]: Done  18 tasks      | elapsed:   11.2s\n",
      "[Parallel(n_jobs=-1)]: Done  19 tasks      | elapsed:   11.3s\n",
      "[Parallel(n_jobs=-1)]: Done  20 tasks      | elapsed:   11.4s\n",
      "[Parallel(n_jobs=-1)]: Done  21 tasks      | elapsed:   11.4s\n",
      "[Parallel(n_jobs=-1)]: Done  22 tasks      | elapsed:   11.9s\n",
      "[Parallel(n_jobs=-1)]: Done  23 tasks      | elapsed:   12.0s\n",
      "[Parallel(n_jobs=-1)]: Done  24 tasks      | elapsed:   12.4s\n",
      "[Parallel(n_jobs=-1)]: Done  25 tasks      | elapsed:   15.2s\n",
      "[Parallel(n_jobs=-1)]: Done  26 tasks      | elapsed:   15.3s\n",
      "[Parallel(n_jobs=-1)]: Done  27 tasks      | elapsed:   15.6s\n",
      "[Parallel(n_jobs=-1)]: Done  29 out of  50 | elapsed:   16.0s remaining:   11.6s\n",
      "[Parallel(n_jobs=-1)]: Done  31 out of  50 | elapsed:   17.1s remaining:   10.5s\n",
      "[Parallel(n_jobs=-1)]: Done  33 out of  50 | elapsed:   17.2s remaining:    8.9s\n",
      "[Parallel(n_jobs=-1)]: Done  35 out of  50 | elapsed:   17.9s remaining:    7.7s\n",
      "[Parallel(n_jobs=-1)]: Done  37 out of  50 | elapsed:   21.0s remaining:    7.4s\n",
      "[Parallel(n_jobs=-1)]: Done  39 out of  50 | elapsed:   21.5s remaining:    6.1s\n",
      "[Parallel(n_jobs=-1)]: Done  41 out of  50 | elapsed:   21.8s remaining:    4.8s\n",
      "[Parallel(n_jobs=-1)]: Done  43 out of  50 | elapsed:   22.7s remaining:    3.7s\n",
      "[Parallel(n_jobs=-1)]: Done  45 out of  50 | elapsed:   22.8s remaining:    2.5s\n",
      "[Parallel(n_jobs=-1)]: Done  47 out of  50 | elapsed:   23.0s remaining:    1.5s\n",
      "[Parallel(n_jobs=-1)]: Done  50 out of  50 | elapsed:   24.0s finished\n"
     ]
    },
    {
     "name": "stdout",
     "output_type": "stream",
     "text": [
      "Fitting 5 folds for each of 10 candidates, totalling 50 fits\n"
     ]
    },
    {
     "name": "stderr",
     "output_type": "stream",
     "text": [
      "[Parallel(n_jobs=-1)]: Using backend LokyBackend with 12 concurrent workers.\n",
      "[Parallel(n_jobs=-1)]: Done   1 tasks      | elapsed:    3.2s\n",
      "[Parallel(n_jobs=-1)]: Done   2 tasks      | elapsed:    3.3s\n",
      "[Parallel(n_jobs=-1)]: Done   3 tasks      | elapsed:    3.4s\n",
      "[Parallel(n_jobs=-1)]: Done   4 tasks      | elapsed:    3.4s\n",
      "[Parallel(n_jobs=-1)]: Done   5 tasks      | elapsed:    4.4s\n",
      "[Parallel(n_jobs=-1)]: Done   6 tasks      | elapsed:    4.5s\n",
      "[Parallel(n_jobs=-1)]: Done   7 tasks      | elapsed:    5.7s\n",
      "[Parallel(n_jobs=-1)]: Done   8 tasks      | elapsed:    6.1s\n",
      "[Parallel(n_jobs=-1)]: Done   9 tasks      | elapsed:    6.1s\n",
      "[Parallel(n_jobs=-1)]: Done  10 tasks      | elapsed:    6.3s\n",
      "[Parallel(n_jobs=-1)]: Done  11 tasks      | elapsed:    6.3s\n",
      "[Parallel(n_jobs=-1)]: Done  12 tasks      | elapsed:    6.5s\n",
      "[Parallel(n_jobs=-1)]: Done  13 tasks      | elapsed:    9.1s\n",
      "[Parallel(n_jobs=-1)]: Done  14 tasks      | elapsed:    9.3s\n",
      "[Parallel(n_jobs=-1)]: Done  15 tasks      | elapsed:    9.3s\n",
      "[Parallel(n_jobs=-1)]: Done  16 tasks      | elapsed:    9.4s\n",
      "[Parallel(n_jobs=-1)]: Done  17 tasks      | elapsed:   10.2s\n",
      "[Parallel(n_jobs=-1)]: Done  18 tasks      | elapsed:   10.3s\n",
      "[Parallel(n_jobs=-1)]: Done  19 tasks      | elapsed:   11.8s\n",
      "[Parallel(n_jobs=-1)]: Done  20 tasks      | elapsed:   11.9s\n",
      "[Parallel(n_jobs=-1)]: Done  21 tasks      | elapsed:   12.0s\n",
      "[Parallel(n_jobs=-1)]: Done  22 tasks      | elapsed:   12.1s\n",
      "[Parallel(n_jobs=-1)]: Done  23 tasks      | elapsed:   12.3s\n",
      "[Parallel(n_jobs=-1)]: Done  24 tasks      | elapsed:   12.4s\n",
      "[Parallel(n_jobs=-1)]: Done  25 tasks      | elapsed:   15.0s\n",
      "[Parallel(n_jobs=-1)]: Done  26 tasks      | elapsed:   15.0s\n",
      "[Parallel(n_jobs=-1)]: Done  27 tasks      | elapsed:   15.2s\n",
      "[Parallel(n_jobs=-1)]: Done  29 out of  50 | elapsed:   16.2s remaining:   11.7s\n",
      "[Parallel(n_jobs=-1)]: Done  31 out of  50 | elapsed:   17.8s remaining:   10.9s\n",
      "[Parallel(n_jobs=-1)]: Done  33 out of  50 | elapsed:   18.0s remaining:    9.3s\n",
      "[Parallel(n_jobs=-1)]: Done  35 out of  50 | elapsed:   18.2s remaining:    7.8s\n",
      "[Parallel(n_jobs=-1)]: Done  37 out of  50 | elapsed:   20.7s remaining:    7.3s\n",
      "[Parallel(n_jobs=-1)]: Done  39 out of  50 | elapsed:   21.2s remaining:    6.0s\n",
      "[Parallel(n_jobs=-1)]: Done  41 out of  50 | elapsed:   22.1s remaining:    4.8s\n",
      "[Parallel(n_jobs=-1)]: Done  43 out of  50 | elapsed:   23.0s remaining:    3.7s\n",
      "[Parallel(n_jobs=-1)]: Done  45 out of  50 | elapsed:   23.1s remaining:    2.6s\n",
      "[Parallel(n_jobs=-1)]: Done  47 out of  50 | elapsed:   23.2s remaining:    1.5s\n",
      "[Parallel(n_jobs=-1)]: Done  50 out of  50 | elapsed:   24.0s finished\n"
     ]
    },
    {
     "name": "stdout",
     "output_type": "stream",
     "text": [
      "Fitting 5 folds for each of 10 candidates, totalling 50 fits\n"
     ]
    },
    {
     "name": "stderr",
     "output_type": "stream",
     "text": [
      "[Parallel(n_jobs=-1)]: Using backend LokyBackend with 12 concurrent workers.\n",
      "[Parallel(n_jobs=-1)]: Done   1 tasks      | elapsed:    2.7s\n",
      "[Parallel(n_jobs=-1)]: Done   2 tasks      | elapsed:    2.8s\n",
      "[Parallel(n_jobs=-1)]: Done   3 tasks      | elapsed:    2.9s\n",
      "[Parallel(n_jobs=-1)]: Done   4 tasks      | elapsed:    3.0s\n",
      "[Parallel(n_jobs=-1)]: Done   5 tasks      | elapsed:    3.1s\n",
      "[Parallel(n_jobs=-1)]: Done   6 tasks      | elapsed:    3.2s\n",
      "[Parallel(n_jobs=-1)]: Done   7 tasks      | elapsed:    3.5s\n",
      "[Parallel(n_jobs=-1)]: Done   8 tasks      | elapsed:    3.6s\n",
      "[Parallel(n_jobs=-1)]: Done   9 tasks      | elapsed:    3.9s\n",
      "[Parallel(n_jobs=-1)]: Done  10 tasks      | elapsed:    4.0s\n",
      "[Parallel(n_jobs=-1)]: Done  11 tasks      | elapsed:    4.8s\n",
      "[Parallel(n_jobs=-1)]: Done  12 tasks      | elapsed:    5.3s\n",
      "[Parallel(n_jobs=-1)]: Done  13 tasks      | elapsed:    7.5s\n",
      "[Parallel(n_jobs=-1)]: Done  14 tasks      | elapsed:    8.0s\n",
      "[Parallel(n_jobs=-1)]: Done  15 tasks      | elapsed:    8.1s\n",
      "[Parallel(n_jobs=-1)]: Done  16 tasks      | elapsed:    8.6s\n",
      "[Parallel(n_jobs=-1)]: Done  17 tasks      | elapsed:    8.8s\n",
      "[Parallel(n_jobs=-1)]: Done  18 tasks      | elapsed:    8.9s\n",
      "[Parallel(n_jobs=-1)]: Done  19 tasks      | elapsed:    9.3s\n",
      "[Parallel(n_jobs=-1)]: Done  20 tasks      | elapsed:    9.4s\n",
      "[Parallel(n_jobs=-1)]: Done  21 tasks      | elapsed:    9.8s\n",
      "[Parallel(n_jobs=-1)]: Done  22 tasks      | elapsed:    9.9s\n",
      "[Parallel(n_jobs=-1)]: Done  23 tasks      | elapsed:   10.7s\n",
      "[Parallel(n_jobs=-1)]: Done  24 tasks      | elapsed:   11.1s\n",
      "[Parallel(n_jobs=-1)]: Done  25 tasks      | elapsed:   13.6s\n",
      "[Parallel(n_jobs=-1)]: Done  26 tasks      | elapsed:   14.0s\n",
      "[Parallel(n_jobs=-1)]: Done  27 tasks      | elapsed:   14.2s\n",
      "[Parallel(n_jobs=-1)]: Done  29 out of  50 | elapsed:   15.0s remaining:   10.8s\n",
      "[Parallel(n_jobs=-1)]: Done  31 out of  50 | elapsed:   15.4s remaining:    9.5s\n",
      "[Parallel(n_jobs=-1)]: Done  33 out of  50 | elapsed:   15.8s remaining:    8.1s\n",
      "[Parallel(n_jobs=-1)]: Done  35 out of  50 | elapsed:   16.6s remaining:    7.1s\n",
      "[Parallel(n_jobs=-1)]: Done  37 out of  50 | elapsed:   19.5s remaining:    6.9s\n",
      "[Parallel(n_jobs=-1)]: Done  39 out of  50 | elapsed:   19.9s remaining:    5.6s\n",
      "[Parallel(n_jobs=-1)]: Done  41 out of  50 | elapsed:   20.6s remaining:    4.5s\n",
      "[Parallel(n_jobs=-1)]: Done  43 out of  50 | elapsed:   21.1s remaining:    3.4s\n",
      "[Parallel(n_jobs=-1)]: Done  45 out of  50 | elapsed:   21.3s remaining:    2.4s\n",
      "[Parallel(n_jobs=-1)]: Done  47 out of  50 | elapsed:   21.5s remaining:    1.4s\n",
      "[Parallel(n_jobs=-1)]: Done  50 out of  50 | elapsed:   22.4s finished\n"
     ]
    },
    {
     "name": "stdout",
     "output_type": "stream",
     "text": [
      "Fitting 5 folds for each of 10 candidates, totalling 50 fits\n"
     ]
    },
    {
     "name": "stderr",
     "output_type": "stream",
     "text": [
      "[Parallel(n_jobs=-1)]: Using backend LokyBackend with 12 concurrent workers.\n",
      "[Parallel(n_jobs=-1)]: Done   1 tasks      | elapsed:    4.7s\n",
      "[Parallel(n_jobs=-1)]: Done   2 tasks      | elapsed:    5.3s\n",
      "[Parallel(n_jobs=-1)]: Done   3 tasks      | elapsed:    5.3s\n",
      "[Parallel(n_jobs=-1)]: Done   4 tasks      | elapsed:    5.4s\n",
      "[Parallel(n_jobs=-1)]: Done   5 tasks      | elapsed:    5.6s\n",
      "[Parallel(n_jobs=-1)]: Done   6 tasks      | elapsed:    6.0s\n",
      "[Parallel(n_jobs=-1)]: Done   7 tasks      | elapsed:    6.2s\n",
      "[Parallel(n_jobs=-1)]: Done   8 tasks      | elapsed:    6.2s\n",
      "[Parallel(n_jobs=-1)]: Done   9 tasks      | elapsed:    6.3s\n",
      "[Parallel(n_jobs=-1)]: Done  10 tasks      | elapsed:    6.3s\n",
      "[Parallel(n_jobs=-1)]: Done  11 tasks      | elapsed:    6.4s\n",
      "[Parallel(n_jobs=-1)]: Done  12 tasks      | elapsed:    6.5s\n",
      "[Parallel(n_jobs=-1)]: Done  13 tasks      | elapsed:   10.7s\n",
      "[Parallel(n_jobs=-1)]: Done  14 tasks      | elapsed:   11.2s\n",
      "[Parallel(n_jobs=-1)]: Done  15 tasks      | elapsed:   11.3s\n",
      "[Parallel(n_jobs=-1)]: Done  16 tasks      | elapsed:   11.4s\n",
      "[Parallel(n_jobs=-1)]: Done  17 tasks      | elapsed:   11.5s\n",
      "[Parallel(n_jobs=-1)]: Done  18 tasks      | elapsed:   12.0s\n",
      "[Parallel(n_jobs=-1)]: Done  19 tasks      | elapsed:   12.3s\n",
      "[Parallel(n_jobs=-1)]: Done  20 tasks      | elapsed:   12.4s\n",
      "[Parallel(n_jobs=-1)]: Done  21 tasks      | elapsed:   12.4s\n",
      "[Parallel(n_jobs=-1)]: Done  22 tasks      | elapsed:   12.4s\n",
      "[Parallel(n_jobs=-1)]: Done  23 tasks      | elapsed:   12.4s\n",
      "[Parallel(n_jobs=-1)]: Done  24 tasks      | elapsed:   12.6s\n",
      "[Parallel(n_jobs=-1)]: Done  25 tasks      | elapsed:   16.6s\n",
      "[Parallel(n_jobs=-1)]: Done  26 tasks      | elapsed:   17.1s\n",
      "[Parallel(n_jobs=-1)]: Done  27 tasks      | elapsed:   17.1s\n",
      "[Parallel(n_jobs=-1)]: Done  29 out of  50 | elapsed:   17.3s remaining:   12.5s\n",
      "[Parallel(n_jobs=-1)]: Done  31 out of  50 | elapsed:   18.3s remaining:   11.2s\n",
      "[Parallel(n_jobs=-1)]: Done  33 out of  50 | elapsed:   18.4s remaining:    9.5s\n",
      "[Parallel(n_jobs=-1)]: Done  35 out of  50 | elapsed:   18.6s remaining:    8.0s\n",
      "[Parallel(n_jobs=-1)]: Done  37 out of  50 | elapsed:   22.5s remaining:    7.9s\n",
      "[Parallel(n_jobs=-1)]: Done  39 out of  50 | elapsed:   23.2s remaining:    6.5s\n",
      "[Parallel(n_jobs=-1)]: Done  41 out of  50 | elapsed:   23.3s remaining:    5.1s\n",
      "[Parallel(n_jobs=-1)]: Done  43 out of  50 | elapsed:   24.0s remaining:    3.9s\n",
      "[Parallel(n_jobs=-1)]: Done  45 out of  50 | elapsed:   24.1s remaining:    2.7s\n",
      "[Parallel(n_jobs=-1)]: Done  47 out of  50 | elapsed:   24.2s remaining:    1.5s\n",
      "[Parallel(n_jobs=-1)]: Done  50 out of  50 | elapsed:   25.3s finished\n"
     ]
    },
    {
     "name": "stdout",
     "output_type": "stream",
     "text": [
      "Fitting 5 folds for each of 10 candidates, totalling 50 fits\n"
     ]
    },
    {
     "name": "stderr",
     "output_type": "stream",
     "text": [
      "[Parallel(n_jobs=-1)]: Using backend LokyBackend with 12 concurrent workers.\n",
      "[Parallel(n_jobs=-1)]: Done   1 tasks      | elapsed:    2.7s\n",
      "[Parallel(n_jobs=-1)]: Done   2 tasks      | elapsed:    2.9s\n",
      "[Parallel(n_jobs=-1)]: Done   3 tasks      | elapsed:    3.1s\n",
      "[Parallel(n_jobs=-1)]: Done   4 tasks      | elapsed:    3.2s\n",
      "[Parallel(n_jobs=-1)]: Done   5 tasks      | elapsed:    3.3s\n",
      "[Parallel(n_jobs=-1)]: Done   6 tasks      | elapsed:    4.2s\n",
      "[Parallel(n_jobs=-1)]: Done   7 tasks      | elapsed:    4.6s\n",
      "[Parallel(n_jobs=-1)]: Done   8 tasks      | elapsed:    4.7s\n",
      "[Parallel(n_jobs=-1)]: Done   9 tasks      | elapsed:    4.9s\n",
      "[Parallel(n_jobs=-1)]: Done  10 tasks      | elapsed:    5.0s\n",
      "[Parallel(n_jobs=-1)]: Done  11 tasks      | elapsed:    5.9s\n",
      "[Parallel(n_jobs=-1)]: Done  12 tasks      | elapsed:    6.0s\n",
      "[Parallel(n_jobs=-1)]: Done  13 tasks      | elapsed:    8.6s\n",
      "[Parallel(n_jobs=-1)]: Done  14 tasks      | elapsed:    8.7s\n",
      "[Parallel(n_jobs=-1)]: Done  15 tasks      | elapsed:    8.9s\n",
      "[Parallel(n_jobs=-1)]: Done  16 tasks      | elapsed:    9.0s\n",
      "[Parallel(n_jobs=-1)]: Done  17 tasks      | elapsed:    9.3s\n",
      "[Parallel(n_jobs=-1)]: Done  18 tasks      | elapsed:   10.2s\n",
      "[Parallel(n_jobs=-1)]: Done  19 tasks      | elapsed:   10.4s\n",
      "[Parallel(n_jobs=-1)]: Done  20 tasks      | elapsed:   10.7s\n",
      "[Parallel(n_jobs=-1)]: Done  21 tasks      | elapsed:   10.8s\n",
      "[Parallel(n_jobs=-1)]: Done  22 tasks      | elapsed:   10.9s\n",
      "[Parallel(n_jobs=-1)]: Done  23 tasks      | elapsed:   11.8s\n",
      "[Parallel(n_jobs=-1)]: Done  24 tasks      | elapsed:   11.8s\n",
      "[Parallel(n_jobs=-1)]: Done  25 tasks      | elapsed:   14.3s\n",
      "[Parallel(n_jobs=-1)]: Done  26 tasks      | elapsed:   14.4s\n",
      "[Parallel(n_jobs=-1)]: Done  27 tasks      | elapsed:   14.6s\n",
      "[Parallel(n_jobs=-1)]: Done  29 out of  50 | elapsed:   15.2s remaining:   11.0s\n",
      "[Parallel(n_jobs=-1)]: Done  31 out of  50 | elapsed:   16.3s remaining:   10.0s\n",
      "[Parallel(n_jobs=-1)]: Done  33 out of  50 | elapsed:   16.5s remaining:    8.5s\n",
      "[Parallel(n_jobs=-1)]: Done  35 out of  50 | elapsed:   17.7s remaining:    7.6s\n",
      "[Parallel(n_jobs=-1)]: Done  37 out of  50 | elapsed:   20.2s remaining:    7.1s\n",
      "[Parallel(n_jobs=-1)]: Done  39 out of  50 | elapsed:   20.4s remaining:    5.8s\n",
      "[Parallel(n_jobs=-1)]: Done  41 out of  50 | elapsed:   20.9s remaining:    4.6s\n",
      "[Parallel(n_jobs=-1)]: Done  43 out of  50 | elapsed:   21.7s remaining:    3.5s\n",
      "[Parallel(n_jobs=-1)]: Done  45 out of  50 | elapsed:   21.9s remaining:    2.4s\n",
      "[Parallel(n_jobs=-1)]: Done  47 out of  50 | elapsed:   22.2s remaining:    1.4s\n",
      "[Parallel(n_jobs=-1)]: Done  50 out of  50 | elapsed:   22.9s finished\n"
     ]
    },
    {
     "data": {
      "text/plain": [
       "GridSearchCV(cv=5, error_score='raise-deprecating',\n",
       "       estimator=LogisticRegression(C=1.0, class_weight=None, dual=False, fit_intercept=True,\n",
       "          intercept_scaling=1, max_iter=100, multi_class='warn',\n",
       "          n_jobs=None, penalty='l2', random_state=None, solver='lbfgs',\n",
       "          tol=0.0001, verbose=0, warm_start=False),\n",
       "       fit_params=None, iid='warn', n_jobs=-1,\n",
       "       param_grid={'C': array([1.00000e+00, 2.78256e+00, 7.74264e+00, 2.15443e+01, 5.99484e+01,\n",
       "       1.66810e+02, 4.64159e+02, 1.29155e+03, 3.59381e+03, 1.00000e+04]), 'penalty': ['l2']},\n",
       "       pre_dispatch='2*n_jobs', refit=True, return_train_score='warn',\n",
       "       scoring='roc_auc', verbose=30)"
      ]
     },
     "execution_count": 16,
     "metadata": {},
     "output_type": "execute_result"
    }
   ],
   "source": [
    "#fit to model (logit)\n",
    "penalty = ['l2']\n",
    "C = np.logspace(0, 4, 10)\n",
    "param_grid = dict(C=C, penalty=penalty)\n",
    "\n",
    "logit_models = {}\n",
    "# for class_name in class_names:\n",
    "\n",
    "#toxic\n",
    "logistic_toxic = linear_model.LogisticRegression(solver='lbfgs')\n",
    "logistic_grid_toxic = GridSearchCV(logistic_toxic, param_grid, cv=5, scoring='roc_auc', verbose=30, n_jobs=-1)\n",
    "logistic_grid_toxic.fit(X_train_toxic, y_train_toxic)\n",
    "\n",
    "#severe_toxic\n",
    "logistic_severe_toxic = linear_model.LogisticRegression(solver='lbfgs')\n",
    "logistic_grid_severe_toxic = GridSearchCV(logistic_severe_toxic, param_grid, cv=5, scoring='roc_auc', verbose=30, n_jobs=-1)\n",
    "logistic_grid_severe_toxic.fit(X_train_severe_toxic, y_train_severe_toxic)\n",
    "\n",
    "#obscene\n",
    "logistic_obscene = linear_model.LogisticRegression(solver='lbfgs')\n",
    "logistic_grid_obscene = GridSearchCV(logistic_obscene, param_grid, cv=5, scoring='roc_auc', verbose=30, n_jobs=-1)\n",
    "logistic_grid_obscene.fit(X_train_obscene, y_train_obscene)\n",
    "\n",
    "#threat\n",
    "logistic_threat = linear_model.LogisticRegression(solver='lbfgs')\n",
    "logistic_grid_threat = GridSearchCV(logistic_threat, param_grid, cv=5, scoring='roc_auc', verbose=30, n_jobs=-1)\n",
    "logistic_grid_threat.fit(X_train_threat, y_train_threat)\n",
    "\n",
    "#insult\n",
    "logistic_insult = linear_model.LogisticRegression(solver='lbfgs')\n",
    "logistic_grid_insult = GridSearchCV(logistic_insult, param_grid, cv=5, scoring='roc_auc', verbose=30, n_jobs=-1)\n",
    "logistic_grid_insult.fit(X_train_insult, y_train_insult)\n",
    "\n",
    "#identity_hate\n",
    "logistic_identity_hate = linear_model.LogisticRegression(solver='lbfgs')\n",
    "logistic_grid_identity_hate = GridSearchCV(logistic_identity_hate, param_grid, cv=5, scoring='roc_auc', verbose=30, n_jobs=-1)\n",
    "logistic_grid_identity_hate.fit(X_train_identity_hate, y_train_identity_hate)"
   ]
  },
  {
   "cell_type": "markdown",
   "metadata": {},
   "source": [
    "## Plot ROC Curves"
   ]
  },
  {
   "cell_type": "code",
   "execution_count": 17,
   "metadata": {},
   "outputs": [
    {
     "data": {
      "image/png": "[encoded data removed]",
      "text/plain": [
       "<Figure size 1440x1296 with 1 Axes>"
      ]
     },
     "metadata": {
      "needs_background": "light"
     },
     "output_type": "display_data"
    }
   ],
   "source": [
    "#plot ROC Curves\n",
    "fig, ax = plt.subplots(figsize=(20,18))\n",
    "plt.xticks(fontsize=30)\n",
    "plt.yticks(fontsize=30)\n",
    "\n",
    "y_pred_toxic = list(logistic_grid_toxic.predict_proba(X_test_toxic)[:,1])\n",
    "label_toxic = y_test_toxic\n",
    "fpr, tpr, thresh = metrics.roc_curve(label_toxic, y_pred_toxic)\n",
    "roc_auc = metrics.auc(fpr, tpr)\n",
    "plt.plot(fpr,tpr,label=(\"Toxic AUC = %0.4f\" %roc_auc),linewidth=3.0)\n",
    "\n",
    "y_pred_severe_toxic = list(logistic_grid_severe_toxic.predict_proba(X_test_severe_toxic)[:,1])\n",
    "label_severe_toxic = y_test_severe_toxic\n",
    "fpr, tpr, thresh = metrics.roc_curve(label_severe_toxic, y_pred_severe_toxic)\n",
    "roc_auc = metrics.auc(fpr, tpr)\n",
    "plt.plot(fpr,tpr,label=(\"Severe Toxic AUC = %0.4f\" %roc_auc),linewidth=3.0)\n",
    "\n",
    "y_pred_obscene = list(logistic_grid_obscene.predict_proba(X_test_obscene)[:,1])\n",
    "label_obscene = y_test_obscene\n",
    "fpr, tpr, thresh = metrics.roc_curve(label_obscene, y_pred_obscene)\n",
    "roc_auc = metrics.auc(fpr, tpr)\n",
    "plt.plot(fpr,tpr,label=(\"Obscene AUC = %0.4f\" %roc_auc),linewidth=3.0)\n",
    "\n",
    "y_pred_threat = list(logistic_grid_threat.predict_proba(X_test_threat)[:,1])\n",
    "label_threat = y_test_threat\n",
    "fpr, tpr, thresh = metrics.roc_curve(label_threat, y_pred_threat)\n",
    "roc_auc = metrics.auc(fpr, tpr)\n",
    "plt.plot(fpr,tpr,label=(\"Threat AUC = %0.4f\" %roc_auc),linewidth=3.0)\n",
    "\n",
    "y_pred_insult = list(logistic_grid_insult.predict_proba(X_test_insult)[:,1])\n",
    "label_insult = y_test_insult\n",
    "fpr, tpr, thresh = metrics.roc_curve(label_insult, y_pred_insult)\n",
    "roc_auc = metrics.auc(fpr, tpr)\n",
    "plt.plot(fpr,tpr,label=(\"Insult AUC = %0.4f\" %roc_auc),linewidth=3.0)\n",
    "\n",
    "y_pred_identity_hate = list(logistic_grid_identity_hate.predict_proba(X_test_identity_hate)[:,1])\n",
    "label_identity_hate = y_test_identity_hate\n",
    "fpr, tpr, thresh = metrics.roc_curve(label_identity_hate, y_pred_identity_hate)\n",
    "roc_auc = metrics.auc(fpr, tpr)\n",
    "plt.plot(fpr,tpr,label=(\"Identity Hate AUC = %0.4f\" %roc_auc),linewidth=3.0)\n",
    "\n",
    "# pred = np.random.rand(1000)\n",
    "# label = np.random.randint(2, size=1000)\n",
    "# fpr, tpr, thresh = metrics.roc_curve(label, pred)\n",
    "# auc = metrics.roc_auc_score(label, pred)\n",
    "# plt.plot(fpr,tpr,label=\"data 2, auc=\"+str(auc))\n",
    "\n",
    "plt.plot([0, 1], [0, 1], 'r--')\n",
    "plt.legend(loc=0,prop={'size': 30});"
   ]
  },
  {
   "cell_type": "markdown",
   "metadata": {},
   "source": [
    "## Pickle Models\n",
    "This way you don't have to re-run the models"
   ]
  },
  {
   "cell_type": "markdown",
   "metadata": {},
   "source": [
    "# Applying ExtraTreeClassifier (ETC)"
   ]
  },
  {
   "cell_type": "code",
   "execution_count": null,
   "metadata": {},
   "outputs": [
    {
     "name": "stdout",
     "output_type": "stream",
     "text": [
      "CV score for class toxic is 0.9561633352021502\n",
      "CV score for class severe_toxic is 0.9375435079541407\n",
      "CV score for class obscene is 0.9788115847044438\n",
      "CV score for class threat is 0.8710639089080328\n",
      "CV score for class insult is 0.9618367539347289\n",
      "CV score for class identity_hate is 0.8979140190345815\n"
     ]
    }
   ],
   "source": [
    "from sklearn.ensemble import ExtraTreesClassifier\n",
    "\n",
    "losses = []\n",
    "etc_predictions = {'id': test['id']}\n",
    "etc_models = {}\n",
    "for class_name in class_names:\n",
    "    train_target = train[class_name]\n",
    "    etc_classifier = ExtraTreesClassifier(n_estimators=30)\n",
    "    \n",
    "    cv_loss = np.mean(cross_val_score(etc_classifier, train_features, train_target, cv=3, scoring='roc_auc'))\n",
    "    losses.append(cv_loss)\n",
    "    print('CV score for class {} is {}'.format(class_name, cv_loss))\n",
    "    \n",
    "    etc_classifier.fit(train_features, train_target)\n",
    "    etc_models[class_name] = etc_classifier\n",
    "    etc_predictions[class_name] = etc_classifier.predict_proba(test_features)[:, 1]"
   ]
  },
  {
   "cell_type": "code",
   "execution_count": null,
   "metadata": {},
   "outputs": [],
   "source": [
    "#pickle the models\n",
    "# Save Model as a pickle Using joblib\n",
    "# Save the model as a pickle in a file \n",
    "joblib.dump(etc_models, 'etc_models.p') \n",
    "  \n",
    "# Load the model from the file \n",
    "pickled_models = joblib.load('etc_models.p')"
   ]
  },
  {
   "cell_type": "code",
   "execution_count": null,
   "metadata": {},
   "outputs": [],
   "source": [
    "#pickled_models['toxic'].fit(train_features, train_target)\n",
    "predictions['toxic'] = pickled_models['toxic'].predict_proba(test_features)[:, 1]"
   ]
  }
 ],
 "metadata": {
  "kernelspec": {
   "display_name": "Python 3",
   "language": "python",
   "name": "python3"
  },
  "language_info": {
   "codemirror_mode": {
    "name": "ipython",
    "version": 3
   },
   "file_extension": ".py",
   "mimetype": "text/x-python",
   "name": "python",
   "nbconvert_exporter": "python",
   "pygments_lexer": "ipython3",
   "version": "3.7.3"
  }
 },
 "nbformat": 4,
 "nbformat_minor": 2
}
