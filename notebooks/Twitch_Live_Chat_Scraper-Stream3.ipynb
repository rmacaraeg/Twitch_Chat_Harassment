{
 "cells": [
  {
   "cell_type": "code",
   "execution_count": 1,
   "metadata": {},
   "outputs": [],
   "source": [
    "server = 'irc.chat.twitch.tv'\n",
    "port = 6667\n",
    "nickname = '' #username goes here\n",
    "token = '' #oauth token goes here (include the oauth:)\n",
    "channel = '#purple_hs'\n",
    "chat = 'purple_hs_chat.log'"
   ]
  },
  {
   "cell_type": "markdown",
   "metadata": {},
   "source": [
    "# Connection to Twitch IRC\n",
    "\n",
    "To establish a connection to Twitch IRC we'll be using Python's socket library. First we need to instantiate a socket:"
   ]
  },
  {
   "cell_type": "code",
   "execution_count": 2,
   "metadata": {},
   "outputs": [],
   "source": [
    "import socket\n",
    "\n",
    "sock = socket.socket()"
   ]
  },
  {
   "cell_type": "markdown",
   "metadata": {},
   "source": [
    "Next we'll connect this socket to Twitch by calling connect() with the server and port we defined above:"
   ]
  },
  {
   "cell_type": "code",
   "execution_count": 3,
   "metadata": {},
   "outputs": [],
   "source": [
    "sock.connect((server, port))"
   ]
  },
  {
   "cell_type": "markdown",
   "metadata": {},
   "source": [
    "Once connected, we need to send our token and nickname for authentication, and the channel to connect to over the socket.  \n",
    "  \n",
    "\n",
    "With sockets, we need to send() these parameters as encoded strings:"
   ]
  },
  {
   "cell_type": "code",
   "execution_count": 4,
   "metadata": {},
   "outputs": [
    {
     "data": {
      "text/plain": [
       "16"
      ]
     },
     "execution_count": 4,
     "metadata": {},
     "output_type": "execute_result"
    }
   ],
   "source": [
    "sock.send(f\"PASS {token}\\n\".encode('utf-8'))\n",
    "sock.send(f\"NICK {nickname}\\n\".encode('utf-8'))\n",
    "sock.send(f\"JOIN {channel}\\n\".encode('utf-8'))"
   ]
  },
  {
   "cell_type": "markdown",
   "metadata": {},
   "source": [
    "PASS carries our token, NICK carries our username, and JOIN carries the channel. These terms are actually common among many IRC connections, not just Twitch. So you should be able to use this for other IRC you wish to connect to, but with different values.\n",
    "\n",
    "Note that we send encoded strings by calling .encode('utf-8'). This encodes the string into bytes which allows it to be sent over the socket."
   ]
  },
  {
   "cell_type": "markdown",
   "metadata": {},
   "source": [
    "# Receiving channel messages"
   ]
  },
  {
   "cell_type": "markdown",
   "metadata": {},
   "source": [
    "Now we have successfully connected and can receive responses from the channel we subscribed to. To get a single response we can call .recv() and then decode the message from bytes:"
   ]
  },
  {
   "cell_type": "code",
   "execution_count": 6,
   "metadata": {},
   "outputs": [
    {
     "data": {
      "text/plain": [
       "':pastafarianprofit!pastafarianprofit@pastafarianprofit.tmi.twitch.tv PRIVMSG #purple_hs :he trades EleGiggle\\r\\n'"
      ]
     },
     "execution_count": 6,
     "metadata": {},
     "output_type": "execute_result"
    }
   ],
   "source": [
    "resp = sock.recv(2048).decode('utf-8')\n",
    "\n",
    "resp #run this cell twice"
   ]
  },
  {
   "cell_type": "markdown",
   "metadata": {},
   "source": [
    "Note: running this the first time will show a welcome message from Twitch. Run it again to show the first message from the channel."
   ]
  },
  {
   "cell_type": "markdown",
   "metadata": {},
   "source": [
    "Example output (if you were to connect to Ninja's stream):\n",
    "                \n",
    "```\n",
    "':spappygram!spappygram@spappygram.tmi.twitch.tv PRIVMSG #ninja :Chat, let Ninja play solos if he wants. His friends can get in contact with him.\\r\\n'\n",
    "```"
   ]
  },
  {
   "cell_type": "markdown",
   "metadata": {},
   "source": [
    "The 2048 is the buffer size in bytes, or the amount of data to receive. The convention is to use small powers of 2, so 1024, 2048, 4096, etc. Rerunning the above will receive the next message that was pushed to the socket."
   ]
  },
  {
   "cell_type": "markdown",
   "metadata": {},
   "source": [
    "If we need to close and/or reopen the socket just use:\n",
    "    \n",
    "    sock.close()"
   ]
  },
  {
   "cell_type": "markdown",
   "metadata": {},
   "source": [
    "# Writing messages to a file\n",
    "Right now, our socket is being inundated with responses from Twitch but we have two problems:\n",
    "\n",
    "We need to continuously check for new messages\n",
    "We want to log the messages as they come in\n",
    "To fix, we'll use a loop to check for new messages while the socket is open and use Python's logging library to log messages to a file.\n",
    "\n",
    "First, let's set up a basic logger in Python that will write messages to a file:"
   ]
  },
  {
   "cell_type": "code",
   "execution_count": 7,
   "metadata": {},
   "outputs": [],
   "source": [
    "import logging\n",
    "\n",
    "logging.basicConfig(level=logging.DEBUG,\n",
    "                    format='%(asctime)s — %(message)s',\n",
    "                    datefmt='%Y-%m-%d_%H:%M:%S',\n",
    "                    handlers=[logging.FileHandler(chat, encoding='utf-8')])"
   ]
  },
  {
   "cell_type": "markdown",
   "metadata": {},
   "source": [
    "We're setting the log level to DEBUG, which allows all levels of logging to be written to the file. The format is how we want each line to look, which will be the time we recorded the line and message from the channel separated by an em dash. The datefmt is how we want the time portion of the format to be recorded (example below).\n",
    "\n",
    "Finally, we pass a FileHandler to handlers. We could give it multiple handlers to, for example we could add another handler that prints messages to the console. In this case, we're logging to chat.log, which will be created by the handler. Since we're passing a plain filename without a path, the handler will create this file in the current directory. Later on we'll make this filename dynamic to create separate logs for different channels.\n",
    "\n",
    "Let's log the response we received earlier to test it out:"
   ]
  },
  {
   "cell_type": "code",
   "execution_count": 8,
   "metadata": {},
   "outputs": [],
   "source": [
    "logging.info(resp)"
   ]
  },
  {
   "cell_type": "markdown",
   "metadata": {},
   "source": [
    "You can check your log wherever you saved the chat.log file"
   ]
  },
  {
   "cell_type": "markdown",
   "metadata": {},
   "source": [
    "So we have the time the message was logged at the beginning, a double dash separator, and then the message. This format corresponds to the format argument we used in basicConfig.\n",
    "\n",
    "Later, we'll be parsing these each message and use the time as a piece of data to explore."
   ]
  },
  {
   "cell_type": "markdown",
   "metadata": {},
   "source": [
    "# Continuous message writing\n",
    "Now on to continuously checking for new messages in a loop.\n",
    "\n",
    "When we're connected to the socket, Twitch (and other IRC) will periodically send a keyword — \"PING\" — to check if you're still using the connection. We want to check for this keyword, and send an appropriate response — \"PONG\".\n",
    "\n",
    "One other thing we'll do is parse emojis so they can be written to a file. To do this, we'll use the emoji library that will provide a mapping from emojis to their meaning in words. For example, if a 👍 shows up in a message it'll be converted to :thumbs_up:.\n",
    "\n",
    "The following is a while loop that will continuously check for new messages from the socket, send a PONG if necessary, and log messages with parsed emojis:\n",
    "\n"
   ]
  },
  {
   "cell_type": "code",
   "execution_count": 9,
   "metadata": {},
   "outputs": [
    {
     "ename": "KeyboardInterrupt",
     "evalue": "",
     "output_type": "error",
     "traceback": [
      "\u001b[0;31m---------------------------------------------------------------------------\u001b[0m",
      "\u001b[0;31mKeyboardInterrupt\u001b[0m                         Traceback (most recent call last)",
      "\u001b[0;32m<ipython-input-9-61581d213fbb>\u001b[0m in \u001b[0;36m<module>\u001b[0;34m\u001b[0m\n\u001b[1;32m      2\u001b[0m \u001b[0;34m\u001b[0m\u001b[0m\n\u001b[1;32m      3\u001b[0m \u001b[0;32mwhile\u001b[0m \u001b[0;32mTrue\u001b[0m\u001b[0;34m:\u001b[0m\u001b[0;34m\u001b[0m\u001b[0;34m\u001b[0m\u001b[0m\n\u001b[0;32m----> 4\u001b[0;31m     \u001b[0mresp\u001b[0m \u001b[0;34m=\u001b[0m \u001b[0msock\u001b[0m\u001b[0;34m.\u001b[0m\u001b[0mrecv\u001b[0m\u001b[0;34m(\u001b[0m\u001b[0;36m2048\u001b[0m\u001b[0;34m)\u001b[0m\u001b[0;34m.\u001b[0m\u001b[0mdecode\u001b[0m\u001b[0;34m(\u001b[0m\u001b[0;34m'utf-8'\u001b[0m\u001b[0;34m)\u001b[0m\u001b[0;34m\u001b[0m\u001b[0;34m\u001b[0m\u001b[0m\n\u001b[0m\u001b[1;32m      5\u001b[0m \u001b[0;34m\u001b[0m\u001b[0m\n\u001b[1;32m      6\u001b[0m     \u001b[0;32mif\u001b[0m \u001b[0mresp\u001b[0m\u001b[0;34m.\u001b[0m\u001b[0mstartswith\u001b[0m\u001b[0;34m(\u001b[0m\u001b[0;34m'PING'\u001b[0m\u001b[0;34m)\u001b[0m\u001b[0;34m:\u001b[0m\u001b[0;34m\u001b[0m\u001b[0;34m\u001b[0m\u001b[0m\n",
      "\u001b[0;31mKeyboardInterrupt\u001b[0m: "
     ]
    }
   ],
   "source": [
    "from emoji import demojize\n",
    "\n",
    "while True:\n",
    "    resp = sock.recv(2048).decode('utf-8')\n",
    "\n",
    "    if resp.startswith('PING'):\n",
    "        sock.send(\"PONG\\n\".encode('utf-8'))\n",
    "    \n",
    "    elif len(resp) > 0:\n",
    "        logging.info(demojize(resp))\n",
    "        \n",
    "#you have to manually end this one or else it keeps running"
   ]
  },
  {
   "cell_type": "markdown",
   "metadata": {},
   "source": [
    "This will keep running until you stop it. To see the messages in real-time open a new terminal, navigate to the log's location, and run:\n",
    "\n",
    "tail -f chat.log"
   ]
  },
  {
   "cell_type": "markdown",
   "metadata": {},
   "source": [
    "# Parsing logs\n",
    "Our goal for this section is to parse the chat log into a pandas DataFrame to prepare for analysis\n",
    "\n",
    "The columns we'd like to have for analysis are:\n",
    "\n",
    "date and time\n",
    "sender's username\n",
    "and the message\n",
    "We'll need to parse the information from each line, so let's look at an example line again:"
   ]
  },
  {
   "cell_type": "code",
   "execution_count": 10,
   "metadata": {},
   "outputs": [],
   "source": [
    "msg = '2019-05-16_11:18:33 — :therealzav!therealzav@therealzav.tmi.twitch.tv PRIVMSG #purple_hs :Better RNGer won'"
   ]
  },
  {
   "cell_type": "code",
   "execution_count": 11,
   "metadata": {},
   "outputs": [
    {
     "data": {
      "text/plain": [
       "datetime.datetime(2019, 5, 16, 11, 18, 33)"
      ]
     },
     "execution_count": 11,
     "metadata": {},
     "output_type": "execute_result"
    }
   ],
   "source": [
    "from datetime import datetime\n",
    "\n",
    "time_logged = msg.split()[0].strip()\n",
    "\n",
    "time_logged = datetime.strptime(time_logged, '%Y-%m-%d_%H:%M:%S')\n",
    "\n",
    "time_logged"
   ]
  },
  {
   "cell_type": "markdown",
   "metadata": {},
   "source": [
    "Great! We have a datetime. Let's parse the rest of the message.\n",
    "\n",
    "Since using an em dash (—, or Right-ALT+0151 on Windows) is sometimes used in chat, we will need to split on it, skip the date, and rejoin with an em dash to ensure the message is the same:\n",
    "\n"
   ]
  },
  {
   "cell_type": "code",
   "execution_count": 12,
   "metadata": {},
   "outputs": [
    {
     "data": {
      "text/plain": [
       "':therealzav!therealzav@therealzav.tmi.twitch.tv PRIVMSG #purple_hs :Better RNGer won'"
      ]
     },
     "execution_count": 12,
     "metadata": {},
     "output_type": "execute_result"
    }
   ],
   "source": [
    "username_message = msg.split('—')[1:]\n",
    "username_message = '—'.join(username_message).strip()\n",
    "\n",
    "username_message"
   ]
  },
  {
   "cell_type": "markdown",
   "metadata": {},
   "source": [
    "The message is structure with a username at the beginning, a '#' denoting the channel, and a colon to say where the message begins."
   ]
  },
  {
   "cell_type": "markdown",
   "metadata": {},
   "source": [
    "Regex is great for this kind of thing. We have three pieces of info we want to extract from a well-formatted string.\n",
    "\n",
    "In the regex search below, each parentheses — (.*) — will capture that part of the string:"
   ]
  },
  {
   "cell_type": "code",
   "execution_count": 13,
   "metadata": {},
   "outputs": [
    {
     "name": "stdout",
     "output_type": "stream",
     "text": [
      "Channel: purple_hs \n",
      "Username: therealzav \n",
      "Message: Better RNGer won\n"
     ]
    }
   ],
   "source": [
    "import re\n",
    "\n",
    "username, channel, message = re.search(':(.*)\\!.*@.*\\.tmi\\.twitch\\.tv PRIVMSG #(.*) :(.*)', username_message).groups()\n",
    "\n",
    "print(f\"Channel: {channel} \\nUsername: {username} \\nMessage: {message}\")"
   ]
  },
  {
   "cell_type": "markdown",
   "metadata": {},
   "source": [
    "Excellent. Now we have each piece parsed. Let's loop through the entire chat log, parse each line like the example line, and create a DataFrame at the end. If you haven't used DataFrames that much, definitely check out our beginners guide to pandas.\n",
    "\n",
    "Here's it all put together:"
   ]
  },
  {
   "cell_type": "code",
   "execution_count": 14,
   "metadata": {},
   "outputs": [],
   "source": [
    "import pandas as pd\n",
    "\n",
    "def get_chat_dataframe(file):\n",
    "    data = []\n",
    "\n",
    "    with open(file, 'r', encoding='utf-8') as f:\n",
    "        lines = f.read().split('\\n')\n",
    "        \n",
    "        for line in lines:\n",
    "            try:\n",
    "                time_logged = line.split('—')[0].strip()\n",
    "                time_logged = datetime.strptime(time_logged, '%Y-%m-%d_%H:%M:%S')\n",
    "\n",
    "                username_message = line.split('—')[1:]\n",
    "                username_message = '—'.join(username_message).strip()\n",
    "\n",
    "                username, channel, message = re.search(\n",
    "                    ':(.*)\\!.*@.*\\.tmi\\.twitch\\.tv PRIVMSG #(.*) :(.*)', username_message\n",
    "                ).groups()\n",
    "\n",
    "                d = {\n",
    "                    'dt': time_logged,\n",
    "                    'channel': channel,\n",
    "                    'username': username,\n",
    "                    'message': message\n",
    "                }\n",
    "\n",
    "                data.append(d)\n",
    "            \n",
    "            except Exception:\n",
    "                pass\n",
    "            \n",
    "    return pd.DataFrame().from_records(data)\n",
    "        \n",
    "    \n",
    "df = get_chat_dataframe(chat)"
   ]
  },
  {
   "cell_type": "markdown",
   "metadata": {},
   "source": [
    "Let's quickly view what we have now:"
   ]
  },
  {
   "cell_type": "code",
   "execution_count": 15,
   "metadata": {},
   "outputs": [
    {
     "name": "stdout",
     "output_type": "stream",
     "text": [
      "(665, 3)\n"
     ]
    }
   ],
   "source": [
    "df.set_index('dt', inplace=True)\n",
    "\n",
    "print(df.shape)\n"
   ]
  },
  {
   "cell_type": "code",
   "execution_count": 16,
   "metadata": {},
   "outputs": [],
   "source": [
    "pd.set_option('display.max_colwidth', -1)"
   ]
  },
  {
   "cell_type": "code",
   "execution_count": 17,
   "metadata": {
    "scrolled": true
   },
   "outputs": [
    {
     "data": {
      "text/html": [
       "<div>\n",
       "<style scoped>\n",
       "    .dataframe tbody tr th:only-of-type {\n",
       "        vertical-align: middle;\n",
       "    }\n",
       "\n",
       "    .dataframe tbody tr th {\n",
       "        vertical-align: top;\n",
       "    }\n",
       "\n",
       "    .dataframe thead th {\n",
       "        text-align: right;\n",
       "    }\n",
       "</style>\n",
       "<table border=\"1\" class=\"dataframe\">\n",
       "  <thead>\n",
       "    <tr style=\"text-align: right;\">\n",
       "      <th></th>\n",
       "      <th>channel</th>\n",
       "      <th>message</th>\n",
       "      <th>username</th>\n",
       "    </tr>\n",
       "    <tr>\n",
       "      <th>dt</th>\n",
       "      <th></th>\n",
       "      <th></th>\n",
       "      <th></th>\n",
       "    </tr>\n",
       "  </thead>\n",
       "  <tbody>\n",
       "    <tr>\n",
       "      <th>2019-05-16 08:52:23</th>\n",
       "      <td>purple_hs</td>\n",
       "      <td>he trades EleGiggle</td>\n",
       "      <td>pastafarianprofit</td>\n",
       "    </tr>\n",
       "    <tr>\n",
       "      <th>2019-05-16 08:52:24</th>\n",
       "      <td>purple_hs</td>\n",
       "      <td>pro trade!</td>\n",
       "      <td>chinacat</td>\n",
       "    </tr>\n",
       "    <tr>\n",
       "      <th>2019-05-16 08:52:32</th>\n",
       "      <td>purple_hs</td>\n",
       "      <td>NomNom</td>\n",
       "      <td>amyzhen</td>\n",
       "    </tr>\n",
       "    <tr>\n",
       "      <th>2019-05-16 08:53:07</th>\n",
       "      <td>purple_hs</td>\n",
       "      <td>He doesn’t understand go face, less life</td>\n",
       "      <td>stufficient</td>\n",
       "    </tr>\n",
       "    <tr>\n",
       "      <th>2019-05-16 08:53:24</th>\n",
       "      <td>purple_hs</td>\n",
       "      <td>You can't live without life.</td>\n",
       "      <td>chinacat</td>\n",
       "    </tr>\n",
       "    <tr>\n",
       "      <th>2019-05-16 08:53:57</th>\n",
       "      <td>purple_hs</td>\n",
       "      <td>two kc in hand and he goes full trade, jeez...</td>\n",
       "      <td>kalorienreduziert</td>\n",
       "    </tr>\n",
       "    <tr>\n",
       "      <th>2019-05-16 08:54:17</th>\n",
       "      <td>purple_hs :FeelsGoodMan</td>\n",
       "      <td>guitar:</td>\n",
       "      <td>afriendlyqueuer</td>\n",
       "    </tr>\n",
       "    <tr>\n",
       "      <th>2019-05-16 08:54:17</th>\n",
       "      <td>purple_hs</td>\n",
       "      <td>his zuljin will cast the kc face</td>\n",
       "      <td>sonyhia</td>\n",
       "    </tr>\n",
       "    <tr>\n",
       "      <th>2019-05-16 08:55:02</th>\n",
       "      <td>purple_hs</td>\n",
       "      <td>50/50 swipe</td>\n",
       "      <td>mrblack2</td>\n",
       "    </tr>\n",
       "    <tr>\n",
       "      <th>2019-05-16 08:55:09</th>\n",
       "      <td>purple_hs</td>\n",
       "      <td>Tess swipes it every time EZ</td>\n",
       "      <td>pastafarianprofit</td>\n",
       "    </tr>\n",
       "    <tr>\n",
       "      <th>2019-05-16 08:55:22</th>\n",
       "      <td>purple_hs</td>\n",
       "      <td>Told you EZ</td>\n",
       "      <td>pastafarianprofit</td>\n",
       "    </tr>\n",
       "    <tr>\n",
       "      <th>2019-05-16 08:55:27</th>\n",
       "      <td>purple_hs</td>\n",
       "      <td>:piano:</td>\n",
       "      <td>afriendlyqueuer</td>\n",
       "    </tr>\n",
       "    <tr>\n",
       "      <th>2019-05-16 08:56:02</th>\n",
       "      <td>purple_hs</td>\n",
       "      <td>!deck</td>\n",
       "      <td>bagdadik358</td>\n",
       "    </tr>\n",
       "    <tr>\n",
       "      <th>2019-05-16 08:56:03</th>\n",
       "      <td>purple_hs</td>\n",
       "      <td>try doing !(classname)</td>\n",
       "      <td>streamelements</td>\n",
       "    </tr>\n",
       "    <tr>\n",
       "      <th>2019-05-16 08:56:46</th>\n",
       "      <td>purple_hs</td>\n",
       "      <td>!rogue</td>\n",
       "      <td>geauxbigoo7</td>\n",
       "    </tr>\n",
       "    <tr>\n",
       "      <th>2019-05-16 08:56:46</th>\n",
       "      <td>purple_hs</td>\n",
       "      <td>AAECAYO6AgSyAsgDrwTn+gINtAHLA80DmwXUBe4GiAfdCIYJ3NECmuICpu8C1YwDAA== Mar 24 (Myracle Rogue)</td>\n",
       "      <td>streamelements</td>\n",
       "    </tr>\n",
       "    <tr>\n",
       "      <th>2019-05-16 08:56:56</th>\n",
       "      <td>purple_hs</td>\n",
       "      <td>oh wow</td>\n",
       "      <td>ominous0rangutan</td>\n",
       "    </tr>\n",
       "    <tr>\n",
       "      <th>2019-05-16 08:56:58</th>\n",
       "      <td>purple_hs</td>\n",
       "      <td>thanks</td>\n",
       "      <td>bagdadik358</td>\n",
       "    </tr>\n",
       "    <tr>\n",
       "      <th>2019-05-16 08:57:01</th>\n",
       "      <td>purple_hs</td>\n",
       "      <td>EZ Clap</td>\n",
       "      <td>pastafarianprofit</td>\n",
       "    </tr>\n",
       "    <tr>\n",
       "      <th>2019-05-16 08:57:02</th>\n",
       "      <td>purple_hs</td>\n",
       "      <td>LUL</td>\n",
       "      <td>ominous0rangutan</td>\n",
       "    </tr>\n",
       "    <tr>\n",
       "      <th>2019-05-16 08:57:02</th>\n",
       "      <td>purple_hs</td>\n",
       "      <td>EZ</td>\n",
       "      <td>nemfles</td>\n",
       "    </tr>\n",
       "    <tr>\n",
       "      <th>2019-05-16 08:57:03</th>\n",
       "      <td>purple_hs</td>\n",
       "      <td>easy</td>\n",
       "      <td>sonyhia</td>\n",
       "    </tr>\n",
       "    <tr>\n",
       "      <th>2019-05-16 08:57:06</th>\n",
       "      <td>purple_hs</td>\n",
       "      <td>EZ</td>\n",
       "      <td>afriendlyqueuer</td>\n",
       "    </tr>\n",
       "    <tr>\n",
       "      <th>2019-05-16 08:57:09</th>\n",
       "      <td>purple_hs</td>\n",
       "      <td>lol</td>\n",
       "      <td>chinacat</td>\n",
       "    </tr>\n",
       "    <tr>\n",
       "      <th>2019-05-16 08:57:11</th>\n",
       "      <td>purple_hs</td>\n",
       "      <td>jalexaEZwin Clap</td>\n",
       "      <td>colossus_geopas</td>\n",
       "    </tr>\n",
       "    <tr>\n",
       "      <th>2019-05-16 08:57:12</th>\n",
       "      <td>purple_hs</td>\n",
       "      <td>LUL</td>\n",
       "      <td>sebascapo</td>\n",
       "    </tr>\n",
       "    <tr>\n",
       "      <th>2019-05-16 08:57:13</th>\n",
       "      <td>purple_hs</td>\n",
       "      <td>nerfed card was actually a buff LUL</td>\n",
       "      <td>theironbun</td>\n",
       "    </tr>\n",
       "    <tr>\n",
       "      <th>2019-05-16 08:57:13</th>\n",
       "      <td>purple_hs</td>\n",
       "      <td>nice</td>\n",
       "      <td>fantazyst</td>\n",
       "    </tr>\n",
       "    <tr>\n",
       "      <th>2019-05-16 08:57:13</th>\n",
       "      <td>purple_hs</td>\n",
       "      <td>chocotEZ</td>\n",
       "      <td>reddnes</td>\n",
       "    </tr>\n",
       "    <tr>\n",
       "      <th>2019-05-16 08:57:18</th>\n",
       "      <td>purple_hs</td>\n",
       "      <td>Pog</td>\n",
       "      <td>mrblack2</td>\n",
       "    </tr>\n",
       "    <tr>\n",
       "      <th>...</th>\n",
       "      <td>...</td>\n",
       "      <td>...</td>\n",
       "      <td>...</td>\n",
       "    </tr>\n",
       "    <tr>\n",
       "      <th>2019-05-16 09:37:03</th>\n",
       "      <td>purple_hs</td>\n",
       "      <td>always value trade, dont you know?</td>\n",
       "      <td>kalorienreduziert</td>\n",
       "    </tr>\n",
       "    <tr>\n",
       "      <th>2019-05-16 09:37:44</th>\n",
       "      <td>purple_hs</td>\n",
       "      <td>Chat, did anything sort out with the weird scoring/results in the Dalaran Challenge yesterday?</td>\n",
       "      <td>federalist45</td>\n",
       "    </tr>\n",
       "    <tr>\n",
       "      <th>2019-05-16 09:37:49</th>\n",
       "      <td>purple_hs</td>\n",
       "      <td>tess</td>\n",
       "      <td>olldontz</td>\n",
       "    </tr>\n",
       "    <tr>\n",
       "      <th>2019-05-16 09:38:07</th>\n",
       "      <td>purple_hs</td>\n",
       "      <td>Yess</td>\n",
       "      <td>shinexblazer</td>\n",
       "    </tr>\n",
       "    <tr>\n",
       "      <th>2019-05-16 09:38:10</th>\n",
       "      <td>purple_hs</td>\n",
       "      <td>gg</td>\n",
       "      <td>chinacat</td>\n",
       "    </tr>\n",
       "    <tr>\n",
       "      <th>2019-05-16 09:38:15</th>\n",
       "      <td>purple_hs</td>\n",
       "      <td>win</td>\n",
       "      <td>knotastalker</td>\n",
       "    </tr>\n",
       "    <tr>\n",
       "      <th>2019-05-16 09:38:15</th>\n",
       "      <td>purple_hs</td>\n",
       "      <td>Tost won</td>\n",
       "      <td>shinexblazer</td>\n",
       "    </tr>\n",
       "    <tr>\n",
       "      <th>2019-05-16 09:38:22</th>\n",
       "      <td>purple_hs</td>\n",
       "      <td>0/2 0/2</td>\n",
       "      <td>olldontz</td>\n",
       "    </tr>\n",
       "    <tr>\n",
       "      <th>2019-05-16 09:38:27</th>\n",
       "      <td>purple_hs</td>\n",
       "      <td>I managed to beat a tess rogue who got rain of toads and feral spirit on tess and shuffled 15 into deck LUL</td>\n",
       "      <td>mrblack2</td>\n",
       "    </tr>\n",
       "    <tr>\n",
       "      <th>2019-05-16 09:38:29</th>\n",
       "      <td>purple_hs</td>\n",
       "      <td>toast got his recount</td>\n",
       "      <td>bitbybitt</td>\n",
       "    </tr>\n",
       "    <tr>\n",
       "      <th>2019-05-16 09:38:34</th>\n",
       "      <td>purple_hs</td>\n",
       "      <td>@Shinexblazer cannot find anywhere in the rules, that the decklist will be announced.</td>\n",
       "      <td>thekerico</td>\n",
       "    </tr>\n",
       "    <tr>\n",
       "      <th>2019-05-16 09:38:53</th>\n",
       "      <td>purple_hs</td>\n",
       "      <td>purplewEZ</td>\n",
       "      <td>heyitsmanzi</td>\n",
       "    </tr>\n",
       "    <tr>\n",
       "      <th>2019-05-16 09:39:02</th>\n",
       "      <td>purple_hs</td>\n",
       "      <td>I love watching this deck play warrior.</td>\n",
       "      <td>chinacat</td>\n",
       "    </tr>\n",
       "    <tr>\n",
       "      <th>2019-05-16 09:39:11</th>\n",
       "      <td>purple_hs</td>\n",
       "      <td>The nuts would've been a prep-myras follow up on turn 5</td>\n",
       "      <td>mythandier</td>\n",
       "    </tr>\n",
       "    <tr>\n",
       "      <th>2019-05-16 09:39:12</th>\n",
       "      <td>purple_hs</td>\n",
       "      <td>anyone know what time the new solo adventure goes live?</td>\n",
       "      <td>fangbunnie</td>\n",
       "    </tr>\n",
       "    <tr>\n",
       "      <th>2019-05-16 09:39:21</th>\n",
       "      <td>purple_hs</td>\n",
       "      <td>Draw better</td>\n",
       "      <td>chinacat</td>\n",
       "    </tr>\n",
       "    <tr>\n",
       "      <th>2019-05-16 09:39:39</th>\n",
       "      <td>purple_hs</td>\n",
       "      <td>20 mins</td>\n",
       "      <td>mrblack2</td>\n",
       "    </tr>\n",
       "    <tr>\n",
       "      <th>2019-05-16 09:39:41</th>\n",
       "      <td>purple_hs</td>\n",
       "      <td>Is t solo next week?</td>\n",
       "      <td>xxxp0stm4nxxx</td>\n",
       "    </tr>\n",
       "    <tr>\n",
       "      <th>2019-05-16 09:39:46</th>\n",
       "      <td>purple_hs</td>\n",
       "      <td>@fangbunnie</td>\n",
       "      <td>mrblack2</td>\n",
       "    </tr>\n",
       "    <tr>\n",
       "      <th>2019-05-16 09:39:56</th>\n",
       "      <td>purple_hs</td>\n",
       "      <td>thanks @MrBlack2</td>\n",
       "      <td>fangbunnie</td>\n",
       "    </tr>\n",
       "    <tr>\n",
       "      <th>2019-05-16 09:40:26</th>\n",
       "      <td>purple_hs</td>\n",
       "      <td>The Dalaran Heist will launch on May 16 between 1 and 2 p.m. EST.</td>\n",
       "      <td>thekerico</td>\n",
       "    </tr>\n",
       "    <tr>\n",
       "      <th>2019-05-16 09:40:57</th>\n",
       "      <td>purple_hs</td>\n",
       "      <td>Is the solo worth $20?</td>\n",
       "      <td>xxxp0stm4nxxx</td>\n",
       "    </tr>\n",
       "    <tr>\n",
       "      <th>2019-05-16 09:41:08</th>\n",
       "      <td>purple_hs</td>\n",
       "      <td>Depends</td>\n",
       "      <td>archdukeofchaos</td>\n",
       "    </tr>\n",
       "    <tr>\n",
       "      <th>2019-05-16 09:41:32</th>\n",
       "      <td>purple_hs</td>\n",
       "      <td>its nice that u can buy it from coins</td>\n",
       "      <td>mangemano</td>\n",
       "    </tr>\n",
       "    <tr>\n",
       "      <th>2019-05-16 09:41:33</th>\n",
       "      <td>purple_hs</td>\n",
       "      <td>solo looks to be well worth £20</td>\n",
       "      <td>mrblack2</td>\n",
       "    </tr>\n",
       "    <tr>\n",
       "      <th>2019-05-16 09:41:46</th>\n",
       "      <td>purple_hs</td>\n",
       "      <td>@purple_hs How do you think you'll do during grandmasters saturday?</td>\n",
       "      <td>archdukeofchaos</td>\n",
       "    </tr>\n",
       "    <tr>\n",
       "      <th>2019-05-16 09:41:51</th>\n",
       "      <td>purple_hs</td>\n",
       "      <td>What are the third and fourth copies</td>\n",
       "      <td>shinexblazer</td>\n",
       "    </tr>\n",
       "    <tr>\n",
       "      <th>2019-05-16 09:42:00</th>\n",
       "      <td>purple_hs</td>\n",
       "      <td>it will pull both bloodsails 100%</td>\n",
       "      <td>kalorienreduziert</td>\n",
       "    </tr>\n",
       "    <tr>\n",
       "      <th>2019-05-16 09:42:08</th>\n",
       "      <td>purple_hs</td>\n",
       "      <td>How many packs do you get from solo?</td>\n",
       "      <td>xxxp0stm4nxxx</td>\n",
       "    </tr>\n",
       "    <tr>\n",
       "      <th>2019-05-16 09:42:24</th>\n",
       "      <td>purple_hs</td>\n",
       "      <td>Right on time</td>\n",
       "      <td>heyitsmanzi</td>\n",
       "    </tr>\n",
       "  </tbody>\n",
       "</table>\n",
       "<p>200 rows × 3 columns</p>\n",
       "</div>"
      ],
      "text/plain": [
       "                                     channel  \\\n",
       "dt                                             \n",
       "2019-05-16 08:52:23  purple_hs                 \n",
       "2019-05-16 08:52:24  purple_hs                 \n",
       "2019-05-16 08:52:32  purple_hs                 \n",
       "2019-05-16 08:53:07  purple_hs                 \n",
       "2019-05-16 08:53:24  purple_hs                 \n",
       "2019-05-16 08:53:57  purple_hs                 \n",
       "2019-05-16 08:54:17  purple_hs :FeelsGoodMan   \n",
       "2019-05-16 08:54:17  purple_hs                 \n",
       "2019-05-16 08:55:02  purple_hs                 \n",
       "2019-05-16 08:55:09  purple_hs                 \n",
       "2019-05-16 08:55:22  purple_hs                 \n",
       "2019-05-16 08:55:27  purple_hs                 \n",
       "2019-05-16 08:56:02  purple_hs                 \n",
       "2019-05-16 08:56:03  purple_hs                 \n",
       "2019-05-16 08:56:46  purple_hs                 \n",
       "2019-05-16 08:56:46  purple_hs                 \n",
       "2019-05-16 08:56:56  purple_hs                 \n",
       "2019-05-16 08:56:58  purple_hs                 \n",
       "2019-05-16 08:57:01  purple_hs                 \n",
       "2019-05-16 08:57:02  purple_hs                 \n",
       "2019-05-16 08:57:02  purple_hs                 \n",
       "2019-05-16 08:57:03  purple_hs                 \n",
       "2019-05-16 08:57:06  purple_hs                 \n",
       "2019-05-16 08:57:09  purple_hs                 \n",
       "2019-05-16 08:57:11  purple_hs                 \n",
       "2019-05-16 08:57:12  purple_hs                 \n",
       "2019-05-16 08:57:13  purple_hs                 \n",
       "2019-05-16 08:57:13  purple_hs                 \n",
       "2019-05-16 08:57:13  purple_hs                 \n",
       "2019-05-16 08:57:18  purple_hs                 \n",
       "...                        ...                 \n",
       "2019-05-16 09:37:03  purple_hs                 \n",
       "2019-05-16 09:37:44  purple_hs                 \n",
       "2019-05-16 09:37:49  purple_hs                 \n",
       "2019-05-16 09:38:07  purple_hs                 \n",
       "2019-05-16 09:38:10  purple_hs                 \n",
       "2019-05-16 09:38:15  purple_hs                 \n",
       "2019-05-16 09:38:15  purple_hs                 \n",
       "2019-05-16 09:38:22  purple_hs                 \n",
       "2019-05-16 09:38:27  purple_hs                 \n",
       "2019-05-16 09:38:29  purple_hs                 \n",
       "2019-05-16 09:38:34  purple_hs                 \n",
       "2019-05-16 09:38:53  purple_hs                 \n",
       "2019-05-16 09:39:02  purple_hs                 \n",
       "2019-05-16 09:39:11  purple_hs                 \n",
       "2019-05-16 09:39:12  purple_hs                 \n",
       "2019-05-16 09:39:21  purple_hs                 \n",
       "2019-05-16 09:39:39  purple_hs                 \n",
       "2019-05-16 09:39:41  purple_hs                 \n",
       "2019-05-16 09:39:46  purple_hs                 \n",
       "2019-05-16 09:39:56  purple_hs                 \n",
       "2019-05-16 09:40:26  purple_hs                 \n",
       "2019-05-16 09:40:57  purple_hs                 \n",
       "2019-05-16 09:41:08  purple_hs                 \n",
       "2019-05-16 09:41:32  purple_hs                 \n",
       "2019-05-16 09:41:33  purple_hs                 \n",
       "2019-05-16 09:41:46  purple_hs                 \n",
       "2019-05-16 09:41:51  purple_hs                 \n",
       "2019-05-16 09:42:00  purple_hs                 \n",
       "2019-05-16 09:42:08  purple_hs                 \n",
       "2019-05-16 09:42:24  purple_hs                 \n",
       "\n",
       "                                                                                                                         message  \\\n",
       "dt                                                                                                                                 \n",
       "2019-05-16 08:52:23  he trades EleGiggle                                                                                           \n",
       "2019-05-16 08:52:24  pro trade!                                                                                                    \n",
       "2019-05-16 08:52:32  NomNom                                                                                                        \n",
       "2019-05-16 08:53:07  He doesn’t understand go face, less life                                                                      \n",
       "2019-05-16 08:53:24  You can't live without life.                                                                                  \n",
       "2019-05-16 08:53:57  two kc in hand and he goes full trade, jeez...                                                                \n",
       "2019-05-16 08:54:17  guitar:                                                                                                       \n",
       "2019-05-16 08:54:17  his zuljin will cast the kc face                                                                              \n",
       "2019-05-16 08:55:02  50/50 swipe                                                                                                   \n",
       "2019-05-16 08:55:09  Tess swipes it every time EZ                                                                                  \n",
       "2019-05-16 08:55:22  Told you EZ                                                                                                   \n",
       "2019-05-16 08:55:27  :piano:                                                                                                       \n",
       "2019-05-16 08:56:02  !deck                                                                                                         \n",
       "2019-05-16 08:56:03  try doing !(classname)                                                                                        \n",
       "2019-05-16 08:56:46  !rogue                                                                                                        \n",
       "2019-05-16 08:56:46  AAECAYO6AgSyAsgDrwTn+gINtAHLA80DmwXUBe4GiAfdCIYJ3NECmuICpu8C1YwDAA== Mar 24 (Myracle Rogue)                   \n",
       "2019-05-16 08:56:56  oh wow                                                                                                        \n",
       "2019-05-16 08:56:58  thanks                                                                                                        \n",
       "2019-05-16 08:57:01  EZ Clap                                                                                                       \n",
       "2019-05-16 08:57:02  LUL                                                                                                           \n",
       "2019-05-16 08:57:02  EZ                                                                                                            \n",
       "2019-05-16 08:57:03  easy                                                                                                          \n",
       "2019-05-16 08:57:06  EZ                                                                                                            \n",
       "2019-05-16 08:57:09  lol                                                                                                           \n",
       "2019-05-16 08:57:11  jalexaEZwin Clap                                                                                              \n",
       "2019-05-16 08:57:12  LUL                                                                                                           \n",
       "2019-05-16 08:57:13  nerfed card was actually a buff LUL                                                                           \n",
       "2019-05-16 08:57:13  nice                                                                                                          \n",
       "2019-05-16 08:57:13  chocotEZ                                                                                                      \n",
       "2019-05-16 08:57:18  Pog                                                                                                           \n",
       "...                       ...                                                                                                      \n",
       "2019-05-16 09:37:03  always value trade, dont you know?                                                                            \n",
       "2019-05-16 09:37:44  Chat, did anything sort out with the weird scoring/results in the Dalaran Challenge yesterday?                \n",
       "2019-05-16 09:37:49  tess                                                                                                          \n",
       "2019-05-16 09:38:07  Yess                                                                                                          \n",
       "2019-05-16 09:38:10  gg                                                                                                            \n",
       "2019-05-16 09:38:15  win                                                                                                           \n",
       "2019-05-16 09:38:15  Tost won                                                                                                      \n",
       "2019-05-16 09:38:22  0/2 0/2                                                                                                       \n",
       "2019-05-16 09:38:27  I managed to beat a tess rogue who got rain of toads and feral spirit on tess and shuffled 15 into deck LUL   \n",
       "2019-05-16 09:38:29  toast got his recount                                                                                         \n",
       "2019-05-16 09:38:34  @Shinexblazer cannot find anywhere in the rules, that the decklist will be announced.                         \n",
       "2019-05-16 09:38:53  purplewEZ                                                                                                     \n",
       "2019-05-16 09:39:02  I love watching this deck play warrior.                                                                       \n",
       "2019-05-16 09:39:11  The nuts would've been a prep-myras follow up on turn 5                                                       \n",
       "2019-05-16 09:39:12  anyone know what time the new solo adventure goes live?                                                       \n",
       "2019-05-16 09:39:21  Draw better                                                                                                   \n",
       "2019-05-16 09:39:39  20 mins                                                                                                       \n",
       "2019-05-16 09:39:41  Is t solo next week?                                                                                          \n",
       "2019-05-16 09:39:46  @fangbunnie                                                                                                   \n",
       "2019-05-16 09:39:56  thanks @MrBlack2                                                                                              \n",
       "2019-05-16 09:40:26  The Dalaran Heist will launch on May 16 between 1 and 2 p.m. EST.                                             \n",
       "2019-05-16 09:40:57  Is the solo worth $20?                                                                                        \n",
       "2019-05-16 09:41:08  Depends                                                                                                       \n",
       "2019-05-16 09:41:32  its nice that u can buy it from coins                                                                         \n",
       "2019-05-16 09:41:33  solo looks to be well worth £20                                                                               \n",
       "2019-05-16 09:41:46  @purple_hs How do you think you'll do during grandmasters saturday?                                           \n",
       "2019-05-16 09:41:51  What are the third and fourth copies                                                                          \n",
       "2019-05-16 09:42:00  it will pull both bloodsails 100%                                                                             \n",
       "2019-05-16 09:42:08  How many packs do you get from solo?                                                                          \n",
       "2019-05-16 09:42:24  Right on time                                                                                                 \n",
       "\n",
       "                              username  \n",
       "dt                                      \n",
       "2019-05-16 08:52:23  pastafarianprofit  \n",
       "2019-05-16 08:52:24  chinacat           \n",
       "2019-05-16 08:52:32  amyzhen            \n",
       "2019-05-16 08:53:07  stufficient        \n",
       "2019-05-16 08:53:24  chinacat           \n",
       "2019-05-16 08:53:57  kalorienreduziert  \n",
       "2019-05-16 08:54:17  afriendlyqueuer    \n",
       "2019-05-16 08:54:17  sonyhia            \n",
       "2019-05-16 08:55:02  mrblack2           \n",
       "2019-05-16 08:55:09  pastafarianprofit  \n",
       "2019-05-16 08:55:22  pastafarianprofit  \n",
       "2019-05-16 08:55:27  afriendlyqueuer    \n",
       "2019-05-16 08:56:02  bagdadik358        \n",
       "2019-05-16 08:56:03  streamelements     \n",
       "2019-05-16 08:56:46  geauxbigoo7        \n",
       "2019-05-16 08:56:46  streamelements     \n",
       "2019-05-16 08:56:56  ominous0rangutan   \n",
       "2019-05-16 08:56:58  bagdadik358        \n",
       "2019-05-16 08:57:01  pastafarianprofit  \n",
       "2019-05-16 08:57:02  ominous0rangutan   \n",
       "2019-05-16 08:57:02  nemfles            \n",
       "2019-05-16 08:57:03  sonyhia            \n",
       "2019-05-16 08:57:06  afriendlyqueuer    \n",
       "2019-05-16 08:57:09  chinacat           \n",
       "2019-05-16 08:57:11  colossus_geopas    \n",
       "2019-05-16 08:57:12  sebascapo          \n",
       "2019-05-16 08:57:13  theironbun         \n",
       "2019-05-16 08:57:13  fantazyst          \n",
       "2019-05-16 08:57:13  reddnes            \n",
       "2019-05-16 08:57:18  mrblack2           \n",
       "...                      ...            \n",
       "2019-05-16 09:37:03  kalorienreduziert  \n",
       "2019-05-16 09:37:44  federalist45       \n",
       "2019-05-16 09:37:49  olldontz           \n",
       "2019-05-16 09:38:07  shinexblazer       \n",
       "2019-05-16 09:38:10  chinacat           \n",
       "2019-05-16 09:38:15  knotastalker       \n",
       "2019-05-16 09:38:15  shinexblazer       \n",
       "2019-05-16 09:38:22  olldontz           \n",
       "2019-05-16 09:38:27  mrblack2           \n",
       "2019-05-16 09:38:29  bitbybitt          \n",
       "2019-05-16 09:38:34  thekerico          \n",
       "2019-05-16 09:38:53  heyitsmanzi        \n",
       "2019-05-16 09:39:02  chinacat           \n",
       "2019-05-16 09:39:11  mythandier         \n",
       "2019-05-16 09:39:12  fangbunnie         \n",
       "2019-05-16 09:39:21  chinacat           \n",
       "2019-05-16 09:39:39  mrblack2           \n",
       "2019-05-16 09:39:41  xxxp0stm4nxxx      \n",
       "2019-05-16 09:39:46  mrblack2           \n",
       "2019-05-16 09:39:56  fangbunnie         \n",
       "2019-05-16 09:40:26  thekerico          \n",
       "2019-05-16 09:40:57  xxxp0stm4nxxx      \n",
       "2019-05-16 09:41:08  archdukeofchaos    \n",
       "2019-05-16 09:41:32  mangemano          \n",
       "2019-05-16 09:41:33  mrblack2           \n",
       "2019-05-16 09:41:46  archdukeofchaos    \n",
       "2019-05-16 09:41:51  shinexblazer       \n",
       "2019-05-16 09:42:00  kalorienreduziert  \n",
       "2019-05-16 09:42:08  xxxp0stm4nxxx      \n",
       "2019-05-16 09:42:24  heyitsmanzi        \n",
       "\n",
       "[200 rows x 3 columns]"
      ]
     },
     "execution_count": 17,
     "metadata": {},
     "output_type": "execute_result"
    }
   ],
   "source": [
    "df.head(200)"
   ]
  },
  {
   "cell_type": "code",
   "execution_count": 18,
   "metadata": {},
   "outputs": [],
   "source": [
    "import pickle\n",
    "#put dataframe into a pickle for later use\n",
    "pickle.dump(df, open( \"purple_hs_chat.p\", \"wb\" ) )"
   ]
  },
  {
   "cell_type": "markdown",
   "metadata": {},
   "source": [
    "Just from streaming messages over a couple of hours we have over 10,000 rows in our DataFrame.\n",
    "\n",
    "Here's a few basic questions I'm particularly interested in:\n",
    "\n",
    "Which user commented the most during this time period?\n",
    "Which commands — words that start with ! — were used the most?\n",
    "What are the most used emotes and emojis?\n",
    "We'll use this dataset in the next article to explore these questions and more."
   ]
  },
  {
   "cell_type": "markdown",
   "metadata": {},
   "source": [
    "# From here\n",
    "We've create a basic script to monitor a single channel on Twitch and successfully parsed the data into a DataFrame.\n",
    "\n",
    "There's still many improvements that can be made. For example:\n",
    "\n",
    "Variable logging file for monitoring and comparing different channels\n",
    "Use Twitch API to retrieve live and popular channels under certain games\n",
    "Generalize script to stream chat from multiple channels at once\n",
    "Plus we need to answer those questions mentioned above and more."
   ]
  },
  {
   "cell_type": "code",
   "execution_count": 19,
   "metadata": {},
   "outputs": [],
   "source": [
    "sock.close() #closes the connection"
   ]
  },
  {
   "cell_type": "code",
   "execution_count": null,
   "metadata": {},
   "outputs": [],
   "source": []
  }
 ],
 "metadata": {
  "kernelspec": {
   "display_name": "Python 3",
   "language": "python",
   "name": "python3"
  },
  "language_info": {
   "codemirror_mode": {
    "name": "ipython",
    "version": 3
   },
   "file_extension": ".py",
   "mimetype": "text/x-python",
   "name": "python",
   "nbconvert_exporter": "python",
   "pygments_lexer": "ipython3",
   "version": "3.7.3"
  }
 },
 "nbformat": 4,
 "nbformat_minor": 2
}
